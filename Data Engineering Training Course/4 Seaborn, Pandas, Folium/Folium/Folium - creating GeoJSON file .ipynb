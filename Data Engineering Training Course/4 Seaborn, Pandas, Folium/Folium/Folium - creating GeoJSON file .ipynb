{
 "cells": [
  {
   "attachments": {},
   "cell_type": "markdown",
   "metadata": {},
   "source": [
    "# Folium\n",
    "\n",
    "Folium is a interactive map plotting library that is based on top of Leaflet.js, a popular Javascript plotting library. Since it's based on Javascript, we can easily export our plots into HTML and use them inside a website.\n",
    "\n",
    "\n",
    "Folium is a Python library for creating interactive maps visualizations. It provides a high-level interface for drawing maps using the Leaflet JavaScript library. With Folium, you can easily create maps of different styles, add markers, popups, and other features, and control the appearance of your maps.\n",
    "\n",
    "Folium is particularly useful for data visualization and exploration, as it allows you to quickly create maps to display and explore your data. You can use Folium to create choropleth maps, heat maps, and other types of visualizations, and easily integrate them into your workflow. Additionally, Folium makes it easy to export your maps to various formats, including HTML, images, and standalone interactive maps.\n",
    "\n",
    "Overall, Folium is a powerful tool for data exploration and visualization, and is widely used in the fields of geography, GIS, data science, and more.\n"
   ]
  },
  {
   "cell_type": "markdown",
   "metadata": {},
   "source": [
    "# Map Formats\n",
    "\n",
    "If we want to draw something on a map like the border of a country, or district, we need a file to specify the polygon boundaries. These come in a variety of formats but some common ones are:\n",
    "\n",
    "* Shape files\n",
    "* Geo JSON\n",
    "* TOPO JSON\n",
    "\n",
    "Shape files are the oldest format and as such are normally easier to find. Shape files for many countries can be found [here](https://gadm.org/index.html). It can be slightly trickier to find GEO JSON or TOPO JSON files online. \n",
    "\n",
    "However, many of the interactive plotting libraries we'd like to use are Javascript-based and hence normally use GEO or TOPO JSON. Thankfully, we can use PyShp to convert shape files to GEO or TOPO so we can use them with folium.  \n",
    "\n",
    "TOPO JSON is more compact than GEO JSON, as it limits redundancy by representing shared geometries together (imagine two countries with a shared border). However if file size isn't a consideration, GEO JSON is simpler and hence preferred.\n",
    "\n"
   ]
  },
  {
   "cell_type": "code",
   "execution_count": null,
   "metadata": {},
   "outputs": [],
   "source": [
    "!pip install pyshp\n",
    "import shapefile\n",
    "from json import dumps\n",
    "import json"
   ]
  },
  {
   "cell_type": "code",
   "execution_count": null,
   "metadata": {},
   "outputs": [],
   "source": [
    "infile = \"data/shapefiles/gadm36_HKG_1.shp\"\n",
    "outfile  = \"data/hk_geo.json\"\n",
    "\n",
    "def shape2json(infile,outfile):\n",
    "    # Read the shapefile\n",
    "    reader = shapefile.Reader(infile)\n",
    "    fields = reader.fields[1:]\n",
    "    field_names = [field[0] for field in fields]\n",
    "    buffer = []\n",
    "    for sr in reader.shapeRecords():\n",
    "        atr = dict(zip(field_names, sr.record))\n",
    "        geom = sr.shape.__geo_interface__\n",
    "        buffer.append(dict(type=\"Feature\", geometry=geom, properties=atr)) \n",
    "\n",
    "    # write the GeoJSON file\n",
    "    geojson = open(outfile, \"w\")\n",
    "    geojson.write(dumps({\"type\": \"FeatureCollection\", \"features\": buffer}, indent=2) + \"\\n\")\n",
    "    geojson.close()\n",
    "\n",
    "shape2json(infile,outfile)"
   ]
  },
  {
   "cell_type": "markdown",
   "metadata": {},
   "source": [
    "Let's look a little more at the structure of the geo json file."
   ]
  },
  {
   "cell_type": "code",
   "execution_count": null,
   "metadata": {},
   "outputs": [],
   "source": [
    "geojson = json.load(open(\"data/hk_geo.json\"))\n",
    "geojson.keys()"
   ]
  },
  {
   "cell_type": "markdown",
   "metadata": {},
   "source": [
    "The type is a feature collection which contains a list of 18 features. "
   ]
  },
  {
   "cell_type": "code",
   "execution_count": null,
   "metadata": {},
   "outputs": [],
   "source": [
    "geojson[\"type\"] #"
   ]
  },
  {
   "cell_type": "code",
   "execution_count": null,
   "metadata": {},
   "outputs": [],
   "source": [
    "len(geojson[\"features\"]) # list of length 18 , one for each district"
   ]
  },
  {
   "cell_type": "markdown",
   "metadata": {},
   "source": [
    "Let's look at a single feature in more detail."
   ]
  },
  {
   "cell_type": "code",
   "execution_count": null,
   "metadata": {},
   "outputs": [],
   "source": [
    "feature  = geojson[\"features\"][0]"
   ]
  },
  {
   "cell_type": "markdown",
   "metadata": {},
   "source": [
    "Each feature represents a single district and has 3 keys."
   ]
  },
  {
   "cell_type": "code",
   "execution_count": null,
   "metadata": {},
   "outputs": [],
   "source": [
    "feature.keys() "
   ]
  },
  {
   "cell_type": "markdown",
   "metadata": {},
   "source": [
    "It has a type of feature."
   ]
  },
  {
   "cell_type": "code",
   "execution_count": null,
   "metadata": {},
   "outputs": [],
   "source": [
    "feature[\"type\"]"
   ]
  },
  {
   "cell_type": "markdown",
   "metadata": {},
   "source": [
    "A geometry is like a dictionary, which specifies the type of shape and a list or coordinates."
   ]
  },
  {
   "cell_type": "code",
   "execution_count": null,
   "metadata": {},
   "outputs": [],
   "source": [
    "feature[\"geometry\"].keys()"
   ]
  },
  {
   "cell_type": "code",
   "execution_count": null,
   "metadata": {},
   "outputs": [],
   "source": [
    "feature[\"geometry\"][\"type\"]"
   ]
  },
  {
   "cell_type": "markdown",
   "metadata": {},
   "source": [
    "The coordinates are within a nested list."
   ]
  },
  {
   "cell_type": "code",
   "execution_count": null,
   "metadata": {},
   "outputs": [],
   "source": [
    "feature[\"geometry\"][\"coordinates\"][0][0][:5]"
   ]
  },
  {
   "cell_type": "markdown",
   "metadata": {},
   "source": [
    "A properties key which contains some meta data."
   ]
  },
  {
   "cell_type": "code",
   "execution_count": null,
   "metadata": {},
   "outputs": [],
   "source": [
    "geojson[\"features\"][0][\"properties\"]"
   ]
  },
  {
   "cell_type": "markdown",
   "metadata": {},
   "source": [
    "We could get the name of each district:"
   ]
  },
  {
   "cell_type": "code",
   "execution_count": null,
   "metadata": {},
   "outputs": [],
   "source": [
    "[ each[\"properties\"][\"NAME_1\"] for each in geojson[\"features\"] ]"
   ]
  },
  {
   "cell_type": "markdown",
   "metadata": {},
   "source": [
    "# Plotting\n",
    "\n",
    "Now that we've got our geo json,  we can plot it on a map."
   ]
  },
  {
   "cell_type": "code",
   "execution_count": null,
   "metadata": {},
   "outputs": [],
   "source": [
    "!pip install folium\n",
    "import folium"
   ]
  },
  {
   "cell_type": "code",
   "execution_count": null,
   "metadata": {},
   "outputs": [],
   "source": [
    "lon, lat = 22.3964, 114.1095\n",
    "hk_map = folium.Map(location=[lon, lat],\n",
    "                   tiles=\"OpenStreetMap\", zoom_start=11)\n",
    "\n",
    "#add area overlays\n",
    "folium.GeoJson(geojson).add_to(hk_map)\n",
    "hk_map"
   ]
  },
  {
   "cell_type": "markdown",
   "metadata": {},
   "source": [
    "We'll add a style function to colour each distict blue except Kowloon City which we'll colour red. The style function will get called for each feature in the feature collection."
   ]
  },
  {
   "cell_type": "code",
   "execution_count": null,
   "metadata": {},
   "outputs": [],
   "source": [
    "def style_function(x):\n",
    "    d = {\n",
    "        'color': 'black',\n",
    "        'weight': 1,\n",
    "        'dashArray': '5, 5',\n",
    "        'fillOpacity': 0.9,\n",
    "    }\n",
    "    \n",
    "    if x['properties']['NAME_1'] == \"Kowloon City\":\n",
    "        d[\"fillColor\"] =\"red\"\n",
    "    else:\n",
    "        d[\"fillColor\"] =\"blue\"\n",
    "        \n",
    "    return d"
   ]
  },
  {
   "cell_type": "markdown",
   "metadata": {},
   "source": [
    "We can change the map's appearance by changing the titles keyword."
   ]
  },
  {
   "cell_type": "code",
   "execution_count": null,
   "metadata": {},
   "outputs": [],
   "source": [
    "\n",
    "hk_map = folium.Map(location=[lon, lat],\n",
    "                   tiles='Stamen Terrain', zoom_start=11)\n",
    "\n",
    "#add area overlays\n",
    "folium.GeoJson(geojson,style_function=style_function).add_to(hk_map)\n",
    "hk_map"
   ]
  },
  {
   "cell_type": "markdown",
   "metadata": {},
   "source": [
    "For more example of maps using Follium see [here](http://nbviewer.jupyter.org/github/python-visualization/folium/tree/master/examples/)"
   ]
  }
 ],
 "metadata": {
  "kernelspec": {
   "display_name": "Python 3",
   "language": "python",
   "name": "python3"
  },
  "language_info": {
   "codemirror_mode": {
    "name": "ipython",
    "version": 3
   },
   "file_extension": ".py",
   "mimetype": "text/x-python",
   "name": "python",
   "nbconvert_exporter": "python",
   "pygments_lexer": "ipython3",
   "version": "3.7.6"
  }
 },
 "nbformat": 4,
 "nbformat_minor": 2
}
