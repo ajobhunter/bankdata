{
 "cells": [
  {
   "cell_type": "markdown",
   "metadata": {},
   "source": [
    "# Property Visualization"
   ]
  },
  {
   "cell_type": "code",
   "execution_count": 10,
   "metadata": {},
   "outputs": [],
   "source": [
    "import pandas as pd\n",
    "import matplotlib.pyplot as plt"
   ]
  },
  {
   "cell_type": "code",
   "execution_count": 11,
   "metadata": {},
   "outputs": [
    {
     "name": "stderr",
     "output_type": "stream",
     "text": [
      "C:\\Users\\USER\\AppData\\Local\\Temp\\ipykernel_15076\\570746863.py:1: DtypeWarning: Columns (21) have mixed types. Specify dtype option on import or set low_memory=False.\n",
      "  df = pd.read_csv('dataset/Hong_Kong_Clean.csv')\n"
     ]
    }
   ],
   "source": [
    "df = pd.read_csv('dataset/Hong_Kong_Clean.csv')"
   ]
  },
  {
   "cell_type": "code",
   "execution_count": 12,
   "metadata": {},
   "outputs": [
    {
     "data": {
      "text/html": [
       "<div>\n",
       "<style scoped>\n",
       "    .dataframe tbody tr th:only-of-type {\n",
       "        vertical-align: middle;\n",
       "    }\n",
       "\n",
       "    .dataframe tbody tr th {\n",
       "        vertical-align: top;\n",
       "    }\n",
       "\n",
       "    .dataframe thead th {\n",
       "        text-align: right;\n",
       "    }\n",
       "</style>\n",
       "<table border=\"1\" class=\"dataframe\">\n",
       "  <thead>\n",
       "    <tr style=\"text-align: right;\">\n",
       "      <th></th>\n",
       "      <th>Unnamed: 0</th>\n",
       "      <th>addr</th>\n",
       "      <th>sqft_area</th>\n",
       "      <th>block</th>\n",
       "      <th>district</th>\n",
       "      <th>district_id</th>\n",
       "      <th>building</th>\n",
       "      <th>contract</th>\n",
       "      <th>date</th>\n",
       "      <th>floor</th>\n",
       "      <th>...</th>\n",
       "      <th>sqft_actprice</th>\n",
       "      <th>sqft_actprice_value</th>\n",
       "      <th>sqft_price</th>\n",
       "      <th>sqft_price_value</th>\n",
       "      <th>state</th>\n",
       "      <th>winloss</th>\n",
       "      <th>winloss_flag</th>\n",
       "      <th>building_address</th>\n",
       "      <th>lat</th>\n",
       "      <th>lon</th>\n",
       "    </tr>\n",
       "  </thead>\n",
       "  <tbody>\n",
       "    <tr>\n",
       "      <th>0</th>\n",
       "      <td>0</td>\n",
       "      <td>BLOCK 4 2#/F Room F</td>\n",
       "      <td>522.0</td>\n",
       "      <td>BLOCK 4</td>\n",
       "      <td>Chai Wan</td>\n",
       "      <td>1257</td>\n",
       "      <td>Lok Hin Terrace</td>\n",
       "      <td>Agreement</td>\n",
       "      <td>2018-05-09</td>\n",
       "      <td>2.0</td>\n",
       "      <td>...</td>\n",
       "      <td>NaN</td>\n",
       "      <td>0.00</td>\n",
       "      <td>9579.0</td>\n",
       "      <td>9578.54</td>\n",
       "      <td>NaN</td>\n",
       "      <td>NaN</td>\n",
       "      <td>-1</td>\n",
       "      <td>Lok Hin Terrace Chai Wan</td>\n",
       "      <td>22.2634</td>\n",
       "      <td>114.2403</td>\n",
       "    </tr>\n",
       "    <tr>\n",
       "      <th>1</th>\n",
       "      <td>1</td>\n",
       "      <td>BLOCK 2 1/F Room J</td>\n",
       "      <td>692.0</td>\n",
       "      <td>BLOCK 2</td>\n",
       "      <td>Chai Wan</td>\n",
       "      <td>1257</td>\n",
       "      <td>Lok Hin Terrace</td>\n",
       "      <td>Agreement</td>\n",
       "      <td>2018-01-03</td>\n",
       "      <td>1.0</td>\n",
       "      <td>...</td>\n",
       "      <td>NaN</td>\n",
       "      <td>0.00</td>\n",
       "      <td>5997.0</td>\n",
       "      <td>5997.11</td>\n",
       "      <td>NaN</td>\n",
       "      <td>NaN</td>\n",
       "      <td>-1</td>\n",
       "      <td>Lok Hin Terrace Chai Wan</td>\n",
       "      <td>22.2634</td>\n",
       "      <td>114.2403</td>\n",
       "    </tr>\n",
       "    <tr>\n",
       "      <th>2</th>\n",
       "      <td>2</td>\n",
       "      <td>BLOCK 5 4/F Room J</td>\n",
       "      <td>590.0</td>\n",
       "      <td>BLOCK 5</td>\n",
       "      <td>Chai Wan</td>\n",
       "      <td>1257</td>\n",
       "      <td>Lok Hin Terrace</td>\n",
       "      <td>Agreement</td>\n",
       "      <td>2017-10-03</td>\n",
       "      <td>4.0</td>\n",
       "      <td>...</td>\n",
       "      <td>8898.0</td>\n",
       "      <td>8898.13</td>\n",
       "      <td>7254.0</td>\n",
       "      <td>7254.24</td>\n",
       "      <td>NaN</td>\n",
       "      <td>316.0</td>\n",
       "      <td>1</td>\n",
       "      <td>Lok Hin Terrace Chai Wan</td>\n",
       "      <td>22.2634</td>\n",
       "      <td>114.2403</td>\n",
       "    </tr>\n",
       "    <tr>\n",
       "      <th>3</th>\n",
       "      <td>3</td>\n",
       "      <td>BLOCK 4 1#/F Room G</td>\n",
       "      <td>712.0</td>\n",
       "      <td>BLOCK 4</td>\n",
       "      <td>Chai Wan</td>\n",
       "      <td>1257</td>\n",
       "      <td>Lok Hin Terrace</td>\n",
       "      <td>Agreement</td>\n",
       "      <td>2017-07-13</td>\n",
       "      <td>1.0</td>\n",
       "      <td>...</td>\n",
       "      <td>NaN</td>\n",
       "      <td>0.00</td>\n",
       "      <td>6865.0</td>\n",
       "      <td>6865.17</td>\n",
       "      <td>NaN</td>\n",
       "      <td>NaN</td>\n",
       "      <td>-1</td>\n",
       "      <td>Lok Hin Terrace Chai Wan</td>\n",
       "      <td>22.2634</td>\n",
       "      <td>114.2403</td>\n",
       "    </tr>\n",
       "    <tr>\n",
       "      <th>4</th>\n",
       "      <td>4</td>\n",
       "      <td>BLOCK 5 1#/F Room K</td>\n",
       "      <td>522.0</td>\n",
       "      <td>BLOCK 5</td>\n",
       "      <td>Chai Wan</td>\n",
       "      <td>1257</td>\n",
       "      <td>Lok Hin Terrace</td>\n",
       "      <td>Agreement</td>\n",
       "      <td>2017-06-29</td>\n",
       "      <td>1.0</td>\n",
       "      <td>...</td>\n",
       "      <td>NaN</td>\n",
       "      <td>0.00</td>\n",
       "      <td>5747.0</td>\n",
       "      <td>5747.13</td>\n",
       "      <td>NaN</td>\n",
       "      <td>6.0</td>\n",
       "      <td>1</td>\n",
       "      <td>Lok Hin Terrace Chai Wan</td>\n",
       "      <td>22.2634</td>\n",
       "      <td>114.2403</td>\n",
       "    </tr>\n",
       "  </tbody>\n",
       "</table>\n",
       "<p>5 rows × 27 columns</p>\n",
       "</div>"
      ],
      "text/plain": [
       "   Unnamed: 0                 addr  sqft_area    block  district  district_id  \\\n",
       "0           0  BLOCK 4 2#/F Room F      522.0  BLOCK 4  Chai Wan         1257   \n",
       "1           1   BLOCK 2 1/F Room J      692.0  BLOCK 2  Chai Wan         1257   \n",
       "2           2   BLOCK 5 4/F Room J      590.0  BLOCK 5  Chai Wan         1257   \n",
       "3           3  BLOCK 4 1#/F Room G      712.0  BLOCK 4  Chai Wan         1257   \n",
       "4           4  BLOCK 5 1#/F Room K      522.0  BLOCK 5  Chai Wan         1257   \n",
       "\n",
       "          building   contract        date  floor  ... sqft_actprice  \\\n",
       "0  Lok Hin Terrace  Agreement  2018-05-09    2.0  ...           NaN   \n",
       "1  Lok Hin Terrace  Agreement  2018-01-03    1.0  ...           NaN   \n",
       "2  Lok Hin Terrace  Agreement  2017-10-03    4.0  ...        8898.0   \n",
       "3  Lok Hin Terrace  Agreement  2017-07-13    1.0  ...           NaN   \n",
       "4  Lok Hin Terrace  Agreement  2017-06-29    1.0  ...           NaN   \n",
       "\n",
       "   sqft_actprice_value sqft_price  sqft_price_value  state winloss  \\\n",
       "0                 0.00     9579.0           9578.54    NaN     NaN   \n",
       "1                 0.00     5997.0           5997.11    NaN     NaN   \n",
       "2              8898.13     7254.0           7254.24    NaN   316.0   \n",
       "3                 0.00     6865.0           6865.17    NaN     NaN   \n",
       "4                 0.00     5747.0           5747.13    NaN     6.0   \n",
       "\n",
       "  winloss_flag          building_address      lat       lon  \n",
       "0           -1  Lok Hin Terrace Chai Wan  22.2634  114.2403  \n",
       "1           -1  Lok Hin Terrace Chai Wan  22.2634  114.2403  \n",
       "2            1  Lok Hin Terrace Chai Wan  22.2634  114.2403  \n",
       "3           -1  Lok Hin Terrace Chai Wan  22.2634  114.2403  \n",
       "4            1  Lok Hin Terrace Chai Wan  22.2634  114.2403  \n",
       "\n",
       "[5 rows x 27 columns]"
      ]
     },
     "execution_count": 12,
     "metadata": {},
     "output_type": "execute_result"
    }
   ],
   "source": [
    "df.head()"
   ]
  },
  {
   "cell_type": "code",
   "execution_count": 13,
   "metadata": {},
   "outputs": [],
   "source": [
    "df['date'] = pd.to_datetime(df['date'])\n"
   ]
  },
  {
   "cell_type": "markdown",
   "metadata": {},
   "source": [
    "**Plot a graph showing the price per square feet over the years.**"
   ]
  },
  {
   "cell_type": "code",
   "execution_count": 14,
   "metadata": {},
   "outputs": [
    {
     "data": {
      "image/png": "[encoded data removed]",
      "text/plain": [
       "<Figure size 1300x800 with 1 Axes>"
      ]
     },
     "metadata": {},
     "output_type": "display_data"
    }
   ],
   "source": [
    "fig, ax = plt.subplots(figsize=(13,8))\n"
   ]
  },
  {
   "cell_type": "markdown",
   "metadata": {},
   "source": [
    "**Plot a graph showing the area per square feet against each district.**"
   ]
  },
  {
   "cell_type": "code",
   "execution_count": 15,
   "metadata": {},
   "outputs": [
    {
     "data": {
      "text/plain": [
       "<Figure size 800x2000 with 0 Axes>"
      ]
     },
     "execution_count": 15,
     "metadata": {},
     "output_type": "execute_result"
    },
    {
     "data": {
      "text/plain": [
       "<Figure size 800x2000 with 0 Axes>"
      ]
     },
     "metadata": {},
     "output_type": "display_data"
    }
   ],
   "source": [
    "plt.figure(figsize=(8,20))\n"
   ]
  },
  {
   "cell_type": "markdown",
   "metadata": {},
   "source": [
    "**Plot a graph showing relationship between floor and the price**"
   ]
  },
  {
   "cell_type": "code",
   "execution_count": 16,
   "metadata": {},
   "outputs": [
    {
     "data": {
      "text/plain": [
       "<Figure size 1300x800 with 0 Axes>"
      ]
     },
     "execution_count": 16,
     "metadata": {},
     "output_type": "execute_result"
    },
    {
     "data": {
      "text/plain": [
       "<Figure size 1300x800 with 0 Axes>"
      ]
     },
     "metadata": {},
     "output_type": "display_data"
    }
   ],
   "source": [
    "plt.figure(figsize=(13,8))\n"
   ]
  }
 ],
 "metadata": {
  "kernelspec": {
   "display_name": "Python 3",
   "language": "python",
   "name": "python3"
  },
  "language_info": {
   "codemirror_mode": {
    "name": "ipython",
    "version": 3
   },
   "file_extension": ".py",
   "mimetype": "text/x-python",
   "name": "python",
   "nbconvert_exporter": "python",
   "pygments_lexer": "ipython3",
   "version": "3.11.5"
  }
 },
 "nbformat": 4,
 "nbformat_minor": 2
}
