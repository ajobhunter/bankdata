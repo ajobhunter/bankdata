{
  "cells": [
    {
      "cell_type": "markdown",
      "metadata": {
        "id": "cj_fisyTOD4P"
      },
      "source": [
        "# Python Data Types & Containers Exercise 1A (Compulsory)"
      ]
    },
    {
      "cell_type": "markdown",
      "metadata": {
        "id": "5MRjRMEPOD4Y"
      },
      "source": [
        "1. Assign _True_ values to variables a and b. What is the result of $a+b$?"
      ]
    },
    {
      "cell_type": "code",
      "execution_count": 1,
      "metadata": {
        "id": "6RUFfdxdOD4d"
      },
      "outputs": [
        {
          "data": {
            "text/plain": [
              "2"
            ]
          },
          "execution_count": 1,
          "metadata": {},
          "output_type": "execute_result"
        }
      ],
      "source": [
        "a = True\n",
        "b = True\n",
        "a + b"
      ]
    },
    {
      "cell_type": "markdown",
      "metadata": {
        "id": "YC-KzlllOD5K"
      },
      "source": [
        "2. Type a string that has this as its result after printing:\n",
        "\n",
        "```\n",
        "*\n",
        "* *\n",
        "* * *\n",
        "* * * *\n",
        "```"
      ]
    },
    {
      "cell_type": "code",
      "execution_count": 2,
      "metadata": {
        "id": "AcKqz2INOD5Q"
      },
      "outputs": [
        {
          "name": "stdout",
          "output_type": "stream",
          "text": [
            " *\n",
            "* *\n",
            "* * *\n",
            "* * * *\n"
          ]
        }
      ],
      "source": [
        "s = \" *\\n* *\\n* * *\\n* * * *\"\n",
        "print(s)"
      ]
    },
    {
      "cell_type": "markdown",
      "metadata": {
        "id": "UKAPxfdGOD5W"
      },
      "source": [
        "3. Given:\n",
        "```\n",
        "a = 10\n",
        "b = 15.0\n",
        "```\n",
        "What is the data type of $a+b$?"
      ]
    },
    {
      "cell_type": "code",
      "execution_count": 3,
      "metadata": {
        "id": "2rKb3rCaOD5t"
      },
      "outputs": [
        {
          "data": {
            "text/plain": [
              "float"
            ]
          },
          "execution_count": 3,
          "metadata": {},
          "output_type": "execute_result"
        }
      ],
      "source": [
        "a = 10\n",
        "b = 15.0\n",
        "c = a + b\n",
        "type(c)"
      ]
    },
    {
      "cell_type": "markdown",
      "metadata": {
        "id": "jfKorAZkOD52"
      },
      "source": [
        "4. Is ```this-variable = 0``` a correct variable assignment? If not, explain why it isn't. If it is, print out _this-variable_."
      ]
    },
    {
      "cell_type": "code",
      "execution_count": 4,
      "metadata": {
        "id": "V_Wne9qKOD54"
      },
      "outputs": [
        {
          "data": {
            "text/plain": [
              "0"
            ]
          },
          "execution_count": 4,
          "metadata": {},
          "output_type": "execute_result"
        }
      ],
      "source": [
        "this_variable = 0\n",
        "this_variable"
      ]
    },
    {
      "cell_type": "markdown",
      "metadata": {
        "id": "uO_UtGyPOD6o"
      },
      "source": [
        "5. Create a user input of an integer and change the data type to float."
      ]
    },
    {
      "cell_type": "code",
      "execution_count": 5,
      "metadata": {
        "id": "8ShdjvumOD6r"
      },
      "outputs": [
        {
          "data": {
            "text/plain": [
              "5.0"
            ]
          },
          "execution_count": 5,
          "metadata": {},
          "output_type": "execute_result"
        }
      ],
      "source": [
        "user_input = int(input())\n",
        "type(user_input)\n",
        "float(user_input)"
      ]
    },
    {
      "cell_type": "markdown",
      "metadata": {
        "id": "JYsd02aaOD65"
      },
      "source": [
        "6. Convert a user input of hours into seconds."
      ]
    },
    {
      "cell_type": "code",
      "execution_count": 6,
      "metadata": {
        "id": "p7k1bT7YOD66"
      },
      "outputs": [
        {
          "data": {
            "text/plain": [
              "3600"
            ]
          },
          "execution_count": 6,
          "metadata": {},
          "output_type": "execute_result"
        }
      ],
      "source": [
        "hours = int(input(\"input the time in hours\"))\n",
        "hours * 60 * 60"
      ]
    },
    {
      "cell_type": "markdown",
      "metadata": {
        "id": "aSYPIe3qOD7F"
      },
      "source": [
        "7. Given two numbers, return True if the sum of both numbers is less than 100. Otherwise return False."
      ]
    },
    {
      "cell_type": "code",
      "execution_count": 7,
      "metadata": {
        "id": "ifPL7JcpOD7I"
      },
      "outputs": [
        {
          "data": {
            "text/plain": [
              "False"
            ]
          },
          "execution_count": 7,
          "metadata": {},
          "output_type": "execute_result"
        }
      ],
      "source": [
        "a = 87\n",
        "b = 25\n",
        "a + b < 100"
      ]
    },
    {
      "cell_type": "markdown",
      "metadata": {
        "id": "q7L5Vf4NOD7T"
      },
      "source": [
        "8. Given that a pizza has dimensions 15cm in radius and a height of 2cm, what is its total volume?"
      ]
    },
    {
      "cell_type": "code",
      "execution_count": 8,
      "metadata": {
        "id": "7e7pxEi_OD7V"
      },
      "outputs": [
        {
          "data": {
            "text/plain": [
              "1413.7166941154069"
            ]
          },
          "execution_count": 8,
          "metadata": {},
          "output_type": "execute_result"
        }
      ],
      "source": [
        "import math\n",
        "\n",
        "radius = 15\n",
        "height = 2\n",
        "radius**2 * height * math.pi"
      ]
    }
  ],
  "metadata": {
    "colab": {
      "provenance": []
    },
    "kernelspec": {
      "display_name": "Python 3",
      "language": "python",
      "name": "python3"
    },
    "language_info": {
      "codemirror_mode": {
        "name": "ipython",
        "version": 3
      },
      "file_extension": ".py",
      "mimetype": "text/x-python",
      "name": "python",
      "nbconvert_exporter": "python",
      "pygments_lexer": "ipython3",
      "version": "3.11.5"
    }
  },
  "nbformat": 4,
  "nbformat_minor": 0
}
