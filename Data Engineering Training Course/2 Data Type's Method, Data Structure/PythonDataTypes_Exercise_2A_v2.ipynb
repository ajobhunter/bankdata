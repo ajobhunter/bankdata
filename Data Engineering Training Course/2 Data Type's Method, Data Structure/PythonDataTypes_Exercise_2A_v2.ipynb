{
  "cells": [
    {
      "cell_type": "markdown",
      "metadata": {
        "id": "P9aRb0p9_0RP"
      },
      "source": [
        "# Python Data Types & Containers Exercise 2A (Compulsory)"
      ]
    },
    {
      "cell_type": "markdown",
      "metadata": {
        "id": "dPhgZHjB_0RR"
      },
      "source": [
        "1. Is the following list assignment correct? If not, explain why it isn't. If it is, print out _this_list_.\n",
        "```\n",
        "one = 'one'\n",
        "two = 2\n",
        "three = 3\n",
        "four = 'four'\n",
        "list_1 = [\"a\", 7]\n",
        "this_list = [one, 'two', 3, four, list_1]\n",
        "```"
      ]
    },
    {
      "cell_type": "code",
      "execution_count": 9,
      "metadata": {
        "id": "gPj8yW1JQQa-",
        "outputId": "3e99a43d-1409-41cd-aa49-daad33d425e3"
      },
      "outputs": [
        {
          "name": "stdout",
          "output_type": "stream",
          "text": [
            "['one', 2, 3, 'four', ['a', 7]]\n"
          ]
        }
      ],
      "source": [
        "one = 'one'\n",
        "two = 2\n",
        "three = 3\n",
        "four = 'four'\n",
        "list_1 = [\"a\", 7]\n",
        "this_list = [one, two, three, four, list_1]\n",
        "print(this_list)"
      ]
    },
    {
      "cell_type": "markdown",
      "metadata": {
        "id": "JBgxfDs2_0RV"
      },
      "source": [
        "2. What is the set of the tuple ```(1,2,3,33,3,3,4,5)```?"
      ]
    },
    {
      "cell_type": "code",
      "execution_count": 10,
      "metadata": {
        "id": "f7FTRUFFQQbH",
        "outputId": "9c58de65-49e2-4d80-fa92-4120b2dcbaf5"
      },
      "outputs": [
        {
          "data": {
            "text/plain": [
              "{1, 2, 3, 4, 5, 33}"
            ]
          },
          "execution_count": 10,
          "metadata": {},
          "output_type": "execute_result"
        }
      ],
      "source": [
        "t = (1,2,3,33,3,3,4,5)\n",
        "set(t)"
      ]
    },
    {
      "cell_type": "markdown",
      "metadata": {
        "id": "Qiqv6oXn_0RY"
      },
      "source": [
        "3. For the dictionary ```food_counts = {'eggs':6 , 'bacon':1 , 'sausages':4}```, add a new key in the dictionary called _milk_ with value 1."
      ]
    },
    {
      "cell_type": "code",
      "execution_count": 11,
      "metadata": {
        "id": "7glH7UFjQQbM",
        "outputId": "a382f9a8-da2b-4e2f-f2a5-89f18e686184"
      },
      "outputs": [
        {
          "data": {
            "text/plain": [
              "{'eggs': 6, 'bacon': 1, 'sausages': 4, 'milk': 1}"
            ]
          },
          "execution_count": 11,
          "metadata": {},
          "output_type": "execute_result"
        }
      ],
      "source": [
        "food_counts = {'eggs':6 , 'bacon':1 , 'sausages':4}\n",
        "food_counts[\"milk\"] = 1\n",
        "food_counts"
      ]
    },
    {
      "cell_type": "markdown",
      "metadata": {
        "id": "ujc4S5jl_0Rb"
      },
      "source": [
        "4. For the string ```supercalifragilisticexpialidocious```, print out the string ```fragilistic``` using slicing."
      ]
    },
    {
      "cell_type": "code",
      "execution_count": 12,
      "metadata": {
        "id": "sEJU4jJNQQbQ",
        "outputId": "41f27eb8-89bc-47a5-8b52-f0d5f1d43fdf"
      },
      "outputs": [
        {
          "name": "stdout",
          "output_type": "stream",
          "text": [
            "True\n"
          ]
        }
      ],
      "source": [
        "s = \"supercalifragilisticexpialidocious\"\n",
        "s[9:20]\n",
        "\n",
        "if \"fragilistic\" in s:\n",
        "    print(\"True\")"
      ]
    },
    {
      "cell_type": "markdown",
      "metadata": {
        "id": "RC9LkzNb_0Rf"
      },
      "source": [
        "5. Given the dictionary ```{1: ['this', 'is', ['a', 'list']], '2': {'a': 'nother', 'd':'ictionary', '3': [1,2,3,4,5]}, 'three': ['list',{2:'woah', 3: 'good job!'}]}```\n",
        "\n",
        "Return the string _'good job'_ through indexing."
      ]
    },
    {
      "cell_type": "code",
      "execution_count": 13,
      "metadata": {
        "id": "u2mSgxvPQQbT"
      },
      "outputs": [],
      "source": [
        "dict1 = {1: ['this', 'is', ['a', 'list']], '2': {'a': 'nother', 'd':'ictionary', '3': [1,2,3,4,5]}, 'three': ['list',{2:'woah', 3: 'good job!'}]}"
      ]
    },
    {
      "cell_type": "code",
      "execution_count": 14,
      "metadata": {
        "id": "CQPh90VwmYH-"
      },
      "outputs": [
        {
          "data": {
            "text/plain": [
              "'good job'"
            ]
          },
          "execution_count": 14,
          "metadata": {},
          "output_type": "execute_result"
        }
      ],
      "source": [
        "dict1['three'][1][3][:-1]"
      ]
    },
    {
      "cell_type": "markdown",
      "metadata": {},
      "source": [
        "6. Print out the string ```reverse``` in reverse using slicing.\n",
        "```\n",
        "Desired output:\n",
        "esrever\n",
        "```"
      ]
    },
    {
      "cell_type": "code",
      "execution_count": 15,
      "metadata": {
        "id": "v6NJ9ayemsxZ"
      },
      "outputs": [
        {
          "data": {
            "text/plain": [
              "'esrever'"
            ]
          },
          "execution_count": 15,
          "metadata": {},
          "output_type": "execute_result"
        }
      ],
      "source": [
        "'reverse'[::-1]"
      ]
    },
    {
      "cell_type": "markdown",
      "metadata": {
        "id": "d66BpJcoQQbV"
      },
      "source": [
        "7. Return the total number of lists inside a given list.\n",
        "\n",
        "```\n",
        "eg.\n",
        "for [[1, 2, 3], [1, 2, 3], [1, 2, 3], [1, 2, 3]] there are 4 sub-lists inside the list\n",
        "```"
      ]
    },
    {
      "cell_type": "code",
      "execution_count": 16,
      "metadata": {
        "id": "hsTzriUNSEEM"
      },
      "outputs": [
        {
          "data": {
            "text/plain": [
              "4"
            ]
          },
          "execution_count": 16,
          "metadata": {},
          "output_type": "execute_result"
        }
      ],
      "source": [
        "len([[1, 2, 3], [1, 2, 3], [1, 2, 3], [1, 2, 3]])"
      ]
    },
    {
      "cell_type": "markdown",
      "metadata": {
        "id": "E-hp62GsQQbY"
      },
      "source": [
        "8. Return the indices of all occurrences of an item in the list.\n",
        "\n",
        "```\n",
        "eg.\n",
        "For the list [1, 5, 2, 7, 5], if we are trying to find all of the occurrences of 5, their indices are 1 and 4\n",
        "```"
      ]
    },
    {
      "cell_type": "code",
      "execution_count": 17,
      "metadata": {},
      "outputs": [
        {
          "name": "stdout",
          "output_type": "stream",
          "text": [
            "1\n",
            "4\n"
          ]
        }
      ],
      "source": [
        "lst = [1, 5, 2, 7, 5]\n",
        "el = 5\n",
        "\n",
        "index=0\n",
        "for no in lst:\n",
        "    if no==el:\n",
        "        print(index)\n",
        "    index +=1"
      ]
    },
    {
      "cell_type": "code",
      "execution_count": 18,
      "metadata": {
        "id": "_31PsPfJQQbZ",
        "outputId": "d76d3193-e616-4ddf-d717-87e2e7444d81"
      },
      "outputs": [
        {
          "name": "stdout",
          "output_type": "stream",
          "text": [
            "[1, 4]\n"
          ]
        },
        {
          "data": {
            "text/plain": [
              "[1, 4]"
            ]
          },
          "execution_count": 18,
          "metadata": {},
          "output_type": "execute_result"
        }
      ],
      "source": [
        "# method 2\n",
        "lst = [1, 5, 2, 7, 5]\n",
        "el = 5\n",
        "\n",
        "mylist=[]\n",
        "for i in range(len(lst)):\n",
        "    if lst[i] == el:\n",
        "        mylist.append(i)\n",
        "\n",
        "print(mylist)\n",
        "\n",
        "# method 2 list comprehension\n",
        "[i for i in range(len(lst)) if lst[i] == el]"
      ]
    },
    {
      "cell_type": "markdown",
      "metadata": {
        "id": "pZyFoW3tQQbb"
      },
      "source": [
        "9. Take a dictionary and return the keys and values as separate lists."
      ]
    },
    {
      "cell_type": "code",
      "execution_count": 19,
      "metadata": {
        "id": "X5NalJZfQQbb"
      },
      "outputs": [
        {
          "name": "stdout",
          "output_type": "stream",
          "text": [
            "['a', 'c', 'b'] ['Apple', 'Microsoft', 'Google']\n"
          ]
        }
      ],
      "source": [
        "d = {\"a\": \"Apple\", \"c\": \"Microsoft\", \"b\": \"Google\" }\n",
        "print(list(d.keys()),list(d.values()))"
      ]
    },
    {
      "cell_type": "code",
      "execution_count": 20,
      "metadata": {},
      "outputs": [
        {
          "data": {
            "text/plain": [
              "[('a', 'b', 'c'), ('Apple', 'Google', 'Microsoft')]"
            ]
          },
          "execution_count": 20,
          "metadata": {},
          "output_type": "execute_result"
        }
      ],
      "source": [
        "# method 2\n",
        "\n",
        "d = {\"a\": \"Apple\", \"c\": \"Microsoft\", \"b\": \"Google\" }\n",
        "list(zip(*sorted(d.items())))\n",
        "\n",
        "\n",
        "# method 3\n",
        "# list(map(list, zip(*sorted(d.items()))))"
      ]
    },
    {
      "cell_type": "code",
      "execution_count": 21,
      "metadata": {},
      "outputs": [
        {
          "data": {
            "text/plain": [
              "[(0, 'a'), (1, 'c'), (2, 'b')]"
            ]
          },
          "execution_count": 21,
          "metadata": {},
          "output_type": "execute_result"
        }
      ],
      "source": [
        "# extra info - using sorted and enumerate\n",
        "d = {\"a\": \"Apple\", \"c\": \"Microsoft\", \"b\": \"Google\"}\n",
        "sorted(d.items())\n",
        "[(i,v) for (i,v)  in enumerate(d)]"
      ]
    },
    {
      "cell_type": "markdown",
      "metadata": {
        "id": "pZEKdEcWQQbd"
      },
      "source": [
        "10. Take an integer and output an n x n square solely consisting of the integer n.\n",
        "\n",
        "```\n",
        "eg.\n",
        "For n = 3,\n",
        "the output should be\n",
        "\n",
        "3, 3, 3\n",
        "3, 3, 3\n",
        "3, 3, 3\n",
        "```"
      ]
    },
    {
      "cell_type": "code",
      "execution_count": 22,
      "metadata": {
        "id": "fVCbl_A5QQbe"
      },
      "outputs": [
        {
          "name": "stdout",
          "output_type": "stream",
          "text": [
            "3, 3, 3\n",
            "3, 3, 3\n",
            "3, 3, 3\n"
          ]
        }
      ],
      "source": [
        "# method 1\n",
        "n=3\n",
        "print(f\"{n}, {n}, {n}\")\n",
        "print(f\"{n}, {n}, {n}\")\n",
        "print(f\"{n}, {n}, {n}\")"
      ]
    },
    {
      "cell_type": "code",
      "execution_count": 23,
      "metadata": {},
      "outputs": [],
      "source": [
        "# method 2\n",
        "lst = []\n",
        "def square(n):\n",
        "    for i in range(n):\n",
        "        lst2 = []\n",
        "    for j in range(n):\n",
        "        lst2.append(n)\n",
        "        lst.append(lst2)\n",
        "    return lst"
      ]
    },
    {
      "cell_type": "code",
      "execution_count": 24,
      "metadata": {},
      "outputs": [
        {
          "data": {
            "text/plain": [
              "[[5, 5, 5, 5, 5],\n",
              " [5, 5, 5, 5, 5],\n",
              " [5, 5, 5, 5, 5],\n",
              " [5, 5, 5, 5, 5],\n",
              " [5, 5, 5, 5, 5]]"
            ]
          },
          "execution_count": 24,
          "metadata": {},
          "output_type": "execute_result"
        }
      ],
      "source": [
        "# method 3\n",
        "n = 5\n",
        "[[n]*n]*n"
      ]
    },
    {
      "cell_type": "markdown",
      "metadata": {
        "id": "rCEm2wyQQQbg"
      },
      "source": [
        "10. Given a phrase, return False if any individual word in the phrase contains duplicate letters. Return True otherwise."
      ]
    },
    {
      "cell_type": "code",
      "execution_count": 25,
      "metadata": {
        "id": "Q5UIbO7uQQbg"
      },
      "outputs": [
        {
          "name": "stdout",
          "output_type": "stream",
          "text": [
            "eee\n",
            "False\n",
            "fff\n",
            "False\n"
          ]
        }
      ],
      "source": [
        "phrase = 'abcd eee fff'\n",
        "words = phrase.split()\n",
        "for word in words:\n",
        "    if len(set(word))!=len(word):\n",
        "        print(word)\n",
        "        print('False')"
      ]
    },
    {
      "cell_type": "markdown",
      "metadata": {},
      "source": [
        "11. Given a list of sentences, print the length (including punctuation) of each sentence.\n",
        "\n",
        "```\n",
        "eg.\n",
        "['Hello, my name is Bob.', 'I am 24 years old.', 'I live in Hong Kong.']\n",
        "\n",
        "Desired output:\n",
        "22\n",
        "18\n",
        "20\n",
        "```"
      ]
    },
    {
      "cell_type": "code",
      "execution_count": 26,
      "metadata": {},
      "outputs": [
        {
          "name": "stdout",
          "output_type": "stream",
          "text": [
            "22\n",
            "18\n",
            "20\n"
          ]
        }
      ],
      "source": [
        "sentence_list = ['Hello, my name is Bob.', 'I am 24 years old.', 'I live in Hong Kong.']\n",
        "\n",
        "for i in sentence_list:\n",
        "    print(len(i))"
      ]
    }
  ],
  "metadata": {
    "colab": {
      "provenance": []
    },
    "kernelspec": {
      "display_name": "Python 3",
      "language": "python",
      "name": "python3"
    },
    "language_info": {
      "codemirror_mode": {
        "name": "ipython",
        "version": 3
      },
      "file_extension": ".py",
      "mimetype": "text/x-python",
      "name": "python",
      "nbconvert_exporter": "python",
      "pygments_lexer": "ipython3",
      "version": "3.11.5"
    }
  },
  "nbformat": 4,
  "nbformat_minor": 0
}
