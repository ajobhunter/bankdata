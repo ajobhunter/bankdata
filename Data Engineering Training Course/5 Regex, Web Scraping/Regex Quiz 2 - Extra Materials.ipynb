{
 "cells": [
  {
   "cell_type": "markdown",
   "id": "16fc0853",
   "metadata": {},
   "source": [
    "## Here are couple questions for you guys to work on :)\n",
    "\n",
    "What are the outputs of the following code?"
   ]
  },
  {
   "cell_type": "code",
   "execution_count": null,
   "id": "5cd7d96d",
   "metadata": {},
   "outputs": [],
   "source": [
    "#Q1\n",
    "\n",
    "import re\n",
    "text = \"The quick brown fox jumps over the lazy dog.\"\n",
    "\n",
    "pattern1 = r\"\\w+\"\n",
    "print(re.findall(pattern1, text))"
   ]
  },
  {
   "cell_type": "code",
   "execution_count": null,
   "id": "60ef741d",
   "metadata": {},
   "outputs": [],
   "source": [
    "#Q2\n",
    "\n",
    "pattern2 = r\"\\w{3}\"\n",
    "print(re.findall(pattern2, text))"
   ]
  },
  {
   "cell_type": "code",
   "execution_count": null,
   "id": "649c4f4f",
   "metadata": {},
   "outputs": [],
   "source": [
    "#Q3\n",
    "\n",
    "pattern3 = r\"\\w{3,}\"\n",
    "print(re.findall(pattern3, text))"
   ]
  },
  {
   "cell_type": "code",
   "execution_count": null,
   "id": "65bd032f",
   "metadata": {},
   "outputs": [],
   "source": [
    "#Q4\n",
    "\n",
    "pattern4 = r\"^The\"\n",
    "print(re.findall(pattern4, text))"
   ]
  },
  {
   "cell_type": "code",
   "execution_count": null,
   "id": "d72d7c9c",
   "metadata": {},
   "outputs": [],
   "source": [
    "#Q5\n",
    "\n",
    "pattern5 = r\"dog\\.$\"\n",
    "print(re.findall(pattern5, text))"
   ]
  },
  {
   "cell_type": "code",
   "execution_count": null,
   "id": "ff6aa017",
   "metadata": {},
   "outputs": [],
   "source": [
    "#Q6\n",
    "\n",
    "import re\n",
    "\n",
    "pattern = r\"\\d+\"\n",
    "text = \"Today is February 7, 2023.\"\n",
    "\n",
    "print(re.findall(pattern, text))"
   ]
  },
  {
   "cell_type": "code",
   "execution_count": null,
   "id": "e4c10cad",
   "metadata": {},
   "outputs": [],
   "source": [
    "#Q7\n",
    "\n",
    "pattern = r\"\\b\\w{5}\\b\"\n",
    "\n",
    "print(re.findall(pattern, text))"
   ]
  },
  {
   "cell_type": "code",
   "execution_count": null,
   "id": "056e47e7",
   "metadata": {},
   "outputs": [],
   "source": [
    "#Q8\n",
    "\n",
    "pattern = r\"\\b\\w{5,}\\b\"\n",
    "\n",
    "print(re.findall(pattern, text))"
   ]
  },
  {
   "cell_type": "code",
   "execution_count": null,
   "id": "14ef4b6c",
   "metadata": {},
   "outputs": [],
   "source": [
    "#Q9\n",
    "\n",
    "pattern = r\"^Today\"\n",
    "\n",
    "print(re.findall(pattern, text))"
   ]
  },
  {
   "cell_type": "code",
   "execution_count": null,
   "id": "667a3fd3",
   "metadata": {},
   "outputs": [],
   "source": [
    "#Q10\n",
    "\n",
    "pattern = r\",\\s\\d{4}\\.$\"\n",
    "\n",
    "print(re.findall(pattern, text))"
   ]
  }
 ],
 "metadata": {
  "kernelspec": {
   "display_name": "Python 3 (ipykernel)",
   "language": "python",
   "name": "python3"
  },
  "language_info": {
   "codemirror_mode": {
    "name": "ipython",
    "version": 3
   },
   "file_extension": ".py",
   "mimetype": "text/x-python",
   "name": "python",
   "nbconvert_exporter": "python",
   "pygments_lexer": "ipython3",
   "version": "3.9.13"
  }
 },
 "nbformat": 4,
 "nbformat_minor": 5
}
