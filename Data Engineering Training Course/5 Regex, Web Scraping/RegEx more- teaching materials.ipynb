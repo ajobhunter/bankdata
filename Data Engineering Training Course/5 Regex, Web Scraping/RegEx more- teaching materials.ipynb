{
 "cells": [
  {
   "cell_type": "markdown",
   "metadata": {},
   "source": [
    "https://regexr.com/"
   ]
  },
  {
   "cell_type": "markdown",
   "metadata": {
    "id": "1LqLFUcebQkJ"
   },
   "source": [
    "# Regex\n",
    "\n",
    "\n",
    "Regex or regular expressions are used for defining search patterns for text. This makes them extremely useful for cleaning data as we can concisely express which part or the text we want. We'll also use them when scraping websites to specify which links to follow. They have many other use cases such as password or email validation and are pretty programming language agnostic. Nearly every language has an implementation of them. Even useful command line tools like grep and sed support them. "
   ]
  },
  {
   "cell_type": "code",
   "execution_count": null,
   "metadata": {
    "executionInfo": {
     "elapsed": 15,
     "status": "ok",
     "timestamp": 1635356903808,
     "user": {
      "displayName": "Reshma Ratan",
      "photoUrl": "https://lh3.googleusercontent.com/a/default-user=s64",
      "userId": "01861163863732387654"
     },
     "user_tz": -480
    },
    "id": "5hrbo2y0bQkK"
   },
   "outputs": [],
   "source": [
    "import re"
   ]
  },
  {
   "cell_type": "markdown",
   "metadata": {
    "id": "0mNOPPbabQkN"
   },
   "source": [
    "The re module has a lots of functions, the most useful ones are briefly outlined below.\n",
    "\n",
    "* .search - search whole string for match\n",
    "* .match - match from the start of the string\n",
    "* .findall - finds all matches and return a list of strings\n",
    "* .finditer - finds all matches but returns a iterable object\n",
    "* .sub - can be used to substitute text \n",
    "* .split - used to split using a regex"
   ]
  },
  {
   "cell_type": "code",
   "execution_count": null,
   "metadata": {
    "executionInfo": {
     "elapsed": 13,
     "status": "ok",
     "timestamp": 1635356903809,
     "user": {
      "displayName": "Reshma Ratan",
      "photoUrl": "https://lh3.googleusercontent.com/a/default-user=s64",
      "userId": "01861163863732387654"
     },
     "user_tz": -480
    },
    "id": "B3mhe4ijbQkO"
   },
   "outputs": [],
   "source": [
    "pattern = \"cat\" \n",
    "s = \"the cat sat on the mat\""
   ]
  },
  {
   "cell_type": "code",
   "execution_count": null,
   "metadata": {
    "colab": {
     "base_uri": "https://localhost:8080/"
    },
    "executionInfo": {
     "elapsed": 13,
     "status": "ok",
     "timestamp": 1635356903810,
     "user": {
      "displayName": "Reshma Ratan",
      "photoUrl": "https://lh3.googleusercontent.com/a/default-user=s64",
      "userId": "01861163863732387654"
     },
     "user_tz": -480
    },
    "id": "Rt6_QxfnbQkQ",
    "outputId": "05b5f73b-8e63-4110-b364-19c60b724ec9"
   },
   "outputs": [],
   "source": [
    "m = re.search(pattern,s)\n",
    "m"
   ]
  },
  {
   "cell_type": "markdown",
   "metadata": {
    "id": "_VPI0Ic5bQkT"
   },
   "source": [
    "`.search` returns a match object which we can use to obtain our match or the position of it."
   ]
  },
  {
   "cell_type": "code",
   "execution_count": null,
   "metadata": {
    "id": "MZdEOti7bQkU",
    "outputId": "53bb3ef3-d5b9-4685-fdce-2ffa5ec2e335"
   },
   "outputs": [],
   "source": [
    "m.group()"
   ]
  },
  {
   "cell_type": "code",
   "execution_count": null,
   "metadata": {
    "id": "MJlP9raVbQkW",
    "outputId": "9ac6f841-79f0-4688-b6b7-d79d2234c993"
   },
   "outputs": [],
   "source": [
    "m.span()"
   ]
  },
  {
   "cell_type": "markdown",
   "metadata": {
    "id": "pdzRy97gbQkZ"
   },
   "source": [
    "# Character set\n",
    "\n",
    "Lets say I wanted to match all of the words that ended with 'at' in the sentence 'the cat sat on the mat'. I could use a character set `[]` to contain the letters 'c' ,'s' ,and 'm' ."
   ]
  },
  {
   "cell_type": "code",
   "execution_count": null,
   "metadata": {
    "colab": {
     "base_uri": "https://localhost:8080/"
    },
    "executionInfo": {
     "elapsed": 387,
     "status": "ok",
     "timestamp": 1635356909958,
     "user": {
      "displayName": "Reshma Ratan",
      "photoUrl": "https://lh3.googleusercontent.com/a/default-user=s64",
      "userId": "01861163863732387654"
     },
     "user_tz": -480
    },
    "id": "JZL_Zm_vbQkZ",
    "outputId": "4dee56b8-cdb2-49e2-c28e-9c22c772e714"
   },
   "outputs": [],
   "source": [
    "re.findall(r\"[csm]at\",s)"
   ]
  },
  {
   "cell_type": "markdown",
   "metadata": {
    "id": "67HlPnJFbQkc"
   },
   "source": [
    "But maybe we want the position of the matches instead."
   ]
  },
  {
   "cell_type": "code",
   "execution_count": null,
   "metadata": {
    "colab": {
     "base_uri": "https://localhost:8080/"
    },
    "executionInfo": {
     "elapsed": 9,
     "status": "ok",
     "timestamp": 1635356922897,
     "user": {
      "displayName": "Reshma Ratan",
      "photoUrl": "https://lh3.googleusercontent.com/a/default-user=s64",
      "userId": "01861163863732387654"
     },
     "user_tz": -480
    },
    "id": "5qm_jXm_bQkd",
    "outputId": "b4d8441d-b27e-4953-a394-f43879b4f004"
   },
   "outputs": [],
   "source": [
    "[ m.span() for m in re.finditer(r\"[csm]at\",s) ]"
   ]
  },
  {
   "cell_type": "markdown",
   "metadata": {
    "id": "ovkBe6D-bQkf"
   },
   "source": [
    "# Exclude sets \n",
    "\n",
    "When we use the caret `^` at the start of a character set `[]`, we'll match everything except those characters. Note the caret only has this meaning when inside a character set `[]`. Its meaning changes when used outside a character set."
   ]
  },
  {
   "cell_type": "code",
   "execution_count": null,
   "metadata": {
    "id": "X_WMYOZObQkh",
    "outputId": "ea2c95a8-c33e-407a-adc3-6add08c7593a"
   },
   "outputs": [],
   "source": [
    "re.findall(r\"[^c]at\",s) "
   ]
  },
  {
   "cell_type": "markdown",
   "metadata": {
    "id": "VFfG_de7bQkk"
   },
   "source": [
    "# Ranges\n",
    "\n",
    "Similar to the caret,  the hypen **`-`** has a special meaning when used inside a character set. It allows us to specify a range or letters or numbers. We can use ranges to specify all of the digits between 5 to 9 or all letters from a to d."
   ]
  },
  {
   "cell_type": "code",
   "execution_count": null,
   "metadata": {
    "executionInfo": {
     "elapsed": 407,
     "status": "ok",
     "timestamp": 1635356971475,
     "user": {
      "displayName": "Reshma Ratan",
      "photoUrl": "https://lh3.googleusercontent.com/a/default-user=s64",
      "userId": "01861163863732387654"
     },
     "user_tz": -480
    },
    "id": "7r-YJ5R2bQkk"
   },
   "outputs": [],
   "source": [
    "import string"
   ]
  },
  {
   "cell_type": "code",
   "execution_count": null,
   "metadata": {
    "colab": {
     "base_uri": "https://localhost:8080/",
     "height": 35
    },
    "executionInfo": {
     "elapsed": 10,
     "status": "ok",
     "timestamp": 1635356971865,
     "user": {
      "displayName": "Reshma Ratan",
      "photoUrl": "https://lh3.googleusercontent.com/a/default-user=s64",
      "userId": "01861163863732387654"
     },
     "user_tz": -480
    },
    "id": "4CvORY0kbQkn",
    "outputId": "693d6bb5-c7c7-4709-e2fd-6556ea656c51"
   },
   "outputs": [],
   "source": [
    "string.ascii_letters"
   ]
  },
  {
   "cell_type": "code",
   "execution_count": null,
   "metadata": {
    "colab": {
     "base_uri": "https://localhost:8080/",
     "height": 35
    },
    "executionInfo": {
     "elapsed": 8,
     "status": "ok",
     "timestamp": 1635356972734,
     "user": {
      "displayName": "Reshma Ratan",
      "photoUrl": "https://lh3.googleusercontent.com/a/default-user=s64",
      "userId": "01861163863732387654"
     },
     "user_tz": -480
    },
    "id": "7gopr3wRbQkq",
    "outputId": "c0fd175b-b5ae-4a79-d302-3e61d19523f6"
   },
   "outputs": [],
   "source": [
    "alphabet = string.ascii_letters\n",
    "alphabet"
   ]
  },
  {
   "cell_type": "code",
   "execution_count": null,
   "metadata": {
    "colab": {
     "base_uri": "https://localhost:8080/"
    },
    "executionInfo": {
     "elapsed": 392,
     "status": "ok",
     "timestamp": 1635356984088,
     "user": {
      "displayName": "Reshma Ratan",
      "photoUrl": "https://lh3.googleusercontent.com/a/default-user=s64",
      "userId": "01861163863732387654"
     },
     "user_tz": -480
    },
    "id": "bu6fbfspbQkr",
    "outputId": "3a24c795-f346-491b-e4a7-ad09cb6f11d1"
   },
   "outputs": [],
   "source": [
    "re.search(\"[a-z]+\",alphabet) #only matches lower case a-z"
   ]
  },
  {
   "cell_type": "code",
   "execution_count": null,
   "metadata": {
    "id": "KYTHX5I_bQku",
    "outputId": "f4d4fb41-0a22-4472-ce65-c058e17a7c88"
   },
   "outputs": [],
   "source": [
    "re.search(\"[e-z]+\",alphabet)"
   ]
  },
  {
   "cell_type": "code",
   "execution_count": null,
   "metadata": {
    "colab": {
     "base_uri": "https://localhost:8080/"
    },
    "executionInfo": {
     "elapsed": 396,
     "status": "ok",
     "timestamp": 1635357005436,
     "user": {
      "displayName": "Reshma Ratan",
      "photoUrl": "https://lh3.googleusercontent.com/a/default-user=s64",
      "userId": "01861163863732387654"
     },
     "user_tz": -480
    },
    "id": "KiyiX7WMbQkw",
    "outputId": "945722ac-8117-4008-d09e-2768e80fa30e"
   },
   "outputs": [],
   "source": [
    "re.search(\"[f-zA-C]+\",alphabet) #match lower case f to z and upper case "
   ]
  },
  {
   "cell_type": "markdown",
   "metadata": {
    "id": "Hq9xjOmnbQky"
   },
   "source": [
    " # Either\n",
    " \n",
    "The pipe `|` can be used to match either word (or character)."
   ]
  },
  {
   "cell_type": "code",
   "execution_count": null,
   "metadata": {
    "executionInfo": {
     "elapsed": 404,
     "status": "ok",
     "timestamp": 1635357016250,
     "user": {
      "displayName": "Reshma Ratan",
      "photoUrl": "https://lh3.googleusercontent.com/a/default-user=s64",
      "userId": "01861163863732387654"
     },
     "user_tz": -480
    },
    "id": "--e-xAR9bQkz"
   },
   "outputs": [],
   "source": [
    "s1 = \"The rainbow has many colors. Like, a LOT of colours.\""
   ]
  },
  {
   "cell_type": "code",
   "execution_count": null,
   "metadata": {
    "colab": {
     "base_uri": "https://localhost:8080/"
    },
    "executionInfo": {
     "elapsed": 11,
     "status": "ok",
     "timestamp": 1635357016633,
     "user": {
      "displayName": "Reshma Ratan",
      "photoUrl": "https://lh3.googleusercontent.com/a/default-user=s64",
      "userId": "01861163863732387654"
     },
     "user_tz": -480
    },
    "id": "IbXEKJpfbQk1",
    "outputId": "b54ef1db-d3cb-4432-f385-f30aae29b2db"
   },
   "outputs": [],
   "source": [
    "re.findall('color|colour',s1)"
   ]
  },
  {
   "cell_type": "markdown",
   "metadata": {
    "id": "kNMqPY_gbQk5"
   },
   "source": [
    "# Quantifiers\n",
    "\n",
    "\n",
    "Quantifiers are used to specify how many times we want to match something.\n",
    "\n",
    "* `*` - zero or more  times, e.g. ca*t --> matches 'ct', 'cat', 'caat', 'caaat' etc.\n",
    "* `+` - one or more times,  e.g. ca*t --> matches 'cat', 'caat', 'caaat' etc.\n",
    "* `?` -  one or zero times. (make the character optional)\n",
    "* `{ n }` - match exactly n times\n",
    "* `{ n , }` - match at least n times\n",
    "* `{ n , m }` - match between n to m times\n",
    "* `\\` - escapes the next character. So that you can match the special characters e.g. [ ] ( ) . * + ? ^ $ \\ |"
   ]
  },
  {
   "cell_type": "code",
   "execution_count": null,
   "metadata": {
    "colab": {
     "base_uri": "https://localhost:8080/"
    },
    "executionInfo": {
     "elapsed": 366,
     "status": "ok",
     "timestamp": 1635357056740,
     "user": {
      "displayName": "Reshma Ratan",
      "photoUrl": "https://lh3.googleusercontent.com/a/default-user=s64",
      "userId": "01861163863732387654"
     },
     "user_tz": -480
    },
    "id": "1amSBjXlbQk6",
    "outputId": "21be60f2-7297-48c7-eb96-ed9c3f63f18e"
   },
   "outputs": [],
   "source": [
    "s = \"The rainbow has many colors but not the colour silver\"\n",
    "re.findall('colou?r',s)"
   ]
  },
  {
   "cell_type": "markdown",
   "metadata": {
    "id": "GG_ppDhmbQk_"
   },
   "source": [
    "# Meta Chars\n",
    "\n",
    "Here some more symbols with special meanings.\n",
    "\n",
    "* `\\d` - match any digit same as [0-9]\n",
    "* `\\D` - anything but digits, aka [^0-9]\n",
    "* `\\w` - match any word char (a-z, A-Z, 0-9 and _'s)\n",
    "* `\\W` - match any non-word char\n",
    "* `\\s` - match white space (spaces, tabs...)\n",
    "* `\\S` - match non-white space\n",
    "* `\\t` - match tab only\n",
    "* `.`  - match any characters except a line break\n"
   ]
  },
  {
   "cell_type": "code",
   "execution_count": null,
   "metadata": {
    "id": "wKYBQK_IbQlA",
    "outputId": "246eeb0e-fc86-4235-97c0-bb1aec19ca39"
   },
   "outputs": [],
   "source": [
    "s = \"Number of bookmarks: 99 \"\n",
    "re.search('\\d+', s)"
   ]
  },
  {
   "cell_type": "code",
   "execution_count": null,
   "metadata": {
    "id": "zmsODIOpbQlE",
    "outputId": "b2ecfe2b-7f75-4af9-f317-3ec6775909bd"
   },
   "outputs": [],
   "source": [
    "re.search('(\\w+)\\s\\w+',s)"
   ]
  },
  {
   "cell_type": "code",
   "execution_count": null,
   "metadata": {
    "id": "iUYqCQofbQlH",
    "outputId": "95346947-c8e0-46f3-c579-d6c2536f9a4d"
   },
   "outputs": [],
   "source": [
    "re.search('\\D+',s)"
   ]
  },
  {
   "cell_type": "markdown",
   "metadata": {
    "id": "xyeofAc9bQlK"
   },
   "source": [
    "# Anchors\n",
    "\n",
    "Anchors allow us to specify where in the text we want the match to be.\n",
    "\n",
    "* `^` - what the string starts with\n",
    "* `$` - what the string ends with\n",
    "* `\\b` - word boundary - the end of a word is defined as being after a whitespace or non-alphanumeric character\n"
   ]
  },
  {
   "cell_type": "code",
   "execution_count": null,
   "metadata": {
    "id": "YVBg_tAKbQlK",
    "outputId": "5766d9c7-7bbb-488d-973b-05610538bd4d"
   },
   "outputs": [],
   "source": [
    "s = '700^4'\n",
    "re.search('\\d\\d\\^\\d', s )"
   ]
  },
  {
   "cell_type": "markdown",
   "metadata": {},
   "source": [
    "Using ^:\n",
    "1. [^x] - exclude x in search\n",
    "2. '\\^', or [x^] - look for this character of '^'\n",
    "3. '^x' - look for a word starting with the character x"
   ]
  },
  {
   "cell_type": "code",
   "execution_count": null,
   "metadata": {
    "id": "OEimSfXTbQlO",
    "outputId": "76e72e6a-fa67-4dd2-b021-7c8f342f82fe"
   },
   "outputs": [],
   "source": [
    "s = \"4252345adesft\"\n",
    "re.search('^\\d+',s) #only match string thats all numbers\n",
    "#using the ^ in different ways"
   ]
  },
  {
   "cell_type": "code",
   "execution_count": null,
   "metadata": {
    "id": "bhoJQKmabQlQ",
    "outputId": "2cfc15a4-5d12-47cd-de5e-239cf400c8d2"
   },
   "outputs": [],
   "source": [
    "s = \"Hello?\"\n",
    "re.search('^\\w+\\?$',s)"
   ]
  },
  {
   "cell_type": "code",
   "execution_count": null,
   "metadata": {},
   "outputs": [],
   "source": [
    "s = \"Hello? There\"\n",
    "re.search('^\\w+\\w\\?',s) #looking for the question mark, NOT for end of string"
   ]
  },
  {
   "cell_type": "code",
   "execution_count": null,
   "metadata": {
    "id": "gTm5lFzXbQlS",
    "outputId": "55338409-d891-46db-a80d-c6a2ef61740b"
   },
   "outputs": [],
   "source": [
    "s = \"This island is beautiful.\"\n",
    "re.search('is',s) #wrong is :/"
   ]
  },
  {
   "cell_type": "code",
   "execution_count": null,
   "metadata": {
    "id": "xKL05KgybQlU",
    "outputId": "664d0613-f443-45c8-de1f-5614ae110579"
   },
   "outputs": [],
   "source": [
    "re.search(r'\\bis\\b',s) #the right is :)\n",
    "#Why do we use r? r: raw strings. If we don't include this, Python considers \\b as a backspace character\n",
    "#For more info on this, see: https://docs.python.org/2/reference/lexical_analysis.html#string-literals"
   ]
  },
  {
   "cell_type": "markdown",
   "metadata": {
    "id": "WPtq6L_tbQlW"
   },
   "source": [
    "# Groups\n",
    "\n",
    "Anything contained within `()` is a group. They allow us to easily break up our pattern into separate parts. Characters would have to be matched in that exact order."
   ]
  },
  {
   "cell_type": "code",
   "execution_count": null,
   "metadata": {
    "id": "C2aXS2gUbQlX",
    "outputId": "4bd495c2-925f-4540-ef9c-5e76c4575ecc",
    "scrolled": true
   },
   "outputs": [],
   "source": [
    "s = \"a great string\"\n",
    "m = re.search('(\\w+)\\s(\\w+)\\s(\\w+)',s)\n",
    "m"
   ]
  },
  {
   "cell_type": "markdown",
   "metadata": {
    "id": "ZNpKfqhVbQlh"
   },
   "source": [
    "#  Backreferences\n",
    "\n",
    "Once we've defined a matching group, we can use backreferences to refer back to them. For example if we've defined a single matching group, we can use `\\1` to match the same text captured by that group."
   ]
  },
  {
   "cell_type": "code",
   "execution_count": null,
   "metadata": {
    "id": "YU1-scSdbQli"
   },
   "outputs": [],
   "source": [
    "s ='foo bar foo boo car'\n",
    "m = re.findall('(.ar)\\1*',s) #. - match any characters except a line break\n",
    "m"
   ]
  },
  {
   "cell_type": "markdown",
   "metadata": {
    "id": "eo2ahHJTbQln"
   },
   "source": [
    "#  Lazy Operator\n",
    "\n",
    "Normally regular expressions are greedy; meaning that they will try to find the longest string that matches the pattern. However, sometimes we don't want this behaviour. We can use `?` at the end of a matching group as a lazy operator. This means that the regex will grab as little as possible to make the match."
   ]
  },
  {
   "cell_type": "code",
   "execution_count": null,
   "metadata": {
    "id": "PjeDqsw2bQlo"
   },
   "outputs": [],
   "source": [
    "import re\n",
    "s = \"https://www.openrice.com/en/hongkong/restaurants/cuisine/thai/resturant-name/\""
   ]
  },
  {
   "cell_type": "code",
   "execution_count": null,
   "metadata": {
    "id": "i-uCWqBpbQlu",
    "outputId": "1d48c4b0-573a-4a51-8bdc-02cce20a3024"
   },
   "outputs": [],
   "source": [
    "m = re.search('cuisine/(.+)/',s)\n",
    "m #without the lazy operator"
   ]
  },
  {
   "cell_type": "code",
   "execution_count": null,
   "metadata": {
    "id": "i01V-x12bQlr",
    "outputId": "b5444256-6b6a-4186-c040-5c2e4e0e5e39"
   },
   "outputs": [],
   "source": [
    "m = re.search('cuisine/(.+?)/',s)\n",
    "m"
   ]
  },
  {
   "cell_type": "code",
   "execution_count": null,
   "metadata": {},
   "outputs": [],
   "source": [
    "s= \"The fat cat sat on the mat.\""
   ]
  },
  {
   "cell_type": "code",
   "execution_count": null,
   "metadata": {},
   "outputs": [],
   "source": [
    "m=re.search('(.*at)',s) #without the lazy operator\n",
    "m"
   ]
  },
  {
   "cell_type": "code",
   "execution_count": null,
   "metadata": {},
   "outputs": [],
   "source": [
    "m=re.search('(.*?at)',s)\n",
    "m"
   ]
  },
  {
   "cell_type": "markdown",
   "metadata": {
    "id": "NLZMEadzbQlx"
   },
   "source": [
    "# Exercises\n",
    "\n",
    "To get more familar with regex, please play one of the following games:\n",
    "\n",
    "* [Regex Golf](https://alf.nu/RegexGolf)\n",
    "* [Regex Crossword Game](https://regexcrossword.com/)"
   ]
  },
  {
   "cell_type": "markdown",
   "metadata": {
    "id": "I4DriJSLbQlx"
   },
   "source": [
    "# Resources\n",
    "\n",
    "Some extra resources\n",
    "\n",
    "* Breaking down Regex expressions: https://regexr.com/\n",
    "* [Regular Expression Info](https://www.regular-expressions.info/)\n",
    "* [Regex cheatsheet](https://www.debuggex.com/cheatsheet/regex/python)\n",
    "* [Net Ninja Regex Video Tutorials](https://www.youtube.com/watch?v=r6I-Ahc0HB4&list=PL4cUxeGkcC9g6m_6Sld9Q4jzqdqHd2HiD)\n",
    "* [Coding Train Regex Video Turorials](https://www.youtube.com/watch?v=7DG3kCDx53c&list=PLRqwX-V7Uu6YEypLuls7iidwHMdCM6o2w) \n"
   ]
  }
 ],
 "metadata": {
  "colab": {
   "name": "01-regex.ipynb",
   "provenance": []
  },
  "kernelspec": {
   "display_name": "Python 3",
   "language": "python",
   "name": "python3"
  },
  "language_info": {
   "codemirror_mode": {
    "name": "ipython",
    "version": 3
   },
   "file_extension": ".py",
   "mimetype": "text/x-python",
   "name": "python",
   "nbconvert_exporter": "python",
   "pygments_lexer": "ipython3",
   "version": "3.7.6"
  }
 },
 "nbformat": 4,
 "nbformat_minor": 1
}
