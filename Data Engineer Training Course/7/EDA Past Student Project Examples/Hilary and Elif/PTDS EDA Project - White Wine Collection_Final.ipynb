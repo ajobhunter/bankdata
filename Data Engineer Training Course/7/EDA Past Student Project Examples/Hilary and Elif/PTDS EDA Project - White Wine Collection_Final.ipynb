{
 "cells": [
  {
   "cell_type": "markdown",
   "metadata": {},
   "source": [
    "# PTDS EDA Project\n"
   ]
  },
  {
   "cell_type": "markdown",
   "metadata": {},
   "source": [
    "PTDS EDA Project\n",
    "By: Hilary Chan, Elif Ho\n",
    "\n",
    "Topic: Wine Variety Analysis\n",
    "\n",
    "Description: By using a wide range of descripitive data to analyze the white wine variety across the world.\n",
    "\n",
    "data was retrieved from Kaggle.com (https://www.kaggle.com/zhenyulin/whitewinepricerating)"
   ]
  },
  {
   "cell_type": "code",
   "execution_count": 2,
   "metadata": {},
   "outputs": [],
   "source": [
    "%matplotlib inline\n",
    "import matplotlib.pyplot as plt\n",
    "import matplotlib as mpl\n",
    "import seaborn as sns\n",
    "import pandas as pd\n",
    "import numpy as np\n",
    "sns.set(color_codes=True) #overide matplot libs ugly colours.\n",
    "mpl.rcParams['figure.figsize'] = [13, 8] #default figure size , by pixels"
   ]
  },
  {
   "cell_type": "code",
   "execution_count": 3,
   "metadata": {
    "scrolled": true
   },
   "outputs": [
    {
     "data": {
      "text/html": [
       "<div>\n",
       "<style scoped>\n",
       "    .dataframe tbody tr th:only-of-type {\n",
       "        vertical-align: middle;\n",
       "    }\n",
       "\n",
       "    .dataframe tbody tr th {\n",
       "        vertical-align: top;\n",
       "    }\n",
       "\n",
       "    .dataframe thead th {\n",
       "        text-align: right;\n",
       "    }\n",
       "</style>\n",
       "<table border=\"1\" class=\"dataframe\">\n",
       "  <thead>\n",
       "    <tr style=\"text-align: right;\">\n",
       "      <th></th>\n",
       "      <th>FullName</th>\n",
       "      <th>Winery</th>\n",
       "      <th>WineName</th>\n",
       "      <th>Year</th>\n",
       "      <th>Region</th>\n",
       "      <th>RegionalVariety</th>\n",
       "      <th>VintageRating</th>\n",
       "      <th>VintageRatingCount</th>\n",
       "      <th>WineRating</th>\n",
       "      <th>WineRatingCount</th>\n",
       "      <th>VintagePrice</th>\n",
       "      <th>WinePrice</th>\n",
       "      <th>VintageRatingPriceRatio</th>\n",
       "      <th>WineRatingPriceRatio</th>\n",
       "    </tr>\n",
       "  </thead>\n",
       "  <tbody>\n",
       "    <tr>\n",
       "      <th>0</th>\n",
       "      <td>Domaine Coche-Dury Meursault Les Rougeots 2001</td>\n",
       "      <td>Domaine Coche-Dury</td>\n",
       "      <td>Meursault Les Rougeots</td>\n",
       "      <td>2001</td>\n",
       "      <td>Burgundy</td>\n",
       "      <td>Côte de Beaune White</td>\n",
       "      <td>4.9</td>\n",
       "      <td>25</td>\n",
       "      <td>4.7</td>\n",
       "      <td>755</td>\n",
       "      <td>806.580</td>\n",
       "      <td>806.580</td>\n",
       "      <td>0.006075</td>\n",
       "      <td>0.005827</td>\n",
       "    </tr>\n",
       "    <tr>\n",
       "      <th>1</th>\n",
       "      <td>Joseph Drouhin Montrachet Grand Cru Marquis de...</td>\n",
       "      <td>Joseph Drouhin</td>\n",
       "      <td>Montrachet Grand Cru Marquis de Laguiche</td>\n",
       "      <td>2015</td>\n",
       "      <td>Burgundy</td>\n",
       "      <td>Côte de Beaune White</td>\n",
       "      <td>4.8</td>\n",
       "      <td>46</td>\n",
       "      <td>4.6</td>\n",
       "      <td>1191</td>\n",
       "      <td>680.000</td>\n",
       "      <td>680.000</td>\n",
       "      <td>0.007059</td>\n",
       "      <td>0.006765</td>\n",
       "    </tr>\n",
       "    <tr>\n",
       "      <th>2</th>\n",
       "      <td>Marcassin Marcassin Vineyard Chardonnay 2013</td>\n",
       "      <td>Marcassin</td>\n",
       "      <td>Marcassin Vineyard Chardonnay</td>\n",
       "      <td>2013</td>\n",
       "      <td>Californian</td>\n",
       "      <td>Chardonnay</td>\n",
       "      <td>4.8</td>\n",
       "      <td>28</td>\n",
       "      <td>4.6</td>\n",
       "      <td>884</td>\n",
       "      <td>448.000</td>\n",
       "      <td>448.000</td>\n",
       "      <td>0.010714</td>\n",
       "      <td>0.010268</td>\n",
       "    </tr>\n",
       "    <tr>\n",
       "      <th>3</th>\n",
       "      <td>M. Chapoutier Ermitage Le Méal Blanc 2006</td>\n",
       "      <td>M. Chapoutier</td>\n",
       "      <td>Ermitage Le Méal Blanc</td>\n",
       "      <td>2006</td>\n",
       "      <td>Northern Rhône</td>\n",
       "      <td>White</td>\n",
       "      <td>4.8</td>\n",
       "      <td>31</td>\n",
       "      <td>4.5</td>\n",
       "      <td>414</td>\n",
       "      <td>164.675</td>\n",
       "      <td>164.675</td>\n",
       "      <td>0.029148</td>\n",
       "      <td>0.027327</td>\n",
       "    </tr>\n",
       "    <tr>\n",
       "      <th>4</th>\n",
       "      <td>Domaine Coche-Dury Corton-Charlemagne Grand Cr...</td>\n",
       "      <td>Domaine Coche-Dury</td>\n",
       "      <td>Corton-Charlemagne Grand Cru</td>\n",
       "      <td>2007</td>\n",
       "      <td>Burgundy</td>\n",
       "      <td>Côte de Beaune White</td>\n",
       "      <td>4.8</td>\n",
       "      <td>35</td>\n",
       "      <td>4.7</td>\n",
       "      <td>454</td>\n",
       "      <td>3478.360</td>\n",
       "      <td>3478.360</td>\n",
       "      <td>0.001380</td>\n",
       "      <td>0.001351</td>\n",
       "    </tr>\n",
       "  </tbody>\n",
       "</table>\n",
       "</div>"
      ],
      "text/plain": [
       "                                            FullName              Winery  \\\n",
       "0     Domaine Coche-Dury Meursault Les Rougeots 2001  Domaine Coche-Dury   \n",
       "1  Joseph Drouhin Montrachet Grand Cru Marquis de...      Joseph Drouhin   \n",
       "2       Marcassin Marcassin Vineyard Chardonnay 2013           Marcassin   \n",
       "3          M. Chapoutier Ermitage Le Méal Blanc 2006       M. Chapoutier   \n",
       "4  Domaine Coche-Dury Corton-Charlemagne Grand Cr...  Domaine Coche-Dury   \n",
       "\n",
       "                                   WineName  Year          Region  \\\n",
       "0                    Meursault Les Rougeots  2001        Burgundy   \n",
       "1  Montrachet Grand Cru Marquis de Laguiche  2015        Burgundy   \n",
       "2             Marcassin Vineyard Chardonnay  2013     Californian   \n",
       "3                    Ermitage Le Méal Blanc  2006  Northern Rhône   \n",
       "4              Corton-Charlemagne Grand Cru  2007        Burgundy   \n",
       "\n",
       "        RegionalVariety  VintageRating  VintageRatingCount  WineRating  \\\n",
       "0  Côte de Beaune White            4.9                  25         4.7   \n",
       "1  Côte de Beaune White            4.8                  46         4.6   \n",
       "2            Chardonnay            4.8                  28         4.6   \n",
       "3                 White            4.8                  31         4.5   \n",
       "4  Côte de Beaune White            4.8                  35         4.7   \n",
       "\n",
       "   WineRatingCount  VintagePrice  WinePrice  VintageRatingPriceRatio  \\\n",
       "0              755       806.580    806.580                 0.006075   \n",
       "1             1191       680.000    680.000                 0.007059   \n",
       "2              884       448.000    448.000                 0.010714   \n",
       "3              414       164.675    164.675                 0.029148   \n",
       "4              454      3478.360   3478.360                 0.001380   \n",
       "\n",
       "   WineRatingPriceRatio  \n",
       "0              0.005827  \n",
       "1              0.006765  \n",
       "2              0.010268  \n",
       "3              0.027327  \n",
       "4              0.001351  "
      ]
     },
     "execution_count": 3,
     "metadata": {},
     "output_type": "execute_result"
    }
   ],
   "source": [
    "#import data\n",
    "wine_df = pd.read_csv(\"white-wine-price-rating.csv\")\n",
    "wine_df.head(5)\n"
   ]
  },
  {
   "cell_type": "markdown",
   "metadata": {},
   "source": [
    "# Data Fields Introduction (extract from Kaggle.com)\n",
    "FullName  : Winey + Wine Name + Year              \n",
    "Winery    : Name of the Winery              \n",
    "WineName  : Name of the Wine              \n",
    "Year      : Year which the wine is produced             \n",
    "Region    : Region where the wine is produced               \n",
    "RegionalVariety  : Sub-area inside the region       \n",
    "VintageRating    : average rating of this vintage        \n",
    "VintageRatingCount  :how many people have rated the vintage    \n",
    "WineRating          : average rating of all vintages    \n",
    "WineRatingCount     : how many people have rated the wine       \n",
    "VintagePrice        : GBP price/750ml (a normal bottle = 750ml)     \n",
    "WinePrice           : GBP price/750ml    \n",
    "VintageRatingPriceRatio  : Vintage Rating / VintagePrice\n",
    "WineRatingPriceRatio     : Wine Rating / WinePrice\n"
   ]
  },
  {
   "cell_type": "code",
   "execution_count": null,
   "metadata": {},
   "outputs": [],
   "source": [
    "wine_df.info()"
   ]
  },
  {
   "cell_type": "code",
   "execution_count": null,
   "metadata": {},
   "outputs": [],
   "source": [
    "wine_df.columns"
   ]
  },
  {
   "cell_type": "code",
   "execution_count": null,
   "metadata": {},
   "outputs": [],
   "source": [
    "wine_df.shape #4594 rows, 14 columns"
   ]
  },
  {
   "cell_type": "markdown",
   "metadata": {},
   "source": [
    " # Data Cleansing\n",
    "\n",
    "First, we will perform data cleansing on the imported datasets. \n",
    "\n",
    "Check how many missing value in each column"
   ]
  },
  {
   "cell_type": "code",
   "execution_count": null,
   "metadata": {},
   "outputs": [],
   "source": [
    "sns.heatmap(wine_df.isnull())"
   ]
  },
  {
   "cell_type": "code",
   "execution_count": 4,
   "metadata": {},
   "outputs": [
    {
     "name": "stdout",
     "output_type": "stream",
     "text": [
      "['FullName', 'Winery', 'WineName', 'Year', 'Region', 'RegionalVariety', 'VintageRating', 'VintageRatingCount', 'WineRating', 'WineRatingCount', 'VintagePrice', 'WinePrice', 'VintageRatingPriceRatio', 'WineRatingPriceRatio']\n",
      "\n",
      "\n",
      "[None, None, None, None, 377, 377, None, None, None, None, None, None, None, None]\n",
      "\n",
      "\n",
      "The number of missing values in each column is:\n",
      " {'FullName': None, 'Winery': None, 'WineName': None, 'Year': None, 'Region': 377, 'RegionalVariety': 377, 'VintageRating': None, 'VintageRatingCount': None, 'WineRating': None, 'WineRatingCount': None, 'VintagePrice': None, 'WinePrice': None, 'VintageRatingPriceRatio': None, 'WineRatingPriceRatio': None}\n"
     ]
    }
   ],
   "source": [
    "#List that stores the column name\n",
    "col_list=list(wine_df.columns)\n",
    "\n",
    "#Create a list that stores the number of missing values in each column\n",
    "def check_missing(col):\n",
    "    if wine_df[col].isna().sum() >0:\n",
    "         return int(wine_df[col].isna().sum()) #count how many missing values\n",
    "value_list = list(map(check_missing, col_list))\n",
    "print(col_list)\n",
    "print('\\n')\n",
    "print(value_list)\n",
    "print('\\n')\n",
    "\n",
    "miss_val_dict = {}\n",
    "for i in range(len(value_list)):\n",
    "    miss_val_dict[col_list[i]]=value_list[i]\n",
    "print('The number of missing values in each column is:\\n {}'.format(miss_val_dict))       \n"
   ]
  },
  {
   "cell_type": "markdown",
   "metadata": {},
   "source": [
    "\"Region\" and \"RegionalVariety\" contain missing values in the dataframe."
   ]
  },
  {
   "cell_type": "markdown",
   "metadata": {},
   "source": [
    "# Handle Missing Values"
   ]
  },
  {
   "cell_type": "code",
   "execution_count": 5,
   "metadata": {},
   "outputs": [
    {
     "data": {
      "text/plain": [
       "FullName                   False\n",
       "Winery                     False\n",
       "WineName                   False\n",
       "Year                       False\n",
       "Region                     False\n",
       "RegionalVariety            False\n",
       "VintageRating              False\n",
       "VintageRatingCount         False\n",
       "WineRating                 False\n",
       "WineRatingCount            False\n",
       "VintagePrice               False\n",
       "WinePrice                  False\n",
       "VintageRatingPriceRatio    False\n",
       "WineRatingPriceRatio       False\n",
       "dtype: bool"
      ]
     },
     "execution_count": 5,
     "metadata": {},
     "output_type": "execute_result"
    }
   ],
   "source": [
    "wine_df_fmt= wine_df.copy()\n",
    "\n",
    "#Filling missing values with something else\n",
    "\n",
    "wine_df_fmt.fillna({'Region':'Others','RegionalVariety':'Others'},inplace = True)\n",
    "\n",
    "wine_df_fmt.isna().any()"
   ]
  },
  {
   "cell_type": "code",
   "execution_count": null,
   "metadata": {},
   "outputs": [],
   "source": [
    "wine_df_fmt.describe()"
   ]
  },
  {
   "cell_type": "code",
   "execution_count": null,
   "metadata": {},
   "outputs": [],
   "source": [
    "wine_df_fmt['Region'].value_counts()"
   ]
  },
  {
   "cell_type": "markdown",
   "metadata": {},
   "source": [
    "# Adding / Create new data fields \n",
    "1. Price in HKD: The price is shown in GBP, adding an extra price field in HKD for reference\n",
    "2. Sweetness: Define the sweetness of each variety of white wine (Light and Sweet, Light and Zesty , Herbaceous, Bold and Dry , Bold and Sweet) \n",
    "3. Country: Base on the Region column, categorize them by Country "
   ]
  },
  {
   "cell_type": "code",
   "execution_count": null,
   "metadata": {},
   "outputs": [],
   "source": [
    "wine_df_fmt['RegionalVariety'].value_counts()"
   ]
  },
  {
   "cell_type": "code",
   "execution_count": 6,
   "metadata": {},
   "outputs": [
    {
     "name": "stdout",
     "output_type": "stream",
     "text": [
      "Chardonnay is Light and Zesty.\n",
      "Riesling is Dry and Zesty.\n",
      "dict_keys(['Saint-Péray', 'Sauvignon Blanc', 'Côte Chalonnaise White', 'Vinho Verde White', 'Rioja White', 'Pinot Blanc', 'Côte de Beaune White', 'Viognier', 'White', 'Vin Jaune', 'Torrontes', 'Moscatel', 'Albariño', 'Riesling', 'Pinot Gris', 'Müller Thurgau', 'Chenin Blanc', 'Condrieu', 'Chablis', 'Grüner Veltliner', 'Malagouzia', 'Verdejo', 'Pinot Grigio', 'White Blend', 'Muscadet', 'Grauburgunder', 'Others', 'Soave', 'Macônnais White', 'Gewürztraminer', 'Chardonnay', 'Gavi'])\n"
     ]
    },
    {
     "data": {
      "text/html": [
       "<div>\n",
       "<style scoped>\n",
       "    .dataframe tbody tr th:only-of-type {\n",
       "        vertical-align: middle;\n",
       "    }\n",
       "\n",
       "    .dataframe tbody tr th {\n",
       "        vertical-align: top;\n",
       "    }\n",
       "\n",
       "    .dataframe thead th {\n",
       "        text-align: right;\n",
       "    }\n",
       "</style>\n",
       "<table border=\"1\" class=\"dataframe\">\n",
       "  <thead>\n",
       "    <tr style=\"text-align: right;\">\n",
       "      <th></th>\n",
       "      <th>FullName</th>\n",
       "      <th>Winery</th>\n",
       "      <th>WineName</th>\n",
       "      <th>Year</th>\n",
       "      <th>Region</th>\n",
       "      <th>RegionalVariety</th>\n",
       "      <th>VintageRating</th>\n",
       "      <th>VintageRatingCount</th>\n",
       "      <th>WineRating</th>\n",
       "      <th>WineRatingCount</th>\n",
       "      <th>VintagePrice</th>\n",
       "      <th>WinePrice</th>\n",
       "      <th>VintageRatingPriceRatio</th>\n",
       "      <th>WineRatingPriceRatio</th>\n",
       "      <th>Sweetness</th>\n",
       "      <th>Price(HKD)</th>\n",
       "      <th>VintagePrice(HKD)</th>\n",
       "      <th>Country</th>\n",
       "    </tr>\n",
       "  </thead>\n",
       "  <tbody>\n",
       "    <tr>\n",
       "      <th>0</th>\n",
       "      <td>Domaine Coche-Dury Meursault Les Rougeots 2001</td>\n",
       "      <td>Domaine Coche-Dury</td>\n",
       "      <td>Meursault Les Rougeots</td>\n",
       "      <td>2001</td>\n",
       "      <td>Burgundy</td>\n",
       "      <td>Côte de Beaune White</td>\n",
       "      <td>4.9</td>\n",
       "      <td>25</td>\n",
       "      <td>4.7</td>\n",
       "      <td>755</td>\n",
       "      <td>806.580</td>\n",
       "      <td>806.580</td>\n",
       "      <td>0.006075</td>\n",
       "      <td>0.005827</td>\n",
       "      <td>Bold and Dry</td>\n",
       "      <td>8549.748</td>\n",
       "      <td>8549.748</td>\n",
       "      <td>France</td>\n",
       "    </tr>\n",
       "    <tr>\n",
       "      <th>1</th>\n",
       "      <td>Joseph Drouhin Montrachet Grand Cru Marquis de...</td>\n",
       "      <td>Joseph Drouhin</td>\n",
       "      <td>Montrachet Grand Cru Marquis de Laguiche</td>\n",
       "      <td>2015</td>\n",
       "      <td>Burgundy</td>\n",
       "      <td>Côte de Beaune White</td>\n",
       "      <td>4.8</td>\n",
       "      <td>46</td>\n",
       "      <td>4.6</td>\n",
       "      <td>1191</td>\n",
       "      <td>680.000</td>\n",
       "      <td>680.000</td>\n",
       "      <td>0.007059</td>\n",
       "      <td>0.006765</td>\n",
       "      <td>Bold and Dry</td>\n",
       "      <td>7208.000</td>\n",
       "      <td>7208.000</td>\n",
       "      <td>France</td>\n",
       "    </tr>\n",
       "    <tr>\n",
       "      <th>2</th>\n",
       "      <td>Marcassin Marcassin Vineyard Chardonnay 2013</td>\n",
       "      <td>Marcassin</td>\n",
       "      <td>Marcassin Vineyard Chardonnay</td>\n",
       "      <td>2013</td>\n",
       "      <td>Californian</td>\n",
       "      <td>Chardonnay</td>\n",
       "      <td>4.8</td>\n",
       "      <td>28</td>\n",
       "      <td>4.6</td>\n",
       "      <td>884</td>\n",
       "      <td>448.000</td>\n",
       "      <td>448.000</td>\n",
       "      <td>0.010714</td>\n",
       "      <td>0.010268</td>\n",
       "      <td>Light and Zesty</td>\n",
       "      <td>4748.800</td>\n",
       "      <td>4748.800</td>\n",
       "      <td>France</td>\n",
       "    </tr>\n",
       "    <tr>\n",
       "      <th>3</th>\n",
       "      <td>M. Chapoutier Ermitage Le Méal Blanc 2006</td>\n",
       "      <td>M. Chapoutier</td>\n",
       "      <td>Ermitage Le Méal Blanc</td>\n",
       "      <td>2006</td>\n",
       "      <td>Northern Rhône</td>\n",
       "      <td>White</td>\n",
       "      <td>4.8</td>\n",
       "      <td>31</td>\n",
       "      <td>4.5</td>\n",
       "      <td>414</td>\n",
       "      <td>164.675</td>\n",
       "      <td>164.675</td>\n",
       "      <td>0.029148</td>\n",
       "      <td>0.027327</td>\n",
       "      <td>Unclassified</td>\n",
       "      <td>1745.555</td>\n",
       "      <td>1745.555</td>\n",
       "      <td>Portugal</td>\n",
       "    </tr>\n",
       "    <tr>\n",
       "      <th>4</th>\n",
       "      <td>Domaine Coche-Dury Corton-Charlemagne Grand Cr...</td>\n",
       "      <td>Domaine Coche-Dury</td>\n",
       "      <td>Corton-Charlemagne Grand Cru</td>\n",
       "      <td>2007</td>\n",
       "      <td>Burgundy</td>\n",
       "      <td>Côte de Beaune White</td>\n",
       "      <td>4.8</td>\n",
       "      <td>35</td>\n",
       "      <td>4.7</td>\n",
       "      <td>454</td>\n",
       "      <td>3478.360</td>\n",
       "      <td>3478.360</td>\n",
       "      <td>0.001380</td>\n",
       "      <td>0.001351</td>\n",
       "      <td>Bold and Dry</td>\n",
       "      <td>36870.616</td>\n",
       "      <td>36870.616</td>\n",
       "      <td>France</td>\n",
       "    </tr>\n",
       "    <tr>\n",
       "      <th>5</th>\n",
       "      <td>Domaine Coche-Dury Corton-Charlemagne Grand Cr...</td>\n",
       "      <td>Domaine Coche-Dury</td>\n",
       "      <td>Corton-Charlemagne Grand Cru</td>\n",
       "      <td>2009</td>\n",
       "      <td>Burgundy</td>\n",
       "      <td>Côte de Beaune White</td>\n",
       "      <td>4.8</td>\n",
       "      <td>35</td>\n",
       "      <td>4.7</td>\n",
       "      <td>454</td>\n",
       "      <td>4022.800</td>\n",
       "      <td>4022.800</td>\n",
       "      <td>0.001193</td>\n",
       "      <td>0.001168</td>\n",
       "      <td>Bold and Dry</td>\n",
       "      <td>42641.680</td>\n",
       "      <td>42641.680</td>\n",
       "      <td>France</td>\n",
       "    </tr>\n",
       "    <tr>\n",
       "      <th>6</th>\n",
       "      <td>Keller G-Max Riesling 2009</td>\n",
       "      <td>Keller</td>\n",
       "      <td>G-Max Riesling</td>\n",
       "      <td>2009</td>\n",
       "      <td>German</td>\n",
       "      <td>Riesling</td>\n",
       "      <td>4.8</td>\n",
       "      <td>37</td>\n",
       "      <td>4.7</td>\n",
       "      <td>209</td>\n",
       "      <td>2420.000</td>\n",
       "      <td>2420.000</td>\n",
       "      <td>0.001983</td>\n",
       "      <td>0.001942</td>\n",
       "      <td>Dry and Zesty</td>\n",
       "      <td>25652.000</td>\n",
       "      <td>25652.000</td>\n",
       "      <td>Others</td>\n",
       "    </tr>\n",
       "    <tr>\n",
       "      <th>7</th>\n",
       "      <td>Château Haut-Brion Pessac-Léognan Blanc (Grand...</td>\n",
       "      <td>Château Haut-Brion</td>\n",
       "      <td>Pessac-Léognan Blanc (Grand Cru Classé de Graves)</td>\n",
       "      <td>2005</td>\n",
       "      <td>Bordeaux</td>\n",
       "      <td>White</td>\n",
       "      <td>4.8</td>\n",
       "      <td>39</td>\n",
       "      <td>4.5</td>\n",
       "      <td>820</td>\n",
       "      <td>864.000</td>\n",
       "      <td>864.000</td>\n",
       "      <td>0.005556</td>\n",
       "      <td>0.005208</td>\n",
       "      <td>Unclassified</td>\n",
       "      <td>9158.400</td>\n",
       "      <td>9158.400</td>\n",
       "      <td>Italy</td>\n",
       "    </tr>\n",
       "    <tr>\n",
       "      <th>8</th>\n",
       "      <td>Domaine de La Romanée-Conti Montrachet Grand C...</td>\n",
       "      <td>Domaine de La Romanée-Conti</td>\n",
       "      <td>Montrachet Grand Cru</td>\n",
       "      <td>2010</td>\n",
       "      <td>Burgundy</td>\n",
       "      <td>Côte de Beaune White</td>\n",
       "      <td>4.8</td>\n",
       "      <td>43</td>\n",
       "      <td>4.7</td>\n",
       "      <td>1348</td>\n",
       "      <td>7249.110</td>\n",
       "      <td>7249.110</td>\n",
       "      <td>0.000662</td>\n",
       "      <td>0.000648</td>\n",
       "      <td>Bold and Dry</td>\n",
       "      <td>76840.566</td>\n",
       "      <td>76840.566</td>\n",
       "      <td>France</td>\n",
       "    </tr>\n",
       "    <tr>\n",
       "      <th>9</th>\n",
       "      <td>Domaine de La Romanée-Conti Montrachet Grand C...</td>\n",
       "      <td>Domaine de La Romanée-Conti</td>\n",
       "      <td>Montrachet Grand Cru</td>\n",
       "      <td>2014</td>\n",
       "      <td>Burgundy</td>\n",
       "      <td>Côte de Beaune White</td>\n",
       "      <td>4.8</td>\n",
       "      <td>43</td>\n",
       "      <td>4.7</td>\n",
       "      <td>1348</td>\n",
       "      <td>5419.190</td>\n",
       "      <td>5419.190</td>\n",
       "      <td>0.000886</td>\n",
       "      <td>0.000867</td>\n",
       "      <td>Bold and Dry</td>\n",
       "      <td>57443.414</td>\n",
       "      <td>57443.414</td>\n",
       "      <td>France</td>\n",
       "    </tr>\n",
       "  </tbody>\n",
       "</table>\n",
       "</div>"
      ],
      "text/plain": [
       "                                            FullName  \\\n",
       "0     Domaine Coche-Dury Meursault Les Rougeots 2001   \n",
       "1  Joseph Drouhin Montrachet Grand Cru Marquis de...   \n",
       "2       Marcassin Marcassin Vineyard Chardonnay 2013   \n",
       "3          M. Chapoutier Ermitage Le Méal Blanc 2006   \n",
       "4  Domaine Coche-Dury Corton-Charlemagne Grand Cr...   \n",
       "5  Domaine Coche-Dury Corton-Charlemagne Grand Cr...   \n",
       "6                         Keller G-Max Riesling 2009   \n",
       "7  Château Haut-Brion Pessac-Léognan Blanc (Grand...   \n",
       "8  Domaine de La Romanée-Conti Montrachet Grand C...   \n",
       "9  Domaine de La Romanée-Conti Montrachet Grand C...   \n",
       "\n",
       "                        Winery  \\\n",
       "0           Domaine Coche-Dury   \n",
       "1               Joseph Drouhin   \n",
       "2                    Marcassin   \n",
       "3                M. Chapoutier   \n",
       "4           Domaine Coche-Dury   \n",
       "5           Domaine Coche-Dury   \n",
       "6                       Keller   \n",
       "7           Château Haut-Brion   \n",
       "8  Domaine de La Romanée-Conti   \n",
       "9  Domaine de La Romanée-Conti   \n",
       "\n",
       "                                            WineName  Year          Region  \\\n",
       "0                             Meursault Les Rougeots  2001        Burgundy   \n",
       "1           Montrachet Grand Cru Marquis de Laguiche  2015        Burgundy   \n",
       "2                      Marcassin Vineyard Chardonnay  2013     Californian   \n",
       "3                             Ermitage Le Méal Blanc  2006  Northern Rhône   \n",
       "4                       Corton-Charlemagne Grand Cru  2007        Burgundy   \n",
       "5                       Corton-Charlemagne Grand Cru  2009        Burgundy   \n",
       "6                                     G-Max Riesling  2009          German   \n",
       "7  Pessac-Léognan Blanc (Grand Cru Classé de Graves)  2005        Bordeaux   \n",
       "8                               Montrachet Grand Cru  2010        Burgundy   \n",
       "9                               Montrachet Grand Cru  2014        Burgundy   \n",
       "\n",
       "        RegionalVariety  VintageRating  VintageRatingCount  WineRating  \\\n",
       "0  Côte de Beaune White            4.9                  25         4.7   \n",
       "1  Côte de Beaune White            4.8                  46         4.6   \n",
       "2            Chardonnay            4.8                  28         4.6   \n",
       "3                 White            4.8                  31         4.5   \n",
       "4  Côte de Beaune White            4.8                  35         4.7   \n",
       "5  Côte de Beaune White            4.8                  35         4.7   \n",
       "6              Riesling            4.8                  37         4.7   \n",
       "7                 White            4.8                  39         4.5   \n",
       "8  Côte de Beaune White            4.8                  43         4.7   \n",
       "9  Côte de Beaune White            4.8                  43         4.7   \n",
       "\n",
       "   WineRatingCount  VintagePrice  WinePrice  VintageRatingPriceRatio  \\\n",
       "0              755       806.580    806.580                 0.006075   \n",
       "1             1191       680.000    680.000                 0.007059   \n",
       "2              884       448.000    448.000                 0.010714   \n",
       "3              414       164.675    164.675                 0.029148   \n",
       "4              454      3478.360   3478.360                 0.001380   \n",
       "5              454      4022.800   4022.800                 0.001193   \n",
       "6              209      2420.000   2420.000                 0.001983   \n",
       "7              820       864.000    864.000                 0.005556   \n",
       "8             1348      7249.110   7249.110                 0.000662   \n",
       "9             1348      5419.190   5419.190                 0.000886   \n",
       "\n",
       "   WineRatingPriceRatio        Sweetness  Price(HKD)  VintagePrice(HKD)  \\\n",
       "0              0.005827     Bold and Dry    8549.748           8549.748   \n",
       "1              0.006765     Bold and Dry    7208.000           7208.000   \n",
       "2              0.010268  Light and Zesty    4748.800           4748.800   \n",
       "3              0.027327     Unclassified    1745.555           1745.555   \n",
       "4              0.001351     Bold and Dry   36870.616          36870.616   \n",
       "5              0.001168     Bold and Dry   42641.680          42641.680   \n",
       "6              0.001942    Dry and Zesty   25652.000          25652.000   \n",
       "7              0.005208     Unclassified    9158.400           9158.400   \n",
       "8              0.000648     Bold and Dry   76840.566          76840.566   \n",
       "9              0.000867     Bold and Dry   57443.414          57443.414   \n",
       "\n",
       "    Country  \n",
       "0    France  \n",
       "1    France  \n",
       "2    France  \n",
       "3  Portugal  \n",
       "4    France  \n",
       "5    France  \n",
       "6    Others  \n",
       "7     Italy  \n",
       "8    France  \n",
       "9    France  "
      ]
     },
     "execution_count": 6,
     "metadata": {},
     "output_type": "execute_result"
    }
   ],
   "source": [
    "variety = list(set(list(wine_df_fmt['RegionalVariety'])))\n",
    "variety\n",
    "\n",
    "taste = ['Dry','Bold and Dry','Light and Sweet ','Unclassified','Light and Sweet ','Herbaceous','Bold and Dry','Light and Zesty'\\\n",
    ",'Unclassified','Light and Sweet ','Light and Sweet ','Dry and Zesty','Herbaceous','Dry and Zesty','Dry','Bold and Dry','Bold and Sweet'\\\n",
    ",'Light and Zesty','Light and Zesty','Unclassified','Light and Zesty','Bold and Dry','Unclassified','Herbaceous','Light and Sweet ','Herbaceous','Light and Sweet ','Light and Zesty','Bold and Dry','Light and Zesty','Light and Zesty','Light and Zesty'\n",
    "]\n",
    "taste\n",
    "\n",
    "sweetness_dict = {}\n",
    "for i in range(len(variety)):\n",
    "    sweetness_dict[variety[i]]=taste[i]\n",
    "sweetness_dict\n",
    "\n",
    "print('Chardonnay is {}.'.format(sweetness_dict['Chardonnay']))\n",
    "print('Riesling is {}.'.format(sweetness_dict['Riesling']))\n",
    "\n",
    "print(sweetness_dict.keys())\n",
    "\n",
    "#map back the Sweetness value from the dictionary for each row in the dataframe\n",
    "wine_df_fmt['Sweetness']=wine_df_fmt['RegionalVariety'].map(sweetness_dict)\n",
    "\n",
    "#exchange rate 1GBP = 10.60 HKD (on 2021/10/05)\n",
    "gbp_xrate = 10.6\n",
    "\n",
    "#Create the Price(in HKD) column\n",
    "wine_df_fmt['Price(HKD)'] = wine_df_fmt['WinePrice'] * gbp_xrate\n",
    "wine_df_fmt['VintagePrice(HKD)'] = wine_df_fmt['VintagePrice'] * gbp_xrate\n",
    "\n",
    "\n",
    "\n",
    "#Create the Country Column \n",
    "region = list(set(list(wine_df_fmt['Region'])))\n",
    "region\n",
    "\n",
    "country = ['Canada','Germany','Australia','Italy','France','Chile','France','France','South Africa','France','Italy','Spain'\\\n",
    ",'Portugal','Greece','France','Italy','France','USA','France','Portugal','USA','USA','France','New Zealand','Portugal','Others'\\\n",
    "           ,'Greece','Austria','Italy','Argentina','Chile','France','France']\n",
    "country\n",
    "\n",
    "country_dict = {}\n",
    "for i in range(len(region)):\n",
    "    country_dict[region[i]]=country[i]\n",
    "country_dict\n",
    "\n",
    "#map back the Country value from the dictionary for each row in the dataframe\n",
    "wine_df_fmt['Country']=wine_df_fmt['Region'].map(country_dict)\n",
    "wine_df_fmt.head(10)\n"
   ]
  },
  {
   "cell_type": "code",
   "execution_count": null,
   "metadata": {},
   "outputs": [],
   "source": [
    "wine_df_fmt['Price(HKD)'].describe()"
   ]
  },
  {
   "cell_type": "markdown",
   "metadata": {},
   "source": [
    "# General Analysis\n"
   ]
  },
  {
   "cell_type": "code",
   "execution_count": null,
   "metadata": {},
   "outputs": [],
   "source": [
    "wine_df_fmt.groupby('RegionalVariety')['Price(HKD)'].agg(['min','max','mean','median'])"
   ]
  },
  {
   "cell_type": "markdown",
   "metadata": {},
   "source": [
    "There is a bottle of Côte de Beaune White that costs more than HKD$97308.000"
   ]
  },
  {
   "cell_type": "code",
   "execution_count": null,
   "metadata": {},
   "outputs": [],
   "source": [
    "#The average price for each wine type , in HKD\n",
    "wine_df_fmt.groupby('RegionalVariety')['Price(HKD)'].mean().sort_values(ascending = False).plot(kind='bar', title=\"Mean Wine Price by each Wine Variety\") \n",
    "plt.xlabel('Regional Variety')\n",
    "plt.ylabel('Wine Price')\n",
    "plt.show()"
   ]
  },
  {
   "cell_type": "markdown",
   "metadata": {},
   "source": [
    "Conclusion :Among all wine variety, Côte de Beaune White wine cost the most on avergae."
   ]
  },
  {
   "cell_type": "code",
   "execution_count": null,
   "metadata": {},
   "outputs": [],
   "source": [
    "#The average Wine Rating for each wine type , in HKD\n",
    "wine_df_fmt.groupby('RegionalVariety')['WineRating'].mean().sort_values(ascending = False)"
   ]
  },
  {
   "cell_type": "code",
   "execution_count": null,
   "metadata": {},
   "outputs": [],
   "source": [
    "fig,ax = plt.subplots()\n",
    "wine_df_fmt.groupby('RegionalVariety')['WineRating'].mean().plot(kind='bar', title=\"Mean Wine Rating by each Wine Variety\") \n",
    "ax.set_ylim([3.5, 4.5]) # set y axis limits\n",
    "plt.xlabel('Regional Variety')\n",
    "plt.ylabel('Wine Rating')\n",
    "plt.show()"
   ]
  },
  {
   "cell_type": "markdown",
   "metadata": {},
   "source": [
    "Conclusion :White Blend has the best Wine rating on average among all wine variety."
   ]
  },
  {
   "cell_type": "markdown",
   "metadata": {},
   "source": [
    "First, we would like to see in the data, for each Sweetness type, how many different wine bottles had been rated."
   ]
  },
  {
   "cell_type": "code",
   "execution_count": null,
   "metadata": {},
   "outputs": [],
   "source": [
    "#Sweetness\n",
    "colors_list = ['#cee588', '#e3f0bb','#f3ffcc', '#f1f7dd','#f5ffd6', '#f9ffe5']\n",
    "wine_df_fmt.Sweetness.value_counts().plot(kind='bar', figsize=(9,6),color=colors_list)  #remove the \"Unclassified\" for clearer picture\n",
    "plt.title('Sweetness Distribution')\n",
    "plt.xlabel('Sweetness')\n",
    "plt.ylabel('Count of bottles')\n",
    "plt.show()\n",
    "print(wine_df_fmt.Sweetness.value_counts())"
   ]
  },
  {
   "cell_type": "markdown",
   "metadata": {},
   "source": [
    "Wines that has a bold & dry taste were being rated the most, following by wine that tasted Herbaceous and Dry. If you are a white wine enthusiast who prefer bold & dry or herbaceous taste , this should able to provide some good recommendation for you. "
   ]
  },
  {
   "cell_type": "code",
   "execution_count": null,
   "metadata": {},
   "outputs": [],
   "source": [
    "wine_df_fmt.describe()"
   ]
  },
  {
   "cell_type": "markdown",
   "metadata": {},
   "source": [
    "# Country + Winery Analysis\n",
    "\n",
    "    1. Which country has the most variety of wine\n",
    "    2. Which country has most number of winery \n",
    "    3. Which country,winery has the highest/lowest wine rating\n",
    "\n"
   ]
  },
  {
   "cell_type": "code",
   "execution_count": null,
   "metadata": {},
   "outputs": [],
   "source": [
    "wine_df_fmt['Country'].value_counts()"
   ]
  },
  {
   "cell_type": "code",
   "execution_count": null,
   "metadata": {},
   "outputs": [],
   "source": [
    "ctry_variety=wine_df_fmt.loc[:,['Country','RegionalVariety']].sort_values(by=['Country','RegionalVariety']).drop_duplicates()\n",
    "ctry_variety.reset_index(inplace=True, drop=True)\n",
    "ctry_variety.head(10)"
   ]
  },
  {
   "cell_type": "code",
   "execution_count": null,
   "metadata": {},
   "outputs": [],
   "source": [
    "#To show the number of wine variety types of each Country.\n",
    "ctry_variety.groupby('Country')['RegionalVariety'].count().sort_values(ascending=False)"
   ]
  },
  {
   "cell_type": "code",
   "execution_count": null,
   "metadata": {},
   "outputs": [],
   "source": [
    "#Chart: Bar Chart\n",
    "ctry_variety.groupby('Country')['RegionalVariety'].count().sort_values(ascending=False).plot(kind='bar',figsize = (9,6))\n",
    "plt.title('Number of Wine Variety for each Country')\n",
    "plt.xlabel('Country')\n",
    "plt.ylabel('Count')\n",
    "plt.show()"
   ]
  },
  {
   "cell_type": "markdown",
   "metadata": {},
   "source": [
    "France has the most wine variety types among all countries, following by Italy and USA."
   ]
  },
  {
   "cell_type": "code",
   "execution_count": null,
   "metadata": {},
   "outputs": [],
   "source": [
    "wine_df_fmt['WineRating'].describe()"
   ]
  },
  {
   "cell_type": "code",
   "execution_count": null,
   "metadata": {},
   "outputs": [],
   "source": [
    "wine_df_fmt.groupby(['Country','Winery'])['WineRating'].agg(['min','max','mean','median'])"
   ]
  },
  {
   "cell_type": "code",
   "execution_count": null,
   "metadata": {},
   "outputs": [],
   "source": [
    "wine_df_fmt.groupby(['Country','Winery'])['WineRating'].min().sort_values(ascending=True)"
   ]
  },
  {
   "cell_type": "markdown",
   "metadata": {},
   "source": [
    "Paradies Winery located in Germany has the lowest Wine Rating , while Domaine de La Romanée-Conti  Winery located in France has the highest Wine Rating"
   ]
  },
  {
   "cell_type": "code",
   "execution_count": null,
   "metadata": {},
   "outputs": [],
   "source": [
    "wine_df_fmt.groupby('Country')['WineRatingCount'].sum().sort_values(ascending=False).head(10)\n"
   ]
  },
  {
   "cell_type": "markdown",
   "metadata": {},
   "source": [
    "French Wine has been rated the most, following by Italian and USA wine."
   ]
  },
  {
   "cell_type": "markdown",
   "metadata": {},
   "source": [
    "# Wine / Vintage Rating Analysis\n"
   ]
  },
  {
   "cell_type": "code",
   "execution_count": null,
   "metadata": {},
   "outputs": [],
   "source": [
    "set(wine_df_fmt['Year'])"
   ]
  },
  {
   "cell_type": "code",
   "execution_count": null,
   "metadata": {},
   "outputs": [],
   "source": [
    "mpl.rcParams['figure.figsize'] = [13, 8]\n",
    "wine_bp=sns.boxplot(data = wine_df_fmt,x=\"Year\",y=\"VintagePrice(HKD)\", showfliers = False) #showfliers = False: remove outliers\n",
    "wine_bp.set_xticklabels(wine_bp.get_xticklabels(),rotation=30)"
   ]
  },
  {
   "cell_type": "code",
   "execution_count": null,
   "metadata": {},
   "outputs": [],
   "source": [
    "wine_df_fmt.loc[:,['WineName','Year']].sort_values(by=['WineName','Year'],ascending=True)"
   ]
  },
  {
   "cell_type": "code",
   "execution_count": null,
   "metadata": {},
   "outputs": [],
   "source": [
    "#The top 10 Vintage (=Year) \n",
    "wine_df_fmt.groupby(['Year']).VintageRating.mean().sort_values(ascending=False).head(10)"
   ]
  },
  {
   "cell_type": "code",
   "execution_count": null,
   "metadata": {},
   "outputs": [],
   "source": [
    "wine_df_fmt.groupby(['WineName','Year','VintagePrice(HKD)']).VintageRating.mean().sort_values(ascending=False).head(10)"
   ]
  },
  {
   "cell_type": "markdown",
   "metadata": {},
   "source": [
    "Although by looking at the top 10 Vintage result, Year 1986 had the highest Vintage Rating in general. However, by looking at each Wine bottle individually, Wine Unendlich Riesling 2017 and Meursault Les Rougeots  2001 had the highest Vintage Rating."
   ]
  },
  {
   "cell_type": "code",
   "execution_count": null,
   "metadata": {},
   "outputs": [],
   "source": [
    "wine_df_fmt.groupby(['VintageRating'])['VintagePrice(HKD)'].mean().sort_values(ascending=False).head(10)"
   ]
  },
  {
   "cell_type": "code",
   "execution_count": null,
   "metadata": {},
   "outputs": [],
   "source": [
    "wine_df_fmt[wine_df_fmt['VintageRating']==4.9]['VintagePrice(HKD)'].min()"
   ]
  },
  {
   "cell_type": "code",
   "execution_count": null,
   "metadata": {},
   "outputs": [],
   "source": [
    "wine_df_fmt[wine_df_fmt['VintageRating']==4.9]['VintagePrice(HKD)'].max()"
   ]
  },
  {
   "cell_type": "markdown",
   "metadata": {},
   "source": [
    "Conclusion: By looking at the mean of each Vintage Rating scale, we concluded that there is no positive relationship between price and Vintage Rating. The higher the price, does not mean it has higher Vintage rating."
   ]
  },
  {
   "cell_type": "code",
   "execution_count": null,
   "metadata": {},
   "outputs": [],
   "source": [
    "wine_df_fmt.loc[:,['WineName','Year','Price(HKD)']].sort_values(by='Price(HKD)',ascending=False).head(10)"
   ]
  },
  {
   "cell_type": "markdown",
   "metadata": {},
   "source": [
    "Montrachet Grand Cru Wine occupied the Top 10 most expensive wine among the 5k wine selection. "
   ]
  },
  {
   "cell_type": "code",
   "execution_count": null,
   "metadata": {},
   "outputs": [],
   "source": [
    "wine_df_fmt.loc[:,['WineName','Year','Price(HKD)']].sort_values(by='Price(HKD)',ascending=False).tail(10)"
   ]
  },
  {
   "cell_type": "markdown",
   "metadata": {},
   "source": [
    "On the other hand, the above table showed the cheapest 10 bottles. "
   ]
  },
  {
   "cell_type": "markdown",
   "metadata": {},
   "source": [
    "# White Wine Selection Tool\n",
    "This tool will provide some recommendation base on their preference (Price, Country, Sweetness) \n",
    "User will be asked to answer several questions, then return the recommended wine name"
   ]
  },
  {
   "cell_type": "code",
   "execution_count": 13,
   "metadata": {},
   "outputs": [
    {
     "name": "stdout",
     "output_type": "stream",
     "text": [
      "Welcome to the White Wine Selection Tool\n",
      "\n",
      "Please answer the following questions to get the best white wine recommendation\n",
      "\n",
      "What is your budget? Please enter range from HKD $100 to HKD$100,000\t\n",
      "Minimum:500\n",
      "Maximum:5000\n",
      "How sweet do you prefer?\n",
      " Choose from Bold and Dry/ Light and Zesty/ Light and Sweet/ Herbaceous/ Bold and Sweet/ Dry and Zesty/ Dry:\tBold and Dry\n",
      "\n",
      "The Country list is ['France', 'Portugal', 'Others', 'Italy', 'USA', 'New Zealand', 'Chile', 'Argentina', 'Canada', 'Spain', 'Greece', 'Australia', 'Austria', 'Germany', 'South Africa']\n",
      "\n",
      "If you do not have any country preference, Please type 'None'\n",
      "Which country's white wine do you prefer? (Do not type the ''):\tNone\n",
      "\n",
      "Your input is:\n",
      " Minimum Amount:500 \n",
      " Maximum Amount: 5000 \n",
      " Country:None\n",
      "\n",
      "Here are your suggestions. (We will show the top 10 rated)\n",
      "\n"
     ]
    },
    {
     "data": {
      "text/html": [
       "<div>\n",
       "<style scoped>\n",
       "    .dataframe tbody tr th:only-of-type {\n",
       "        vertical-align: middle;\n",
       "    }\n",
       "\n",
       "    .dataframe tbody tr th {\n",
       "        vertical-align: top;\n",
       "    }\n",
       "\n",
       "    .dataframe thead th {\n",
       "        text-align: right;\n",
       "    }\n",
       "</style>\n",
       "<table border=\"1\" class=\"dataframe\">\n",
       "  <thead>\n",
       "    <tr style=\"text-align: right;\">\n",
       "      <th></th>\n",
       "      <th>FullName</th>\n",
       "      <th>Year</th>\n",
       "      <th>Country</th>\n",
       "      <th>Winery</th>\n",
       "      <th>RegionalVariety</th>\n",
       "      <th>Sweetness</th>\n",
       "      <th>Price(HKD)</th>\n",
       "      <th>WineRating</th>\n",
       "    </tr>\n",
       "  </thead>\n",
       "  <tbody>\n",
       "    <tr>\n",
       "      <th>477</th>\n",
       "      <td>Domaine des Comtes Lafon Meursault-Porusots Pr...</td>\n",
       "      <td>2011</td>\n",
       "      <td>France</td>\n",
       "      <td>Domaine des Comtes Lafon</td>\n",
       "      <td>Côte de Beaune White</td>\n",
       "      <td>Bold and Dry</td>\n",
       "      <td>2030.536</td>\n",
       "      <td>4.6</td>\n",
       "    </tr>\n",
       "    <tr>\n",
       "      <th>42</th>\n",
       "      <td>Olivier Leflaive Montrachet Grand Cru 2011</td>\n",
       "      <td>2011</td>\n",
       "      <td>France</td>\n",
       "      <td>Olivier Leflaive</td>\n",
       "      <td>Côte de Beaune White</td>\n",
       "      <td>Bold and Dry</td>\n",
       "      <td>4222.298</td>\n",
       "      <td>4.6</td>\n",
       "    </tr>\n",
       "    <tr>\n",
       "      <th>109</th>\n",
       "      <td>Domaine Leflaive Chevalier-Montrachet Grand Cr...</td>\n",
       "      <td>2003</td>\n",
       "      <td>France</td>\n",
       "      <td>Domaine Leflaive</td>\n",
       "      <td>Côte de Beaune White</td>\n",
       "      <td>Bold and Dry</td>\n",
       "      <td>4853.740</td>\n",
       "      <td>4.6</td>\n",
       "    </tr>\n",
       "    <tr>\n",
       "      <th>73</th>\n",
       "      <td>Domaine Leflaive Chevalier-Montrachet Grand Cr...</td>\n",
       "      <td>2009</td>\n",
       "      <td>France</td>\n",
       "      <td>Domaine Leflaive</td>\n",
       "      <td>Côte de Beaune White</td>\n",
       "      <td>Bold and Dry</td>\n",
       "      <td>4876.000</td>\n",
       "      <td>4.6</td>\n",
       "    </tr>\n",
       "    <tr>\n",
       "      <th>98</th>\n",
       "      <td>Domaine Coche-Dury Puligny-Montrachet Les Ense...</td>\n",
       "      <td>2009</td>\n",
       "      <td>France</td>\n",
       "      <td>Domaine Coche-Dury</td>\n",
       "      <td>Côte de Beaune White</td>\n",
       "      <td>Bold and Dry</td>\n",
       "      <td>4746.892</td>\n",
       "      <td>4.6</td>\n",
       "    </tr>\n",
       "    <tr>\n",
       "      <th>48</th>\n",
       "      <td>Joseph Drouhin Montrachet Grand Cru Marquis de...</td>\n",
       "      <td>1998</td>\n",
       "      <td>France</td>\n",
       "      <td>Joseph Drouhin</td>\n",
       "      <td>Côte de Beaune White</td>\n",
       "      <td>Bold and Dry</td>\n",
       "      <td>3710.000</td>\n",
       "      <td>4.6</td>\n",
       "    </tr>\n",
       "    <tr>\n",
       "      <th>190</th>\n",
       "      <td>Joseph Drouhin Montrachet Grand Cru Marquis de...</td>\n",
       "      <td>2003</td>\n",
       "      <td>France</td>\n",
       "      <td>Joseph Drouhin</td>\n",
       "      <td>Côte de Beaune White</td>\n",
       "      <td>Bold and Dry</td>\n",
       "      <td>3295.222</td>\n",
       "      <td>4.6</td>\n",
       "    </tr>\n",
       "    <tr>\n",
       "      <th>145</th>\n",
       "      <td>Domaine Leflaive Chevalier-Montrachet Grand Cr...</td>\n",
       "      <td>2008</td>\n",
       "      <td>France</td>\n",
       "      <td>Domaine Leflaive</td>\n",
       "      <td>Côte de Beaune White</td>\n",
       "      <td>Bold and Dry</td>\n",
       "      <td>4770.000</td>\n",
       "      <td>4.6</td>\n",
       "    </tr>\n",
       "    <tr>\n",
       "      <th>178</th>\n",
       "      <td>Domaine Coche-Dury Meursault Blanc 2016</td>\n",
       "      <td>2016</td>\n",
       "      <td>France</td>\n",
       "      <td>Domaine Coche-Dury</td>\n",
       "      <td>Côte de Beaune White</td>\n",
       "      <td>Bold and Dry</td>\n",
       "      <td>3909.704</td>\n",
       "      <td>4.5</td>\n",
       "    </tr>\n",
       "    <tr>\n",
       "      <th>179</th>\n",
       "      <td>Domaine Leflaive Bienvenues-Bâtard-Montrachet ...</td>\n",
       "      <td>2009</td>\n",
       "      <td>France</td>\n",
       "      <td>Domaine Leflaive</td>\n",
       "      <td>Côte de Beaune White</td>\n",
       "      <td>Bold and Dry</td>\n",
       "      <td>3879.600</td>\n",
       "      <td>4.5</td>\n",
       "    </tr>\n",
       "  </tbody>\n",
       "</table>\n",
       "</div>"
      ],
      "text/plain": [
       "                                              FullName  Year Country  \\\n",
       "477  Domaine des Comtes Lafon Meursault-Porusots Pr...  2011  France   \n",
       "42          Olivier Leflaive Montrachet Grand Cru 2011  2011  France   \n",
       "109  Domaine Leflaive Chevalier-Montrachet Grand Cr...  2003  France   \n",
       "73   Domaine Leflaive Chevalier-Montrachet Grand Cr...  2009  France   \n",
       "98   Domaine Coche-Dury Puligny-Montrachet Les Ense...  2009  France   \n",
       "48   Joseph Drouhin Montrachet Grand Cru Marquis de...  1998  France   \n",
       "190  Joseph Drouhin Montrachet Grand Cru Marquis de...  2003  France   \n",
       "145  Domaine Leflaive Chevalier-Montrachet Grand Cr...  2008  France   \n",
       "178            Domaine Coche-Dury Meursault Blanc 2016  2016  France   \n",
       "179  Domaine Leflaive Bienvenues-Bâtard-Montrachet ...  2009  France   \n",
       "\n",
       "                       Winery       RegionalVariety     Sweetness  Price(HKD)  \\\n",
       "477  Domaine des Comtes Lafon  Côte de Beaune White  Bold and Dry    2030.536   \n",
       "42           Olivier Leflaive  Côte de Beaune White  Bold and Dry    4222.298   \n",
       "109          Domaine Leflaive  Côte de Beaune White  Bold and Dry    4853.740   \n",
       "73           Domaine Leflaive  Côte de Beaune White  Bold and Dry    4876.000   \n",
       "98         Domaine Coche-Dury  Côte de Beaune White  Bold and Dry    4746.892   \n",
       "48             Joseph Drouhin  Côte de Beaune White  Bold and Dry    3710.000   \n",
       "190            Joseph Drouhin  Côte de Beaune White  Bold and Dry    3295.222   \n",
       "145          Domaine Leflaive  Côte de Beaune White  Bold and Dry    4770.000   \n",
       "178        Domaine Coche-Dury  Côte de Beaune White  Bold and Dry    3909.704   \n",
       "179          Domaine Leflaive  Côte de Beaune White  Bold and Dry    3879.600   \n",
       "\n",
       "     WineRating  \n",
       "477         4.6  \n",
       "42          4.6  \n",
       "109         4.6  \n",
       "73          4.6  \n",
       "98          4.6  \n",
       "48          4.6  \n",
       "190         4.6  \n",
       "145         4.6  \n",
       "178         4.5  \n",
       "179         4.5  "
      ]
     },
     "metadata": {},
     "output_type": "display_data"
    },
    {
     "name": "stdout",
     "output_type": "stream",
     "text": [
      "Thank You for using the tool. See you next time!\n"
     ]
    }
   ],
   "source": [
    "Exit = False \n",
    "sweetness = ['Bold and Dry' , 'Light and Zesty', 'Light and Sweet', 'Herbaceous', 'Bold and Sweet', 'Dry and Zesty', 'Dry']\n",
    "ctry_list = list(wine_df_fmt['Country'].unique())\n",
    "\n",
    "def q1():\n",
    "    print('What is your budget? Please enter range from HKD $100 to HKD$100,000\\t')\n",
    "    minimum = input('Minimum:')\n",
    "    maximum =input('Maximum:')\n",
    "    \n",
    "    if minimum.isdigit() == False:\n",
    "        print('Wrong Input\\t')\n",
    "        print('Please enter range from HKD $100 to HKD$100,000:\\t')\n",
    "        return q1()\n",
    "    if int(minimum) < 100 or int(minimum) > 100000:\n",
    "        print(\"Out of range.\\t\")\n",
    "        print('Please enter range from HKD $100 to HKD$100,000:\\t')\n",
    "        return q1()\n",
    "    if maximum.isdigit() == False:\n",
    "        print('Wrong Input\\t')\n",
    "        print('Please enter range from HKD $100 to HKD$100,000:\\t')\n",
    "        return q1()\n",
    "    if int(maximum) < 100 or int(maximum) > 100000:\n",
    "        print(\"Out of range.\\t\")\n",
    "        print('Please enter range from HKD $100 to HKD$100,000:\\t')\n",
    "        return q1()\n",
    "    if int(minimum) > int(maximum):\n",
    "        print(\"Your minimum price should not be greater than your maximum price.\\t\")\n",
    "        print('Please enter range from HKD $100 to HKD$100,000:\\t')\n",
    "        return q1()\n",
    "    else:\n",
    "        return minimum, maximum\n",
    "#q1();\n",
    "\n",
    "def q2():\n",
    "    question2 = input('How sweet do you prefer?\\n Choose from Bold and Dry/ Light and Zesty/ Light and Sweet/ Herbaceous/ Bold and Sweet/ Dry and Zesty/ Dry:\\t')\n",
    "    if question2.replace(\" \",'').isalpha == False: #remove the whitespace and check if all are alphabets\n",
    "        print('Wrong Input! Please re-enter.\\t')\n",
    "        return q2()\n",
    "    else:\n",
    "        return question2\n",
    "#q2();\n",
    "\n",
    "def q3():\n",
    "    print('\\nThe Country list is {}\\n'.format(ctry_list))\n",
    "    print(\"If you do not have any country preference, Please type 'None'\")\n",
    "    question3 = input(\"Which country's white wine do you prefer? (Do not type the ''):\\t\")\n",
    "    if question3.replace(\" \",'').isalpha == False:\n",
    "        print('Wrong Input! Please re-enter.\\t')\n",
    "        return q3()\n",
    "    else:\n",
    "        return question3\n",
    "\n",
    "#q3();\n",
    "\n",
    "user_input={}\n",
    "print('Welcome to the White Wine Selection Tool\\n')\n",
    "while not Exit:\n",
    "    print('Please answer the following questions to get the best white wine recommendation\\n')\n",
    "    user_min,user_max = q1()\n",
    "    user_input['Amount_Min'] = user_min\n",
    "    user_input['Amount_Max'] =user_max\n",
    "    \n",
    "    sweetness = q2()\n",
    "    user_input['Sweetness']= sweetness\n",
    "    \n",
    "    country = q3()\n",
    "    user_input['Country']= country\n",
    "    break;\n",
    "\n",
    "print('\\nYour input is:\\n Minimum Amount:{} \\n Maximum Amount: {} \\n Country:{}\\n'.format(user_input['Amount_Min'],user_input['Amount_Max'],user_input['Country']))\n",
    "\n",
    "#Extract the records base on the user input , return suggestions\n",
    "#No Country Preference or didn't enter the correct Country name\n",
    "selection1 =   (wine_df_fmt['Price(HKD)'] >= int(user_input['Amount_Min'])) \\\n",
    "            & (wine_df_fmt['Price(HKD)'] <= int(user_input['Amount_Max'])) \\\n",
    "            & (wine_df_fmt['Sweetness'] == user_input['Sweetness']) \\\n",
    "\n",
    "#Have Country Preference\n",
    "selection2 = (wine_df_fmt['Price(HKD)'] >= int(user_input['Amount_Min'])) \\\n",
    "            & (wine_df_fmt['Price(HKD)'] <= int(user_input['Amount_Max'])) \\\n",
    "            & (wine_df_fmt['Sweetness'] == user_input['Sweetness']) \\\n",
    "            & (wine_df_fmt['Country'] == user_input['Country']) \n",
    "\n",
    "suggestion_table1= wine_df_fmt[selection1]\n",
    "suggestion_table2= wine_df_fmt[selection2]\n",
    "\n",
    "suggestion_table_fnl1= suggestion_table1.loc[:,['FullName','Year','Country','Winery','RegionalVariety','Sweetness','Price(HKD)','WineRating']].copy().sort_values(by='WineRating', ascending = False).head(10)\n",
    "suggestion_table_fnl2= suggestion_table2.loc[:,['FullName','Year','Country','Winery','RegionalVariety','Sweetness','Price(HKD)','WineRating']].copy().sort_values(by='WineRating', ascending = False).head(10)\n",
    "\n",
    "if user_input['Country'] not in ctry_list:\n",
    "    if suggestion_table_fnl1.empty:\n",
    "        print(\"Sorry, there aren't any suggestions that fit your preference\")\n",
    "    else:\n",
    "        print('Here are your suggestions. (We will show the top 10 rated)\\n')\n",
    "        display(suggestion_table_fnl1)\n",
    "\n",
    "else:\n",
    "    if suggestion_table_fnl2.empty:\n",
    "        print(\"Sorry, there aren't any suggestions that fit your preference\")\n",
    "    else:\n",
    "        print('Here are your suggestions. (We will show the top 10 rated)\\n')\n",
    "        display(suggestion_table_fnl2)\n",
    "\n",
    "print('Thank You for using the tool. See you next time!')"
   ]
  },
  {
   "cell_type": "markdown",
   "metadata": {},
   "source": [
    "# Summary of the Project\n",
    "In overall, the dataset is relatively clean, except that there were some columns that needed to be filled. Before we started analysing the data, we listed out from which perspectives we can work on, base on our knowledge on white wine. Normally people tended to look at the year, country , grape type, sweetness etc when choosing a bottle of white wine. Hence, we tend to do analysis on the white wine data base on these. \n",
    "\n",
    "Throughout the entire process of analysing the white wine data, for sure we gained knowledge about white wine. This leads to our decision to build this mini 'White wine selection tool'. Although the white wine database only contained around 5000 wine information, which might be the downside. However, we were quite satisfied in general. \n",
    "\n",
    "Moreover, while analysing the data, we found out there would be outliers inside the data which will affect your analysis. We need to decide whether we should remove these outliers or not for the accuracy of our analysis. This was another challenge. \n",
    "\n",
    "In summary, we learnt a lot while working on this EDA project, especially trying to apply as much Python codings as we can. This definitely helped a lot. "
   ]
  },
  {
   "cell_type": "markdown",
   "metadata": {},
   "source": []
  }
 ],
 "metadata": {
  "kernelspec": {
   "display_name": "Python 3",
   "language": "python",
   "name": "python3"
  },
  "language_info": {
   "codemirror_mode": {
    "name": "ipython",
    "version": 3
   },
   "file_extension": ".py",
   "mimetype": "text/x-python",
   "name": "python",
   "nbconvert_exporter": "python",
   "pygments_lexer": "ipython3",
   "version": "3.7.6"
  }
 },
 "nbformat": 4,
 "nbformat_minor": 5
}
