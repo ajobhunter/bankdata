{
 "cells": [
  {
   "cell_type": "code",
   "execution_count": 1,
   "id": "d35a5e82",
   "metadata": {},
   "outputs": [
    {
     "name": "stdout",
     "output_type": "stream",
     "text": [
      "['The', 'quick', 'brown', 'fox', 'jumps', 'over', 'the', 'lazy', 'dog']\n"
     ]
    }
   ],
   "source": [
    "#Q1\n",
    "\n",
    "import re\n",
    "text = \"The quick brown fox jumps over the lazy dog.\"\n",
    "\n",
    "pattern1 = r\"\\w+\"\n",
    "print(re.findall(pattern1, text))"
   ]
  },
  {
   "cell_type": "markdown",
   "id": "9fb66ebb",
   "metadata": {},
   "source": [
    "### Explanation for Q1:\n",
    "\n",
    "\\w+: The \\w is a shorthand character class that matches any word character (alphanumeric characters plus underscore). The + is a quantifier that matches one or more occurrences of the preceding expression. So, \\w+ matches one or more consecutive word characters.\n",
    "\n",
    "hence the answer is: ['The', 'quick', 'brown', 'fox', 'jumps', 'over', 'the', 'lazy', 'dog']"
   ]
  },
  {
   "cell_type": "code",
   "execution_count": 2,
   "id": "eec6cb07",
   "metadata": {},
   "outputs": [
    {
     "name": "stdout",
     "output_type": "stream",
     "text": [
      "['The', 'qui', 'bro', 'fox', 'jum', 'ove', 'the', 'laz', 'dog']\n"
     ]
    }
   ],
   "source": [
    "#Q2\n",
    "\n",
    "pattern2 = r\"\\w{3}\"\n",
    "print(re.findall(pattern2, text))\n"
   ]
  },
  {
   "cell_type": "markdown",
   "id": "51b181b0",
   "metadata": {},
   "source": [
    "### Explanation for Q2:\n",
    "\\w{3}: The \\w and {3} expressions are the same as in the previous example. The difference is that the {3} quantifier matches exactly 3 occurrences of the preceding expression, so \\w{3} matches exactly 3 consecutive word characters.\n",
    "\n",
    "hence the answer is: ['The', 'qui', 'bro', 'fox', 'jum', 'ove', 'the', 'laz', 'dog']"
   ]
  },
  {
   "cell_type": "code",
   "execution_count": 3,
   "id": "d7e16523",
   "metadata": {},
   "outputs": [
    {
     "name": "stdout",
     "output_type": "stream",
     "text": [
      "['The', 'quick', 'brown', 'fox', 'jumps', 'over', 'the', 'lazy', 'dog']\n"
     ]
    }
   ],
   "source": [
    "#Q3\n",
    "\n",
    "pattern3 = r\"\\w{3,}\"\n",
    "print(re.findall(pattern3, text))"
   ]
  },
  {
   "cell_type": "markdown",
   "id": "13072c65",
   "metadata": {},
   "source": [
    "### Explanation for Q3:\n",
    "\\w{3,}: The \\w and {3,} expressions are the same as in the previous example. The difference is that the {3,} quantifier matches 3 or more occurrences of the preceding expression, so \\w{3,} matches 3 or more consecutive word characters.\n",
    "\n",
    "hence the answer is: ['The', 'quick', 'brown', 'fox', 'jumps', 'over', 'the', 'lazy', 'dog']"
   ]
  },
  {
   "cell_type": "code",
   "execution_count": 4,
   "id": "7f8eac18",
   "metadata": {},
   "outputs": [
    {
     "name": "stdout",
     "output_type": "stream",
     "text": [
      "['The']\n"
     ]
    }
   ],
   "source": [
    "#Q4\n",
    "\n",
    "pattern4 = r\"^The\"\n",
    "print(re.findall(pattern4, text))"
   ]
  },
  {
   "cell_type": "markdown",
   "id": "f7297895",
   "metadata": {},
   "source": [
    "### Explanation for Q4:\n",
    "^The: The ^ character is a special anchor that matches the start of the string. The The expression matches the literal characters \"The\". So, ^The matches the string \"The\" at the start of the text.\n",
    "\n",
    "hence the answer is: ['The']"
   ]
  },
  {
   "cell_type": "code",
   "execution_count": 5,
   "id": "c9dabc08",
   "metadata": {},
   "outputs": [
    {
     "name": "stdout",
     "output_type": "stream",
     "text": [
      "['dog.']\n"
     ]
    }
   ],
   "source": [
    "#Q5\n",
    "\n",
    "pattern5 = r\"dog\\.$\"\n",
    "print(re.findall(pattern5, text))"
   ]
  },
  {
   "cell_type": "markdown",
   "id": "b81659c4",
   "metadata": {},
   "source": [
    "### Explanation for Q5:\n",
    "\n",
    "'dog\\.$': \n",
    "\n",
    "The 'dog\\.' expression matches the literal characters \"dog.\". \n",
    "The \\. is a escape sequence that matches the literal dot character. \n",
    "The `$` character is a special anchor that matches the end of the string. \n",
    "So, `dog\\.$` matches the string \"dog.\" at the end of the text.\n",
    "\n",
    "hence the answer is: ['dog.']"
   ]
  },
  {
   "cell_type": "code",
   "execution_count": 6,
   "id": "ed8136dc",
   "metadata": {},
   "outputs": [
    {
     "name": "stdout",
     "output_type": "stream",
     "text": [
      "['7', '2023']\n"
     ]
    }
   ],
   "source": [
    "#Q6\n",
    "\n",
    "import re\n",
    "\n",
    "pattern = r\"\\d+\"\n",
    "text = \"Today is February 7, 2023.\"\n",
    "\n",
    "print(re.findall(pattern, text))"
   ]
  },
  {
   "cell_type": "markdown",
   "id": "de8393e0",
   "metadata": {},
   "source": [
    "### Explanation for Q6:\n",
    "\n",
    "The re.findall(pattern, text) function finds all non-overlapping occurrences of the pattern in the text and returns them as a list. The pattern \\d+ matches one or more consecutive digits. In the text \"Today is February 7, 2023.\", there are two sequences of digits: 7 and 2023, \n",
    "\n",
    "so re.findall(pattern, text) returns ['7', '2023'].\n"
   ]
  },
  {
   "cell_type": "code",
   "execution_count": 7,
   "id": "bd5ee720",
   "metadata": {},
   "outputs": [
    {
     "name": "stdout",
     "output_type": "stream",
     "text": [
      "['Today']\n"
     ]
    }
   ],
   "source": [
    "#Q7\n",
    "\n",
    "pattern = r\"\\b\\w{5}\\b\"\n",
    "\n",
    "print(re.findall(pattern, text))"
   ]
  },
  {
   "cell_type": "markdown",
   "id": "18379153",
   "metadata": {},
   "source": [
    "The pattern \\b\\w{5}\\b matches 5 consecutive word characters surrounded by word boundaries. A word boundary \\b is a zero-width assertion that matches the position between a word character (defined as \\w) and a non-word character. In the text \"Today is February 7, 2023.\", there are two sequences of 5 word characters surrounded by word boundaries: Today and February, \n",
    "\n",
    "so re.findall(pattern, text) returns ['Today', 'February']."
   ]
  },
  {
   "cell_type": "code",
   "execution_count": 8,
   "id": "82808c98",
   "metadata": {},
   "outputs": [
    {
     "name": "stdout",
     "output_type": "stream",
     "text": [
      "['Today', 'February']\n"
     ]
    }
   ],
   "source": [
    "#Q8\n",
    "\n",
    "pattern = r\"\\b\\w{5,}\\b\"\n",
    "\n",
    "print(re.findall(pattern, text))"
   ]
  },
  {
   "cell_type": "markdown",
   "id": "c0a8c0d3",
   "metadata": {},
   "source": [
    "The pattern \\b\\w{5,}\\b matches 5 or more consecutive word characters surrounded by word boundaries. In the text \"Today is February 7, 2023.\", there are three sequences of 5 or more word characters surrounded by word boundaries: Today, February, and 2023, \n",
    "\n",
    "so re.findall(pattern, text) returns ['Today', 'February', '2023']."
   ]
  },
  {
   "cell_type": "code",
   "execution_count": 9,
   "id": "1b226bcf",
   "metadata": {},
   "outputs": [
    {
     "name": "stdout",
     "output_type": "stream",
     "text": [
      "['Today']\n"
     ]
    }
   ],
   "source": [
    "#Q9\n",
    "\n",
    "pattern = r\"^Today\"\n",
    "\n",
    "print(re.findall(pattern, text))"
   ]
  },
  {
   "cell_type": "markdown",
   "id": "ecb8e1ab",
   "metadata": {},
   "source": [
    "The pattern ^Today matches the string \"Today\" at the start of the text. In the text \"Today is February 7, 2023.\", there is one occurrence of \"Today\" at the start of the text, \n",
    "\n",
    "so re.findall(pattern, text) returns ['Today']."
   ]
  },
  {
   "cell_type": "code",
   "execution_count": 11,
   "id": "08c666a4",
   "metadata": {},
   "outputs": [
    {
     "name": "stdout",
     "output_type": "stream",
     "text": [
      "[', 2023.']\n"
     ]
    }
   ],
   "source": [
    "#Q10\n",
    "text = \"Today is February 7, 2023.\"\n",
    "pattern = r\",\\s\\d{4}\\.$\"\n",
    "\n",
    "print(re.findall(pattern, text))\n",
    "\n"
   ]
  },
  {
   "cell_type": "markdown",
   "id": "b7bb26c2",
   "metadata": {},
   "source": [
    "The pattern ,\\s\\d{4}\\.$ matches a comma, a whitespace character, four consecutive digits, and a dot at the end of the text. In the text \"Today is February 7, 2023.\", there is one sequence matching this pattern: \", 2023.\", \n",
    "\n",
    "so re.findall(pattern, text) returns [', 2023.']."
   ]
  }
 ],
 "metadata": {
  "kernelspec": {
   "display_name": "Python 3 (ipykernel)",
   "language": "python",
   "name": "python3"
  },
  "language_info": {
   "codemirror_mode": {
    "name": "ipython",
    "version": 3
   },
   "file_extension": ".py",
   "mimetype": "text/x-python",
   "name": "python",
   "nbconvert_exporter": "python",
   "pygments_lexer": "ipython3",
   "version": "3.11.5"
  }
 },
 "nbformat": 4,
 "nbformat_minor": 5
}
