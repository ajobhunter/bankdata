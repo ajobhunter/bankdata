{
 "cells": [
  {
   "cell_type": "markdown",
   "id": "8af1fecd",
   "metadata": {},
   "source": [
    "## 15 min quiz - RegEx:"
   ]
  },
  {
   "cell_type": "markdown",
   "id": "0b7807e7",
   "metadata": {},
   "source": [
    "### Design a code that can extract the following information:\n",
    "\n",
    "### Given string: \"1984 by George. Orwell.; was a book that was ahead of its time:\"\n",
    "\n",
    "### Q5: Extract only the digits. Return as list.\n",
    "### Q6: Extract only the digits and reverse it's order. Return as list.\n",
    "### Q7: Extract only the special chracters as list.\n",
    "### Q8: Return the number of spaces in this particular string."
   ]
  },
  {
   "cell_type": "code",
   "execution_count": null,
   "id": "30e866ae",
   "metadata": {},
   "outputs": [],
   "source": [
    "string0 = \"1984 by George. Orwell.; was a book that was ahead of its time:\"\n",
    "\n",
    "#Answer 5: #\\d = digit, \\D = non-digit (non numericals)\n",
    "import re\n",
    "ans5 = \"\".join(re.findall(r\"[\\d]\", string0))\n",
    "print(ans5)\n",
    "\n",
    "#Answer 6:\n",
    "ans6 = \"\".join(re.findall(r\"[\\d]\", string0)[::-1])\n",
    "print(ans6)\n",
    "\n",
    "#Answer 7: \\w = word, \\W = non-word (numericals, whitespaces... colons)\n",
    "ans7 = re.findall(r\"[\\W]\", string0)\n",
    "print(ans7)\n",
    "\n",
    "#Answer 8: \\s = whitespaces, \\S = non-whitespaces\n",
    "ans8 = len(re.findall(r\"[\\s]\", string0))\n",
    "#print(ans8)"
   ]
  }
 ],
 "metadata": {
  "kernelspec": {
   "display_name": "Python 3 (ipykernel)",
   "language": "python",
   "name": "python3"
  },
  "language_info": {
   "codemirror_mode": {
    "name": "ipython",
    "version": 3
   },
   "file_extension": ".py",
   "mimetype": "text/x-python",
   "name": "python",
   "nbconvert_exporter": "python",
   "pygments_lexer": "ipython3",
   "version": "3.9.13"
  }
 },
 "nbformat": 4,
 "nbformat_minor": 5
}
