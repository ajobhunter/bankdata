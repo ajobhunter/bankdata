{
  "cells": [
    {
      "cell_type": "markdown",
      "metadata": {
        "collapsed": true,
        "id": "8ie8jFMBxOV3"
      },
      "source": [
        "# Beautiful Soup\n",
        "\n",
        "Import relevant libraries"
      ]
    },
    {
      "cell_type": "code",
      "execution_count": 14,
      "metadata": {
        "id": "KnFpRR_GxOV4"
      },
      "outputs": [],
      "source": [
        "# import BeautifulSoup library\n",
        "from bs4 import BeautifulSoup\n",
        "import requests\n",
        "from selenium import webdriver\n",
        "from selenium.webdriver.common.keys import Keys\n",
        "from selenium.webdriver.support.ui import WebDriverWait"
      ]
    },
    {
      "cell_type": "markdown",
      "metadata": {
        "id": "2L8JEQTKxOV9"
      },
      "source": [
        "We will use the following HTML document to parse with BeautifulSoup"
      ]
    },
    {
      "cell_type": "code",
      "execution_count": 15,
      "metadata": {
        "id": "OTg0W0MJxOV-"
      },
      "outputs": [],
      "source": [
        "html = \"\"\"\n",
        "<!DOCTYPE html>\n",
        "<html lang=\"en\">\n",
        "<head>\n",
        "  <meta charset=\"UTF-8\">\n",
        "  <title>First HTML Page</title>\n",
        "</head>\n",
        "<body>\n",
        "  <div id=\"first\">\n",
        "    <h3 data-example=\"yes\">hi</h3>\n",
        "    <p>more text.</p>\n",
        "  </div>\n",
        "  <ol><li class=\"special\">This list item is special.</li>\n",
        "  <li class=\"special\">This list item is also special.</li>\n",
        "  <li>This list item is not special.</li>\n",
        "  </ol>\n",
        "  <div data-example=\"yes\">bye</div>\n",
        "</body>\n",
        "</html>\n",
        "\"\"\""
      ]
    },
    {
      "cell_type": "markdown",
      "metadata": {
        "id": "SXKzXlO1xOWB"
      },
      "source": [
        "Initialise BeautifulSoup object and pass it the HTML document"
      ]
    },
    {
      "cell_type": "code",
      "execution_count": 16,
      "metadata": {
        "id": "AE0wM34hxOWC"
      },
      "outputs": [],
      "source": [
        "soup = BeautifulSoup(html, \"html.parser\")\n",
        "#help(BeautifulSoup)                    "
      ]
    },
    {
      "cell_type": "code",
      "execution_count": 17,
      "metadata": {
        "id": "3m7Ht0HpxOWF",
        "outputId": "7704b9db-c418-4033-9d4a-33fa992f8cea"
      },
      "outputs": [
        {
          "data": {
            "text/plain": [
              "bs4.BeautifulSoup"
            ]
          },
          "execution_count": 17,
          "metadata": {},
          "output_type": "execute_result"
        }
      ],
      "source": [
        "type(soup)"
      ]
    },
    {
      "cell_type": "markdown",
      "metadata": {
        "id": "OnKlxLaCxOWL"
      },
      "source": [
        "Print the HTML page fetched by BeautifulSoup"
      ]
    },
    {
      "cell_type": "code",
      "execution_count": 18,
      "metadata": {
        "id": "9E0JrcLXxOWL",
        "outputId": "617e40b5-fcf9-4106-df3e-7dc4ef291503"
      },
      "outputs": [
        {
          "name": "stdout",
          "output_type": "stream",
          "text": [
            "<!DOCTYPE html>\n",
            "<html lang=\"en\">\n",
            " <head>\n",
            "  <meta charset=\"utf-8\"/>\n",
            "  <title>\n",
            "   First HTML Page\n",
            "  </title>\n",
            " </head>\n",
            " <body>\n",
            "  <div id=\"first\">\n",
            "   <h3 data-example=\"yes\">\n",
            "    hi\n",
            "   </h3>\n",
            "   <p>\n",
            "    more text.\n",
            "   </p>\n",
            "  </div>\n",
            "  <ol>\n",
            "   <li class=\"special\">\n",
            "    This list item is special.\n",
            "   </li>\n",
            "   <li class=\"special\">\n",
            "    This list item is also special.\n",
            "   </li>\n",
            "   <li>\n",
            "    This list item is not special.\n",
            "   </li>\n",
            "  </ol>\n",
            "  <div data-example=\"yes\">\n",
            "   bye\n",
            "  </div>\n",
            " </body>\n",
            "</html>\n",
            "\n"
          ]
        }
      ],
      "source": [
        "soup.prettify()\n",
        "print(soup.prettify())"
      ]
    },
    {
      "cell_type": "markdown",
      "metadata": {
        "id": "lMLkNklvxOWP"
      },
      "source": [
        "Let's see some commands to navigate the BeautifulSoup object. \n",
        "\n",
        "Navigate to a particular tag. "
      ]
    },
    {
      "cell_type": "code",
      "execution_count": 19,
      "metadata": {
        "id": "RR-KlqIXxOWQ",
        "outputId": "e9aff913-a25f-4e46-b894-d3da387662f4"
      },
      "outputs": [
        {
          "data": {
            "text/plain": [
              "<head>\n",
              "<meta charset=\"utf-8\"/>\n",
              "<title>First HTML Page</title>\n",
              "</head>"
            ]
          },
          "execution_count": 19,
          "metadata": {},
          "output_type": "execute_result"
        }
      ],
      "source": [
        "soup.head"
      ]
    },
    {
      "cell_type": "markdown",
      "metadata": {
        "id": "hEMKjNXsxOWU"
      },
      "source": [
        "Navigate a nested tag"
      ]
    },
    {
      "cell_type": "code",
      "execution_count": 20,
      "metadata": {
        "id": "xU3vodQPxOWU",
        "outputId": "72af47b4-ca3f-48db-ab50-2e7a7182a86a"
      },
      "outputs": [
        {
          "data": {
            "text/plain": [
              "<title>First HTML Page</title>"
            ]
          },
          "execution_count": 20,
          "metadata": {},
          "output_type": "execute_result"
        }
      ],
      "source": [
        "soup.head.title"
      ]
    },
    {
      "cell_type": "markdown",
      "metadata": {
        "id": "D6tP7A2OxOWY"
      },
      "source": [
        "Extract the text from the tag"
      ]
    },
    {
      "cell_type": "code",
      "execution_count": 21,
      "metadata": {
        "id": "g0YFk9pLxOWY",
        "outputId": "9ad4928a-7075-49b8-d4d0-8b32bfef6df5"
      },
      "outputs": [
        {
          "data": {
            "text/plain": [
              "'First HTML Page'"
            ]
          },
          "execution_count": 21,
          "metadata": {},
          "output_type": "execute_result"
        }
      ],
      "source": [
        "soup.head.title.get_text()"
      ]
    },
    {
      "cell_type": "code",
      "execution_count": 22,
      "metadata": {
        "id": "e4rPnEVyxOWc",
        "outputId": "4ab3211f-bdf9-4ede-a40d-e4006ca9c0ef"
      },
      "outputs": [
        {
          "data": {
            "text/plain": [
              "'hi'"
            ]
          },
          "execution_count": 22,
          "metadata": {},
          "output_type": "execute_result"
        }
      ],
      "source": [
        "soup.div.h3.get_text()"
      ]
    },
    {
      "cell_type": "code",
      "execution_count": 23,
      "metadata": {
        "id": "OX6luQNExOWe",
        "outputId": "d5e847fd-16fa-4281-ca48-bc36a3779d96"
      },
      "outputs": [
        {
          "data": {
            "text/plain": [
              "<li class=\"special\">This list item is special.</li>"
            ]
          },
          "execution_count": 23,
          "metadata": {},
          "output_type": "execute_result"
        }
      ],
      "source": [
        "soup.ol.li"
      ]
    },
    {
      "cell_type": "markdown",
      "metadata": {
        "id": "aJaSfbUGxOWi"
      },
      "source": [
        "Extract the css attribute of a tag"
      ]
    },
    {
      "cell_type": "code",
      "execution_count": 24,
      "metadata": {
        "id": "TB4KvvuoxOWj",
        "outputId": "2ae06197-28b9-450b-d766-317daaacbaaa"
      },
      "outputs": [
        {
          "data": {
            "text/plain": [
              "{'data-example': 'yes'}"
            ]
          },
          "execution_count": 24,
          "metadata": {},
          "output_type": "execute_result"
        }
      ],
      "source": [
        "soup.div.h3.attrs"
      ]
    },
    {
      "cell_type": "code",
      "execution_count": 25,
      "metadata": {
        "id": "71HGXYOkxOWl",
        "outputId": "1285f712-5281-488c-fd87-59273d12b99c"
      },
      "outputs": [
        {
          "data": {
            "text/plain": [
              "'yes'"
            ]
          },
          "execution_count": 25,
          "metadata": {},
          "output_type": "execute_result"
        }
      ],
      "source": [
        "soup.div.h3.attrs['data-example']"
      ]
    },
    {
      "cell_type": "markdown",
      "metadata": {
        "id": "2nTWBtObxOWo"
      },
      "source": [
        "Experiment with some more commonly used tags. "
      ]
    },
    {
      "cell_type": "code",
      "execution_count": 26,
      "metadata": {
        "id": "ElXntHR9xOWo",
        "outputId": "e738bcae-de1b-4e44-b77f-400b961bcbb1"
      },
      "outputs": [
        {
          "data": {
            "text/plain": [
              "<body>\n",
              "<div id=\"first\">\n",
              "<h3 data-example=\"yes\">hi</h3>\n",
              "<p>more text.</p>\n",
              "</div>\n",
              "<ol><li class=\"special\">This list item is special.</li>\n",
              "<li class=\"special\">This list item is also special.</li>\n",
              "<li>This list item is not special.</li>\n",
              "</ol>\n",
              "<div data-example=\"yes\">bye</div>\n",
              "</body>"
            ]
          },
          "execution_count": 26,
          "metadata": {},
          "output_type": "execute_result"
        }
      ],
      "source": [
        "soup.body"
      ]
    },
    {
      "cell_type": "code",
      "execution_count": 27,
      "metadata": {
        "id": "Gh9SPKOkxOWr",
        "outputId": "eecf9382-a2f1-4d19-9807-03259f24b8e7"
      },
      "outputs": [
        {
          "data": {
            "text/plain": [
              "['\\n',\n",
              " <div id=\"first\">\n",
              " <h3 data-example=\"yes\">hi</h3>\n",
              " <p>more text.</p>\n",
              " </div>,\n",
              " '\\n',\n",
              " <ol><li class=\"special\">This list item is special.</li>\n",
              " <li class=\"special\">This list item is also special.</li>\n",
              " <li>This list item is not special.</li>\n",
              " </ol>,\n",
              " '\\n',\n",
              " <div data-example=\"yes\">bye</div>,\n",
              " '\\n']"
            ]
          },
          "execution_count": 27,
          "metadata": {},
          "output_type": "execute_result"
        }
      ],
      "source": [
        "soup.body.contents"
      ]
    },
    {
      "cell_type": "code",
      "execution_count": 28,
      "metadata": {
        "id": "xnWC-Ck8xOWt",
        "outputId": "93227d26-ba2c-479a-94ed-f75b30c67d21"
      },
      "outputs": [
        {
          "data": {
            "text/plain": [
              "<div id=\"first\">\n",
              "<h3 data-example=\"yes\">hi</h3>\n",
              "<p>more text.</p>\n",
              "</div>"
            ]
          },
          "execution_count": 28,
          "metadata": {},
          "output_type": "execute_result"
        }
      ],
      "source": [
        "soup.body.contents[1]"
      ]
    },
    {
      "cell_type": "markdown",
      "metadata": {
        "id": "7O-S3-2jxOWw"
      },
      "source": [
        "Find an element by its class name"
      ]
    },
    {
      "cell_type": "code",
      "execution_count": 29,
      "metadata": {
        "id": "tv5TkdgYxOWx",
        "outputId": "a3b02437-4bf3-4617-cdaf-07ed5744e0e9"
      },
      "outputs": [
        {
          "data": {
            "text/plain": [
              "<li class=\"special\">This list item is special.</li>"
            ]
          },
          "execution_count": 29,
          "metadata": {},
          "output_type": "execute_result"
        }
      ],
      "source": [
        "soup.find(class_='special')"
      ]
    },
    {
      "cell_type": "markdown",
      "metadata": {
        "id": "mNF1SOaexOW1"
      },
      "source": [
        "Find all the elements matching a class name"
      ]
    },
    {
      "cell_type": "code",
      "execution_count": 30,
      "metadata": {
        "id": "XzW34o9MHbIg",
        "outputId": "245227c4-9db5-4405-efa8-5b6090a5cf73"
      },
      "outputs": [
        {
          "data": {
            "text/plain": [
              "[<li class=\"special\">This list item is special.</li>,\n",
              " <li class=\"special\">This list item is also special.</li>]"
            ]
          },
          "execution_count": 30,
          "metadata": {},
          "output_type": "execute_result"
        }
      ],
      "source": [
        "soup.find_all(class_='special')"
      ]
    },
    {
      "cell_type": "code",
      "execution_count": 31,
      "metadata": {
        "id": "HbirHONdxOW1",
        "outputId": "743de165-595c-4574-e7f5-9caa0dfa377a"
      },
      "outputs": [
        {
          "data": {
            "text/plain": [
              "'This list item is also special.'"
            ]
          },
          "execution_count": 31,
          "metadata": {},
          "output_type": "execute_result"
        }
      ],
      "source": [
        "soup.find_all(class_='special')[1].text"
      ]
    },
    {
      "cell_type": "code",
      "execution_count": 32,
      "metadata": {
        "id": "JbSw7q-exOW4",
        "outputId": "6d2e2af9-5e59-4db5-9c20-3958ce0d5645"
      },
      "outputs": [
        {
          "data": {
            "text/plain": [
              "<bound method PageElement.find_parent of <li class=\"special\">This list item is special.</li>>"
            ]
          },
          "execution_count": 32,
          "metadata": {},
          "output_type": "execute_result"
        }
      ],
      "source": [
        "soup.find(class_='special').find_parent"
      ]
    },
    {
      "cell_type": "code",
      "execution_count": 33,
      "metadata": {
        "id": "m6SRnWApHbIh",
        "outputId": "c6493b7c-d2b8-4e90-e97f-372de88e18ca"
      },
      "outputs": [
        {
          "data": {
            "text/plain": [
              "'This list item is not special.'"
            ]
          },
          "execution_count": 33,
          "metadata": {},
          "output_type": "execute_result"
        }
      ],
      "source": [
        "soup.find_all('li')[2].text"
      ]
    },
    {
      "cell_type": "code",
      "execution_count": 34,
      "metadata": {
        "id": "8vsyeK_axOW6",
        "outputId": "e4c4f1dd-e0df-43e1-921c-521374a35eae"
      },
      "outputs": [
        {
          "data": {
            "text/plain": [
              "'more text.'"
            ]
          },
          "execution_count": 34,
          "metadata": {},
          "output_type": "execute_result"
        }
      ],
      "source": [
        "soup.find(id=\"first\").p.get_text()"
      ]
    },
    {
      "cell_type": "code",
      "execution_count": 35,
      "metadata": {
        "id": "6YzD4q5zxOW9",
        "outputId": "49010f58-63bc-47c8-9290-9163ef8535ac"
      },
      "outputs": [
        {
          "data": {
            "text/plain": [
              "['\\n', <meta charset=\"utf-8\"/>, '\\n', <title>First HTML Page</title>, '\\n']"
            ]
          },
          "execution_count": 35,
          "metadata": {},
          "output_type": "execute_result"
        }
      ],
      "source": [
        "soup.head.contents"
      ]
    },
    {
      "cell_type": "code",
      "execution_count": 36,
      "metadata": {
        "id": "6rz5_Ic1xOW_",
        "outputId": "5da77ec0-5050-481d-efbd-3bc60bd0db4b"
      },
      "outputs": [
        {
          "name": "stdout",
          "output_type": "stream",
          "text": [
            "\n",
            "hi\n",
            "more text.\n",
            "\n"
          ]
        }
      ],
      "source": [
        "print(soup.select(\"#first\")[0].get_text())"
      ]
    },
    {
      "cell_type": "code",
      "execution_count": 37,
      "metadata": {
        "id": "wnn8JpmgxOXD",
        "outputId": "34d34747-5c06-4382-d67c-856dbd98d178"
      },
      "outputs": [
        {
          "data": {
            "text/plain": [
              "[]"
            ]
          },
          "execution_count": 37,
          "metadata": {},
          "output_type": "execute_result"
        }
      ],
      "source": [
        "soup.select(\".first\")"
      ]
    },
    {
      "cell_type": "markdown",
      "metadata": {
        "id": "xAUkA7xuHbIh"
      },
      "source": [
        "## Example"
      ]
    },
    {
      "cell_type": "markdown",
      "metadata": {
        "id": "OPDGxB67xOXG"
      },
      "source": [
        "Use the requests library to fetch a page from the internet. Use the requests module again to fetch the next pages. "
      ]
    },
    {
      "cell_type": "code",
      "execution_count": 38,
      "metadata": {
        "id": "E1Ib8AMIxOXH"
      },
      "outputs": [],
      "source": [
        "import requests\n",
        "URL = \"http://quotes.toscrape.com\"\n",
        "html = requests.get(URL)\n",
        "soup = BeautifulSoup(html.text, \"html.parser\")\n"
      ]
    },
    {
      "cell_type": "code",
      "execution_count": 39,
      "metadata": {},
      "outputs": [
        {
          "name": "stdout",
          "output_type": "stream",
          "text": [
            "<!DOCTYPE html>\n",
            "<html lang=\"en\">\n",
            "<head>\n",
            "\t<meta charset=\"UTF-8\">\n",
            "\t<title>Quotes to Scrape</title>\n",
            "    <link rel=\"stylesheet\" href=\"/static/bootstrap.min.css\">\n",
            "    <link rel=\"stylesheet\" href=\"/static/main.css\">\n",
            "</head>\n",
            "<body>\n",
            "    <div class=\"container\">\n",
            "        <div class=\"row header-box\">\n",
            "            <div class=\"col-md-8\">\n",
            "                <h1>\n",
            "                    <a href=\"/\" style=\"text-decoration: none\">Quotes to Scrape</a>\n",
            "                </h1>\n",
            "            </div>\n",
            "            <div class=\"col-md-4\">\n",
            "                <p>\n",
            "                \n",
            "                    <a href=\"/login\">Login</a>\n",
            "                \n",
            "                </p>\n",
            "            </div>\n",
            "        </div>\n",
            "    \n",
            "\n",
            "<div class=\"row\">\n",
            "    <div class=\"col-md-8\">\n",
            "\n",
            "    <div class=\"quote\" itemscope itemtype=\"http://schema.org/CreativeWork\">\n",
            "        <span class=\"text\" itemprop=\"text\">“The world as we have created it is a process of our thinking. It cannot be changed without changing our thinking.”</span>\n",
            "        <span>by <small class=\"author\" itemprop=\"author\">Albert Einstein</small>\n",
            "        <a href=\"/author/Albert-Einstein\">(about)</a>\n",
            "        </span>\n",
            "        <div class=\"tags\">\n",
            "            Tags:\n",
            "            <meta class=\"keywords\" itemprop=\"keywords\" content=\"change,deep-thoughts,thinking,world\" /    > \n",
            "            \n",
            "            <a class=\"tag\" href=\"/tag/change/page/1/\">change</a>\n",
            "            \n",
            "            <a class=\"tag\" href=\"/tag/deep-thoughts/page/1/\">deep-thoughts</a>\n",
            "            \n",
            "            <a class=\"tag\" href=\"/tag/thinking/page/1/\">thinking</a>\n",
            "            \n",
            "            <a class=\"tag\" href=\"/tag/world/page/1/\">world</a>\n",
            "            \n",
            "        </div>\n",
            "    </div>\n",
            "\n",
            "    <div class=\"quote\" itemscope itemtype=\"http://schema.org/CreativeWork\">\n",
            "        <span class=\"text\" itemprop=\"text\">“It is our choices, Harry, that show what we truly are, far more than our abilities.”</span>\n",
            "        <span>by <small class=\"author\" itemprop=\"author\">J.K. Rowling</small>\n",
            "        <a href=\"/author/J-K-Rowling\">(about)</a>\n",
            "        </span>\n",
            "        <div class=\"tags\">\n",
            "            Tags:\n",
            "            <meta class=\"keywords\" itemprop=\"keywords\" content=\"abilities,choices\" /    > \n",
            "            \n",
            "            <a class=\"tag\" href=\"/tag/abilities/page/1/\">abilities</a>\n",
            "            \n",
            "            <a class=\"tag\" href=\"/tag/choices/page/1/\">choices</a>\n",
            "            \n",
            "        </div>\n",
            "    </div>\n",
            "\n",
            "    <div class=\"quote\" itemscope itemtype=\"http://schema.org/CreativeWork\">\n",
            "        <span class=\"text\" itemprop=\"text\">“There are only two ways to live your life. One is as though nothing is a miracle. The other is as though everything is a miracle.”</span>\n",
            "        <span>by <small class=\"author\" itemprop=\"author\">Albert Einstein</small>\n",
            "        <a href=\"/author/Albert-Einstein\">(about)</a>\n",
            "        </span>\n",
            "        <div class=\"tags\">\n",
            "            Tags:\n",
            "            <meta class=\"keywords\" itemprop=\"keywords\" content=\"inspirational,life,live,miracle,miracles\" /    > \n",
            "            \n",
            "            <a class=\"tag\" href=\"/tag/inspirational/page/1/\">inspirational</a>\n",
            "            \n",
            "            <a class=\"tag\" href=\"/tag/life/page/1/\">life</a>\n",
            "            \n",
            "            <a class=\"tag\" href=\"/tag/live/page/1/\">live</a>\n",
            "            \n",
            "            <a class=\"tag\" href=\"/tag/miracle/page/1/\">miracle</a>\n",
            "            \n",
            "            <a class=\"tag\" href=\"/tag/miracles/page/1/\">miracles</a>\n",
            "            \n",
            "        </div>\n",
            "    </div>\n",
            "\n",
            "    <div class=\"quote\" itemscope itemtype=\"http://schema.org/CreativeWork\">\n",
            "        <span class=\"text\" itemprop=\"text\">“The person, be it gentleman or lady, who has not pleasure in a good novel, must be intolerably stupid.”</span>\n",
            "        <span>by <small class=\"author\" itemprop=\"author\">Jane Austen</small>\n",
            "        <a href=\"/author/Jane-Austen\">(about)</a>\n",
            "        </span>\n",
            "        <div class=\"tags\">\n",
            "            Tags:\n",
            "            <meta class=\"keywords\" itemprop=\"keywords\" content=\"aliteracy,books,classic,humor\" /    > \n",
            "            \n",
            "            <a class=\"tag\" href=\"/tag/aliteracy/page/1/\">aliteracy</a>\n",
            "            \n",
            "            <a class=\"tag\" href=\"/tag/books/page/1/\">books</a>\n",
            "            \n",
            "            <a class=\"tag\" href=\"/tag/classic/page/1/\">classic</a>\n",
            "            \n",
            "            <a class=\"tag\" href=\"/tag/humor/page/1/\">humor</a>\n",
            "            \n",
            "        </div>\n",
            "    </div>\n",
            "\n",
            "    <div class=\"quote\" itemscope itemtype=\"http://schema.org/CreativeWork\">\n",
            "        <span class=\"text\" itemprop=\"text\">“Imperfection is beauty, madness is genius and it&#39;s better to be absolutely ridiculous than absolutely boring.”</span>\n",
            "        <span>by <small class=\"author\" itemprop=\"author\">Marilyn Monroe</small>\n",
            "        <a href=\"/author/Marilyn-Monroe\">(about)</a>\n",
            "        </span>\n",
            "        <div class=\"tags\">\n",
            "            Tags:\n",
            "            <meta class=\"keywords\" itemprop=\"keywords\" content=\"be-yourself,inspirational\" /    > \n",
            "            \n",
            "            <a class=\"tag\" href=\"/tag/be-yourself/page/1/\">be-yourself</a>\n",
            "            \n",
            "            <a class=\"tag\" href=\"/tag/inspirational/page/1/\">inspirational</a>\n",
            "            \n",
            "        </div>\n",
            "    </div>\n",
            "\n",
            "    <div class=\"quote\" itemscope itemtype=\"http://schema.org/CreativeWork\">\n",
            "        <span class=\"text\" itemprop=\"text\">“Try not to become a man of success. Rather become a man of value.”</span>\n",
            "        <span>by <small class=\"author\" itemprop=\"author\">Albert Einstein</small>\n",
            "        <a href=\"/author/Albert-Einstein\">(about)</a>\n",
            "        </span>\n",
            "        <div class=\"tags\">\n",
            "            Tags:\n",
            "            <meta class=\"keywords\" itemprop=\"keywords\" content=\"adulthood,success,value\" /    > \n",
            "            \n",
            "            <a class=\"tag\" href=\"/tag/adulthood/page/1/\">adulthood</a>\n",
            "            \n",
            "            <a class=\"tag\" href=\"/tag/success/page/1/\">success</a>\n",
            "            \n",
            "            <a class=\"tag\" href=\"/tag/value/page/1/\">value</a>\n",
            "            \n",
            "        </div>\n",
            "    </div>\n",
            "\n",
            "    <div class=\"quote\" itemscope itemtype=\"http://schema.org/CreativeWork\">\n",
            "        <span class=\"text\" itemprop=\"text\">“It is better to be hated for what you are than to be loved for what you are not.”</span>\n",
            "        <span>by <small class=\"author\" itemprop=\"author\">André Gide</small>\n",
            "        <a href=\"/author/Andre-Gide\">(about)</a>\n",
            "        </span>\n",
            "        <div class=\"tags\">\n",
            "            Tags:\n",
            "            <meta class=\"keywords\" itemprop=\"keywords\" content=\"life,love\" /    > \n",
            "            \n",
            "            <a class=\"tag\" href=\"/tag/life/page/1/\">life</a>\n",
            "            \n",
            "            <a class=\"tag\" href=\"/tag/love/page/1/\">love</a>\n",
            "            \n",
            "        </div>\n",
            "    </div>\n",
            "\n",
            "    <div class=\"quote\" itemscope itemtype=\"http://schema.org/CreativeWork\">\n",
            "        <span class=\"text\" itemprop=\"text\">“I have not failed. I&#39;ve just found 10,000 ways that won&#39;t work.”</span>\n",
            "        <span>by <small class=\"author\" itemprop=\"author\">Thomas A. Edison</small>\n",
            "        <a href=\"/author/Thomas-A-Edison\">(about)</a>\n",
            "        </span>\n",
            "        <div class=\"tags\">\n",
            "            Tags:\n",
            "            <meta class=\"keywords\" itemprop=\"keywords\" content=\"edison,failure,inspirational,paraphrased\" /    > \n",
            "            \n",
            "            <a class=\"tag\" href=\"/tag/edison/page/1/\">edison</a>\n",
            "            \n",
            "            <a class=\"tag\" href=\"/tag/failure/page/1/\">failure</a>\n",
            "            \n",
            "            <a class=\"tag\" href=\"/tag/inspirational/page/1/\">inspirational</a>\n",
            "            \n",
            "            <a class=\"tag\" href=\"/tag/paraphrased/page/1/\">paraphrased</a>\n",
            "            \n",
            "        </div>\n",
            "    </div>\n",
            "\n",
            "    <div class=\"quote\" itemscope itemtype=\"http://schema.org/CreativeWork\">\n",
            "        <span class=\"text\" itemprop=\"text\">“A woman is like a tea bag; you never know how strong it is until it&#39;s in hot water.”</span>\n",
            "        <span>by <small class=\"author\" itemprop=\"author\">Eleanor Roosevelt</small>\n",
            "        <a href=\"/author/Eleanor-Roosevelt\">(about)</a>\n",
            "        </span>\n",
            "        <div class=\"tags\">\n",
            "            Tags:\n",
            "            <meta class=\"keywords\" itemprop=\"keywords\" content=\"misattributed-eleanor-roosevelt\" /    > \n",
            "            \n",
            "            <a class=\"tag\" href=\"/tag/misattributed-eleanor-roosevelt/page/1/\">misattributed-eleanor-roosevelt</a>\n",
            "            \n",
            "        </div>\n",
            "    </div>\n",
            "\n",
            "    <div class=\"quote\" itemscope itemtype=\"http://schema.org/CreativeWork\">\n",
            "        <span class=\"text\" itemprop=\"text\">“A day without sunshine is like, you know, night.”</span>\n",
            "        <span>by <small class=\"author\" itemprop=\"author\">Steve Martin</small>\n",
            "        <a href=\"/author/Steve-Martin\">(about)</a>\n",
            "        </span>\n",
            "        <div class=\"tags\">\n",
            "            Tags:\n",
            "            <meta class=\"keywords\" itemprop=\"keywords\" content=\"humor,obvious,simile\" /    > \n",
            "            \n",
            "            <a class=\"tag\" href=\"/tag/humor/page/1/\">humor</a>\n",
            "            \n",
            "            <a class=\"tag\" href=\"/tag/obvious/page/1/\">obvious</a>\n",
            "            \n",
            "            <a class=\"tag\" href=\"/tag/simile/page/1/\">simile</a>\n",
            "            \n",
            "        </div>\n",
            "    </div>\n",
            "\n",
            "    <nav>\n",
            "        <ul class=\"pager\">\n",
            "            \n",
            "            \n",
            "            <li class=\"next\">\n",
            "                <a href=\"/page/2/\">Next <span aria-hidden=\"true\">&rarr;</span></a>\n",
            "            </li>\n",
            "            \n",
            "        </ul>\n",
            "    </nav>\n",
            "    </div>\n",
            "    <div class=\"col-md-4 tags-box\">\n",
            "        \n",
            "            <h2>Top Ten tags</h2>\n",
            "            \n",
            "            <span class=\"tag-item\">\n",
            "            <a class=\"tag\" style=\"font-size: 28px\" href=\"/tag/love/\">love</a>\n",
            "            </span>\n",
            "            \n",
            "            <span class=\"tag-item\">\n",
            "            <a class=\"tag\" style=\"font-size: 26px\" href=\"/tag/inspirational/\">inspirational</a>\n",
            "            </span>\n",
            "            \n",
            "            <span class=\"tag-item\">\n",
            "            <a class=\"tag\" style=\"font-size: 26px\" href=\"/tag/life/\">life</a>\n",
            "            </span>\n",
            "            \n",
            "            <span class=\"tag-item\">\n",
            "            <a class=\"tag\" style=\"font-size: 24px\" href=\"/tag/humor/\">humor</a>\n",
            "            </span>\n",
            "            \n",
            "            <span class=\"tag-item\">\n",
            "            <a class=\"tag\" style=\"font-size: 22px\" href=\"/tag/books/\">books</a>\n",
            "            </span>\n",
            "            \n",
            "            <span class=\"tag-item\">\n",
            "            <a class=\"tag\" style=\"font-size: 14px\" href=\"/tag/reading/\">reading</a>\n",
            "            </span>\n",
            "            \n",
            "            <span class=\"tag-item\">\n",
            "            <a class=\"tag\" style=\"font-size: 10px\" href=\"/tag/friendship/\">friendship</a>\n",
            "            </span>\n",
            "            \n",
            "            <span class=\"tag-item\">\n",
            "            <a class=\"tag\" style=\"font-size: 8px\" href=\"/tag/friends/\">friends</a>\n",
            "            </span>\n",
            "            \n",
            "            <span class=\"tag-item\">\n",
            "            <a class=\"tag\" style=\"font-size: 8px\" href=\"/tag/truth/\">truth</a>\n",
            "            </span>\n",
            "            \n",
            "            <span class=\"tag-item\">\n",
            "            <a class=\"tag\" style=\"font-size: 6px\" href=\"/tag/simile/\">simile</a>\n",
            "            </span>\n",
            "            \n",
            "        \n",
            "    </div>\n",
            "</div>\n",
            "\n",
            "    </div>\n",
            "    <footer class=\"footer\">\n",
            "        <div class=\"container\">\n",
            "            <p class=\"text-muted\">\n",
            "                Quotes by: <a href=\"https://www.goodreads.com/quotes\">GoodReads.com</a>\n",
            "            </p>\n",
            "            <p class=\"copyright\">\n",
            "                Made with <span class='zyte'>❤</span> by <a class='zyte' href=\"https://www.zyte.com\">Zyte</a>\n",
            "            </p>\n",
            "        </div>\n",
            "    </footer>\n",
            "</body>\n",
            "</html>\n"
          ]
        }
      ],
      "source": [
        "print(html.text)"
      ]
    },
    {
      "cell_type": "code",
      "execution_count": 40,
      "metadata": {
        "id": "GaF_r_2VHbIi",
        "outputId": "f18b303f-b91b-4d7b-aefd-99dee4930449"
      },
      "outputs": [
        {
          "name": "stdout",
          "output_type": "stream",
          "text": [
            "“The world as we have created it is a process of our thinking. It cannot be changed without changing our thinking.”\n",
            "Albert Einstein\n",
            "------------------------------\n",
            "“It is our choices, Harry, that show what we truly are, far more than our abilities.”\n",
            "J.K. Rowling\n",
            "------------------------------\n",
            "“There are only two ways to live your life. One is as though nothing is a miracle. The other is as though everything is a miracle.”\n",
            "Albert Einstein\n",
            "------------------------------\n",
            "“The person, be it gentleman or lady, who has not pleasure in a good novel, must be intolerably stupid.”\n",
            "Jane Austen\n",
            "------------------------------\n",
            "“Imperfection is beauty, madness is genius and it's better to be absolutely ridiculous than absolutely boring.”\n",
            "Marilyn Monroe\n",
            "------------------------------\n",
            "“Try not to become a man of success. Rather become a man of value.”\n",
            "Albert Einstein\n",
            "------------------------------\n",
            "“It is better to be hated for what you are than to be loved for what you are not.”\n",
            "André Gide\n",
            "------------------------------\n",
            "“I have not failed. I've just found 10,000 ways that won't work.”\n",
            "Thomas A. Edison\n",
            "------------------------------\n",
            "“A woman is like a tea bag; you never know how strong it is until it's in hot water.”\n",
            "Eleanor Roosevelt\n",
            "------------------------------\n",
            "“A day without sunshine is like, you know, night.”\n",
            "Steve Martin\n",
            "------------------------------\n",
            "“This life is what you make it. No matter what, you're going to mess up sometimes, it's a universal truth. But the good part is you get to decide how you're going to mess it up. Girls will be your friends - they'll act like it anyway. But just remember, some come, some go. The ones that stay with you through everything - they're your true best friends. Don't let go of them. Also remember, sisters make the best friends in the world. As for lovers, well, they'll come and go too. And baby, I hate to say it, most of them - actually pretty much all of them are going to break your heart, but you can't give up because if you give up, you'll never find your soulmate. You'll never find that half who makes you whole and that goes for everything. Just because you fail once, doesn't mean you're gonna fail at everything. Keep trying, hold on, and always, always, always believe in yourself, because if you don't, then who will, sweetie? So keep your head high, keep your chin up, and most importantly, keep smiling, because life's a beautiful thing and there's so much to smile about.”\n",
            "Marilyn Monroe\n",
            "------------------------------\n",
            "“It takes a great deal of bravery to stand up to our enemies, but just as much to stand up to our friends.”\n",
            "J.K. Rowling\n",
            "------------------------------\n",
            "“If you can't explain it to a six year old, you don't understand it yourself.”\n",
            "Albert Einstein\n",
            "------------------------------\n",
            "“You may not be her first, her last, or her only. She loved before she may love again. But if she loves you now, what else matters? She's not perfect—you aren't either, and the two of you may never be perfect together but if she can make you laugh, cause you to think twice, and admit to being human and making mistakes, hold onto her and give her the most you can. She may not be thinking about you every second of the day, but she will give you a part of her that she knows you can break—her heart. So don't hurt her, don't change her, don't analyze and don't expect more than she can give. Smile when she makes you happy, let her know when she makes you mad, and miss her when she's not there.”\n",
            "Bob Marley\n",
            "------------------------------\n",
            "“I like nonsense, it wakes up the brain cells. Fantasy is a necessary ingredient in living.”\n",
            "Dr. Seuss\n",
            "------------------------------\n",
            "“I may not have gone where I intended to go, but I think I have ended up where I needed to be.”\n",
            "Douglas Adams\n",
            "------------------------------\n",
            "“The opposite of love is not hate, it's indifference. The opposite of art is not ugliness, it's indifference. The opposite of faith is not heresy, it's indifference. And the opposite of life is not death, it's indifference.”\n",
            "Elie Wiesel\n",
            "------------------------------\n",
            "“It is not a lack of love, but a lack of friendship that makes unhappy marriages.”\n",
            "Friedrich Nietzsche\n",
            "------------------------------\n",
            "“Good friends, good books, and a sleepy conscience: this is the ideal life.”\n",
            "Mark Twain\n",
            "------------------------------\n",
            "“Life is what happens to us while we are making other plans.”\n",
            "Allen Saunders\n",
            "------------------------------\n",
            "“I love you without knowing how, or when, or from where. I love you simply, without problems or pride: I love you in this way because I do not know any other way of loving but this, in which there is no I or you, so intimate that your hand upon my chest is my hand, so intimate that when I fall asleep your eyes close.”\n",
            "Pablo Neruda\n",
            "------------------------------\n",
            "“For every minute you are angry you lose sixty seconds of happiness.”\n",
            "Ralph Waldo Emerson\n",
            "------------------------------\n",
            "“If you judge people, you have no time to love them.”\n",
            "Mother Teresa\n",
            "------------------------------\n",
            "“Anyone who thinks sitting in church can make you a Christian must also think that sitting in a garage can make you a car.”\n",
            "Garrison Keillor\n",
            "------------------------------\n",
            "“Beauty is in the eye of the beholder and it may be necessary from time to time to give a stupid or misinformed beholder a black eye.”\n",
            "Jim Henson\n",
            "------------------------------\n",
            "“Today you are You, that is truer than true. There is no one alive who is Youer than You.”\n",
            "Dr. Seuss\n",
            "------------------------------\n",
            "“If you want your children to be intelligent, read them fairy tales. If you want them to be more intelligent, read them more fairy tales.”\n",
            "Albert Einstein\n",
            "------------------------------\n",
            "“It is impossible to live without failing at something, unless you live so cautiously that you might as well not have lived at all - in which case, you fail by default.”\n",
            "J.K. Rowling\n",
            "------------------------------\n",
            "“Logic will get you from A to Z; imagination will get you everywhere.”\n",
            "Albert Einstein\n",
            "------------------------------\n",
            "“One good thing about music, when it hits you, you feel no pain.”\n",
            "Bob Marley\n",
            "------------------------------\n",
            "“The more that you read, the more things you will know. The more that you learn, the more places you'll go.”\n",
            "Dr. Seuss\n",
            "------------------------------\n",
            "“Of course it is happening inside your head, Harry, but why on earth should that mean that it is not real?”\n",
            "J.K. Rowling\n",
            "------------------------------\n",
            "“The truth is, everyone is going to hurt you. You just got to find the ones worth suffering for.”\n",
            "Bob Marley\n",
            "------------------------------\n",
            "“Not all of us can do great things. But we can do small things with great love.”\n",
            "Mother Teresa\n",
            "------------------------------\n",
            "“To the well-organized mind, death is but the next great adventure.”\n",
            "J.K. Rowling\n",
            "------------------------------\n",
            "“All you need is love. But a little chocolate now and then doesn't hurt.”\n",
            "Charles M. Schulz\n",
            "------------------------------\n",
            "“We read to know we're not alone.”\n",
            "William Nicholson\n",
            "------------------------------\n",
            "“Any fool can know. The point is to understand.”\n",
            "Albert Einstein\n",
            "------------------------------\n",
            "“I have always imagined that Paradise will be a kind of library.”\n",
            "Jorge Luis Borges\n",
            "------------------------------\n",
            "“It is never too late to be what you might have been.”\n",
            "George Eliot\n",
            "------------------------------\n",
            "“A reader lives a thousand lives before he dies, said Jojen. The man who never reads lives only one.”\n",
            "George R.R. Martin\n",
            "------------------------------\n",
            "“You can never get a cup of tea large enough or a book long enough to suit me.”\n",
            "C.S. Lewis\n",
            "------------------------------\n",
            "“You believe lies so you eventually learn to trust no one but yourself.”\n",
            "Marilyn Monroe\n",
            "------------------------------\n",
            "“If you can make a woman laugh, you can make her do anything.”\n",
            "Marilyn Monroe\n",
            "------------------------------\n",
            "“Life is like riding a bicycle. To keep your balance, you must keep moving.”\n",
            "Albert Einstein\n",
            "------------------------------\n",
            "“The real lover is the man who can thrill you by kissing your forehead or smiling into your eyes or just staring into space.”\n",
            "Marilyn Monroe\n",
            "------------------------------\n",
            "“A wise girl kisses but doesn't love, listens but doesn't believe, and leaves before she is left.”\n",
            "Marilyn Monroe\n",
            "------------------------------\n",
            "“Only in the darkness can you see the stars.”\n",
            "Martin Luther King Jr.\n",
            "------------------------------\n",
            "“It matters not what someone is born, but what they grow to be.”\n",
            "J.K. Rowling\n",
            "------------------------------\n",
            "“Love does not begin and end the way we seem to think it does. Love is a battle, love is a war; love is a growing up.”\n",
            "James Baldwin\n",
            "------------------------------\n",
            "“There is nothing I would not do for those who are really my friends. I have no notion of loving people by halves, it is not my nature.”\n",
            "Jane Austen\n",
            "------------------------------\n",
            "“Do one thing every day that scares you.”\n",
            "Eleanor Roosevelt\n",
            "------------------------------\n",
            "“I am good, but not an angel. I do sin, but I am not the devil. I am just a small girl in a big world trying to find someone to love.”\n",
            "Marilyn Monroe\n",
            "------------------------------\n",
            "“If I were not a physicist, I would probably be a musician. I often think in music. I live my daydreams in music. I see my life in terms of music.”\n",
            "Albert Einstein\n",
            "------------------------------\n",
            "“If you only read the books that everyone else is reading, you can only think what everyone else is thinking.”\n",
            "Haruki Murakami\n",
            "------------------------------\n",
            "“The difference between genius and stupidity is: genius has its limits.”\n",
            "Alexandre Dumas fils\n",
            "------------------------------\n",
            "“He's like a drug for you, Bella.”\n",
            "Stephenie Meyer\n",
            "------------------------------\n",
            "“There is no friend as loyal as a book.”\n",
            "Ernest Hemingway\n",
            "------------------------------\n",
            "“When one door of happiness closes, another opens; but often we look so long at the closed door that we do not see the one which has been opened for us.”\n",
            "Helen Keller\n",
            "------------------------------\n",
            "“Life isn't about finding yourself. Life is about creating yourself.”\n",
            "George Bernard Shaw\n",
            "------------------------------\n",
            "“That's the problem with drinking, I thought, as I poured myself a drink. If something bad happens you drink in an attempt to forget; if something good happens you drink in order to celebrate; and if nothing happens you drink to make something happen.”\n",
            "Charles Bukowski\n",
            "------------------------------\n",
            "“You don’t forget the face of the person who was your last hope.”\n",
            "Suzanne Collins\n",
            "------------------------------\n",
            "“Remember, we're madly in love, so it's all right to kiss me anytime you feel like it.”\n",
            "Suzanne Collins\n",
            "------------------------------\n",
            "“To love at all is to be vulnerable. Love anything and your heart will be wrung and possibly broken. If you want to make sure of keeping it intact you must give it to no one, not even an animal. Wrap it carefully round with hobbies and little luxuries; avoid all entanglements. Lock it up safe in the casket or coffin of your selfishness. But in that casket, safe, dark, motionless, airless, it will change. It will not be broken; it will become unbreakable, impenetrable, irredeemable. To love is to be vulnerable.”\n",
            "C.S. Lewis\n",
            "------------------------------\n",
            "“Not all those who wander are lost.”\n",
            "J.R.R. Tolkien\n",
            "------------------------------\n",
            "“Do not pity the dead, Harry. Pity the living, and, above all those who live without love.”\n",
            "J.K. Rowling\n",
            "------------------------------\n",
            "“There is nothing to writing. All you do is sit down at a typewriter and bleed.”\n",
            "Ernest Hemingway\n",
            "------------------------------\n",
            "“Finish each day and be done with it. You have done what you could. Some blunders and absurdities no doubt crept in; forget them as soon as you can. Tomorrow is a new day. You shall begin it serenely and with too high a spirit to be encumbered with your old nonsense.”\n",
            "Ralph Waldo Emerson\n",
            "------------------------------\n",
            "“I have never let my schooling interfere with my education.”\n",
            "Mark Twain\n",
            "------------------------------\n",
            "“I have heard there are troubles of more than one kind. Some come from ahead and some come from behind. But I've bought a big bat. I'm all ready you see. Now my troubles are going to have troubles with me!”\n",
            "Dr. Seuss\n",
            "------------------------------\n",
            "“If I had a flower for every time I thought of you...I could walk through my garden forever.”\n",
            "Alfred Tennyson\n",
            "------------------------------\n",
            "“Some people never go crazy. What truly horrible lives they must lead.”\n",
            "Charles Bukowski\n",
            "------------------------------\n",
            "“The trouble with having an open mind, of course, is that people will insist on coming along and trying to put things in it.”\n",
            "Terry Pratchett\n",
            "------------------------------\n",
            "“Think left and think right and think low and think high. Oh, the thinks you can think up if only you try!”\n",
            "Dr. Seuss\n",
            "------------------------------\n",
            "“What really knocks me out is a book that, when you're all done reading it, you wish the author that wrote it was a terrific friend of yours and you could call him up on the phone whenever you felt like it. That doesn't happen much, though.”\n",
            "J.D. Salinger\n",
            "------------------------------\n",
            "“The reason I talk to myself is because I’m the only one whose answers I accept.”\n",
            "George Carlin\n",
            "------------------------------\n",
            "“You may say I'm a dreamer, but I'm not the only one. I hope someday you'll join us. And the world will live as one.”\n",
            "John Lennon\n",
            "------------------------------\n",
            "“I am free of all prejudice. I hate everyone equally. ”\n",
            "W.C. Fields\n",
            "------------------------------\n",
            "“The question isn't who is going to let me; it's who is going to stop me.”\n",
            "Ayn Rand\n",
            "------------------------------\n",
            "“′Classic′ - a book which people praise and don't read.”\n",
            "Mark Twain\n",
            "------------------------------\n",
            "“Anyone who has never made a mistake has never tried anything new.”\n",
            "Albert Einstein\n",
            "------------------------------\n",
            "“A lady's imagination is very rapid; it jumps from admiration to love, from love to matrimony in a moment.”\n",
            "Jane Austen\n",
            "------------------------------\n",
            "“Remember, if the time should come when you have to make a choice between what is right and what is easy, remember what happened to a boy who was good, and kind, and brave, because he strayed across the path of Lord Voldemort. Remember Cedric Diggory.”\n",
            "J.K. Rowling\n",
            "------------------------------\n",
            "“I declare after all there is no enjoyment like reading! How much sooner one tires of any thing than of a book! -- When I have a house of my own, I shall be miserable if I have not an excellent library.”\n",
            "Jane Austen\n",
            "------------------------------\n",
            "“There are few people whom I really love, and still fewer of whom I think well. The more I see of the world, the more am I dissatisfied with it; and every day confirms my belief of the inconsistency of all human characters, and of the little dependence that can be placed on the appearance of merit or sense.”\n",
            "Jane Austen\n",
            "------------------------------\n",
            "“Some day you will be old enough to start reading fairy tales again.”\n",
            "C.S. Lewis\n",
            "------------------------------\n",
            "“We are not necessarily doubting that God will do the best for us; we are wondering how painful the best will turn out to be.”\n",
            "C.S. Lewis\n",
            "------------------------------\n",
            "“The fear of death follows from the fear of life. A man who lives fully is prepared to die at any time.”\n",
            "Mark Twain\n",
            "------------------------------\n",
            "“A lie can travel half way around the world while the truth is putting on its shoes.”\n",
            "Mark Twain\n",
            "------------------------------\n",
            "“I believe in Christianity as I believe that the sun has risen: not only because I see it, but because by it I see everything else.”\n",
            "C.S. Lewis\n",
            "------------------------------\n",
            "“The truth.\" Dumbledore sighed. \"It is a beautiful and terrible thing, and should therefore be treated with great caution.”\n",
            "J.K. Rowling\n",
            "------------------------------\n",
            "“I'm the one that's got to die when it's time for me to die, so let me live my life the way I want to.”\n",
            "Jimi Hendrix\n",
            "------------------------------\n",
            "“To die will be an awfully big adventure.”\n",
            "J.M. Barrie\n",
            "------------------------------\n",
            "“It takes courage to grow up and become who you really are.”\n",
            "E.E. Cummings\n",
            "------------------------------\n",
            "“But better to get hurt by the truth than comforted with a lie.”\n",
            "Khaled Hosseini\n",
            "------------------------------\n",
            "“You never really understand a person until you consider things from his point of view... Until you climb inside of his skin and walk around in it.”\n",
            "Harper Lee\n",
            "------------------------------\n",
            "“You have to write the book that wants to be written. And if the book will be too difficult for grown-ups, then you write it for children.”\n",
            "Madeleine L'Engle\n",
            "------------------------------\n",
            "“Never tell the truth to people who are not worthy of it.”\n",
            "Mark Twain\n",
            "------------------------------\n",
            "“A person's a person, no matter how small.”\n",
            "Dr. Seuss\n",
            "------------------------------\n",
            "“... a mind needs books as a sword needs a whetstone, if it is to keep its edge.”\n",
            "George R.R. Martin\n",
            "------------------------------\n"
          ]
        }
      ],
      "source": [
        "while True:\n",
        "    # scrape each page\n",
        "    for i in soup.find_all(class_=\"quote\"):\n",
        "        print(i.find(class_='text').text)\n",
        "        print(i.find(class_='author').text)\n",
        "        print('------------------------------')\n",
        "        \n",
        "    # going to the next page to scrape\n",
        "    nextlink = soup.find(class_=\"next\")\n",
        "    \n",
        "    if nextlink:\n",
        "        nextlink = URL + nextlink.a['href']\n",
        "        subhtml = requests.get(nextlink)\n",
        "        soup = BeautifulSoup(subhtml.text, \"html.parser\")\n",
        "    else:\n",
        "        break\n",
        "        "
      ]
    },
    {
      "cell_type": "markdown",
      "metadata": {
        "id": "Hyb9CkPyxOXM"
      },
      "source": [
        "Now, lets get a page that is rendered dynamically using Javascript. In this case, we will use Selenium to fetch the page."
      ]
    },
    {
      "cell_type": "code",
      "execution_count": 41,
      "metadata": {
        "id": "cddxh4fVHbIi"
      },
      "outputs": [],
      "source": [
        "from selenium import webdriver\n",
        "from selenium.webdriver.common.keys import Keys\n",
        "from selenium.webdriver.support.ui import WebDriverWait"
      ]
    },
    {
      "cell_type": "code",
      "execution_count": 42,
      "metadata": {
        "id": "biVeHRaXHbIi",
        "outputId": "00b11ed7-7586-4b37-f057-1f978ad65412"
      },
      "outputs": [
        {
          "data": {
            "text/plain": [
              "<!DOCTYPE html>\n",
              "\n",
              "<html lang=\"en\">\n",
              "<head>\n",
              "<meta charset=\"utf-8\"/>\n",
              "<title>Quotes to Scrape</title>\n",
              "<link href=\"/static/bootstrap.min.css\" rel=\"stylesheet\"/>\n",
              "<link href=\"/static/main.css\" rel=\"stylesheet\"/>\n",
              "</head>\n",
              "<body>\n",
              "<div class=\"container\">\n",
              "<div class=\"row header-box\">\n",
              "<div class=\"col-md-8\">\n",
              "<h1>\n",
              "<a href=\"/\" style=\"text-decoration: none\">Quotes to Scrape</a>\n",
              "</h1>\n",
              "</div>\n",
              "<div class=\"col-md-4\">\n",
              "<p>\n",
              "<a href=\"/login\">Login</a>\n",
              "</p>\n",
              "</div>\n",
              "</div>\n",
              "<script src=\"/static/jquery.js\"></script>\n",
              "<script>\n",
              "    var data = [\n",
              "    {\n",
              "        \"tags\": [\n",
              "            \"change\",\n",
              "            \"deep-thoughts\",\n",
              "            \"thinking\",\n",
              "            \"world\"\n",
              "        ],\n",
              "        \"author\": {\n",
              "            \"name\": \"Albert Einstein\",\n",
              "            \"goodreads_link\": \"/author/show/9810.Albert_Einstein\",\n",
              "            \"slug\": \"Albert-Einstein\"\n",
              "        },\n",
              "        \"text\": \"\\u201cThe world as we have created it is a process of our thinking. It cannot be changed without changing our thinking.\\u201d\"\n",
              "    },\n",
              "    {\n",
              "        \"tags\": [\n",
              "            \"abilities\",\n",
              "            \"choices\"\n",
              "        ],\n",
              "        \"author\": {\n",
              "            \"name\": \"J.K. Rowling\",\n",
              "            \"goodreads_link\": \"/author/show/1077326.J_K_Rowling\",\n",
              "            \"slug\": \"J-K-Rowling\"\n",
              "        },\n",
              "        \"text\": \"\\u201cIt is our choices, Harry, that show what we truly are, far more than our abilities.\\u201d\"\n",
              "    },\n",
              "    {\n",
              "        \"tags\": [\n",
              "            \"inspirational\",\n",
              "            \"life\",\n",
              "            \"live\",\n",
              "            \"miracle\",\n",
              "            \"miracles\"\n",
              "        ],\n",
              "        \"author\": {\n",
              "            \"name\": \"Albert Einstein\",\n",
              "            \"goodreads_link\": \"/author/show/9810.Albert_Einstein\",\n",
              "            \"slug\": \"Albert-Einstein\"\n",
              "        },\n",
              "        \"text\": \"\\u201cThere are only two ways to live your life. One is as though nothing is a miracle. The other is as though everything is a miracle.\\u201d\"\n",
              "    },\n",
              "    {\n",
              "        \"tags\": [\n",
              "            \"aliteracy\",\n",
              "            \"books\",\n",
              "            \"classic\",\n",
              "            \"humor\"\n",
              "        ],\n",
              "        \"author\": {\n",
              "            \"name\": \"Jane Austen\",\n",
              "            \"goodreads_link\": \"/author/show/1265.Jane_Austen\",\n",
              "            \"slug\": \"Jane-Austen\"\n",
              "        },\n",
              "        \"text\": \"\\u201cThe person, be it gentleman or lady, who has not pleasure in a good novel, must be intolerably stupid.\\u201d\"\n",
              "    },\n",
              "    {\n",
              "        \"tags\": [\n",
              "            \"be-yourself\",\n",
              "            \"inspirational\"\n",
              "        ],\n",
              "        \"author\": {\n",
              "            \"name\": \"Marilyn Monroe\",\n",
              "            \"goodreads_link\": \"/author/show/82952.Marilyn_Monroe\",\n",
              "            \"slug\": \"Marilyn-Monroe\"\n",
              "        },\n",
              "        \"text\": \"\\u201cImperfection is beauty, madness is genius and it's better to be absolutely ridiculous than absolutely boring.\\u201d\"\n",
              "    },\n",
              "    {\n",
              "        \"tags\": [\n",
              "            \"adulthood\",\n",
              "            \"success\",\n",
              "            \"value\"\n",
              "        ],\n",
              "        \"author\": {\n",
              "            \"name\": \"Albert Einstein\",\n",
              "            \"goodreads_link\": \"/author/show/9810.Albert_Einstein\",\n",
              "            \"slug\": \"Albert-Einstein\"\n",
              "        },\n",
              "        \"text\": \"\\u201cTry not to become a man of success. Rather become a man of value.\\u201d\"\n",
              "    },\n",
              "    {\n",
              "        \"tags\": [\n",
              "            \"life\",\n",
              "            \"love\"\n",
              "        ],\n",
              "        \"author\": {\n",
              "            \"name\": \"Andr\\u00e9 Gide\",\n",
              "            \"goodreads_link\": \"/author/show/7617.Andr_Gide\",\n",
              "            \"slug\": \"Andre-Gide\"\n",
              "        },\n",
              "        \"text\": \"\\u201cIt is better to be hated for what you are than to be loved for what you are not.\\u201d\"\n",
              "    },\n",
              "    {\n",
              "        \"tags\": [\n",
              "            \"edison\",\n",
              "            \"failure\",\n",
              "            \"inspirational\",\n",
              "            \"paraphrased\"\n",
              "        ],\n",
              "        \"author\": {\n",
              "            \"name\": \"Thomas A. Edison\",\n",
              "            \"goodreads_link\": \"/author/show/3091287.Thomas_A_Edison\",\n",
              "            \"slug\": \"Thomas-A-Edison\"\n",
              "        },\n",
              "        \"text\": \"\\u201cI have not failed. I've just found 10,000 ways that won't work.\\u201d\"\n",
              "    },\n",
              "    {\n",
              "        \"tags\": [\n",
              "            \"misattributed-eleanor-roosevelt\"\n",
              "        ],\n",
              "        \"author\": {\n",
              "            \"name\": \"Eleanor Roosevelt\",\n",
              "            \"goodreads_link\": \"/author/show/44566.Eleanor_Roosevelt\",\n",
              "            \"slug\": \"Eleanor-Roosevelt\"\n",
              "        },\n",
              "        \"text\": \"\\u201cA woman is like a tea bag; you never know how strong it is until it's in hot water.\\u201d\"\n",
              "    },\n",
              "    {\n",
              "        \"tags\": [\n",
              "            \"humor\",\n",
              "            \"obvious\",\n",
              "            \"simile\"\n",
              "        ],\n",
              "        \"author\": {\n",
              "            \"name\": \"Steve Martin\",\n",
              "            \"goodreads_link\": \"/author/show/7103.Steve_Martin\",\n",
              "            \"slug\": \"Steve-Martin\"\n",
              "        },\n",
              "        \"text\": \"\\u201cA day without sunshine is like, you know, night.\\u201d\"\n",
              "    }\n",
              "];\n",
              "    for (var i in data) {\n",
              "        var d = data[i];\n",
              "        var tags = $.map(d['tags'], function(t) {\n",
              "            return \"<a class='tag'>\" + t + \"</a>\";\n",
              "        }).join(\" \");\n",
              "        document.write(\"<div class='quote'><span class='text'>\" + d['text'] + \"</span><span>by <small class='author'>\" + d['author']['name'] + \"</small></span><div class='tags'>Tags: \" + tags + \"</div></div>\");\n",
              "        }\n",
              "</script>\n",
              "<nav>\n",
              "<ul class=\"pager\">\n",
              "<li class=\"next\">\n",
              "<a href=\"/js/page/2/\">Next <span aria-hidden=\"true\">→</span></a>\n",
              "</li>\n",
              "</ul>\n",
              "</nav>\n",
              "</div>\n",
              "<footer class=\"footer\">\n",
              "<div class=\"container\">\n",
              "<p class=\"text-muted\">\n",
              "                Quotes by: <a href=\"https://www.goodreads.com/quotes\">GoodReads.com</a>\n",
              "</p>\n",
              "<p class=\"copyright\">\n",
              "                Made with <span class=\"zyte\">❤</span> by <a class=\"zyte\" href=\"https://www.zyte.com\">Zyte</a>\n",
              "</p>\n",
              "</div>\n",
              "</footer>\n",
              "</body>\n",
              "</html>"
            ]
          },
          "execution_count": 42,
          "metadata": {},
          "output_type": "execute_result"
        }
      ],
      "source": [
        "URL = \"http://quotes.toscrape.com/js\"\n",
        "html = requests.get(URL)\n",
        "soup = BeautifulSoup(html.text, \"html.parser\")\n",
        "soup"
      ]
    },
    {
      "cell_type": "code",
      "execution_count": 44,
      "metadata": {
        "id": "p7y4x9NRxOXN",
        "outputId": "f009d186-cb5d-436c-de9d-2c4c5499a308"
      },
      "outputs": [
        {
          "ename": "WebDriverException",
          "evalue": "Message: 'chromedriver' executable needs to be in PATH. Please see https://sites.google.com/a/chromium.org/chromedriver/home\n",
          "output_type": "error",
          "traceback": [
            "\u001b[1;31m---------------------------------------------------------------------------\u001b[0m",
            "\u001b[1;31mFileNotFoundError\u001b[0m                         Traceback (most recent call last)",
            "File \u001b[1;32mc:\\Users\\USER\\anaconda3\\Lib\\site-packages\\selenium\\webdriver\\common\\service.py:72\u001b[0m, in \u001b[0;36mService.start\u001b[1;34m(self)\u001b[0m\n\u001b[0;32m     71\u001b[0m     cmd\u001b[38;5;241m.\u001b[39mextend(\u001b[38;5;28mself\u001b[39m\u001b[38;5;241m.\u001b[39mcommand_line_args())\n\u001b[1;32m---> 72\u001b[0m     \u001b[38;5;28mself\u001b[39m\u001b[38;5;241m.\u001b[39mprocess \u001b[38;5;241m=\u001b[39m subprocess\u001b[38;5;241m.\u001b[39mPopen(cmd, env\u001b[38;5;241m=\u001b[39m\u001b[38;5;28mself\u001b[39m\u001b[38;5;241m.\u001b[39menv,\n\u001b[0;32m     73\u001b[0m                                     close_fds\u001b[38;5;241m=\u001b[39mplatform\u001b[38;5;241m.\u001b[39msystem() \u001b[38;5;241m!=\u001b[39m \u001b[38;5;124m'\u001b[39m\u001b[38;5;124mWindows\u001b[39m\u001b[38;5;124m'\u001b[39m,\n\u001b[0;32m     74\u001b[0m                                     stdout\u001b[38;5;241m=\u001b[39m\u001b[38;5;28mself\u001b[39m\u001b[38;5;241m.\u001b[39mlog_file,\n\u001b[0;32m     75\u001b[0m                                     stderr\u001b[38;5;241m=\u001b[39m\u001b[38;5;28mself\u001b[39m\u001b[38;5;241m.\u001b[39mlog_file,\n\u001b[0;32m     76\u001b[0m                                     stdin\u001b[38;5;241m=\u001b[39mPIPE)\n\u001b[0;32m     77\u001b[0m \u001b[38;5;28;01mexcept\u001b[39;00m \u001b[38;5;167;01mTypeError\u001b[39;00m:\n",
            "File \u001b[1;32mc:\\Users\\USER\\anaconda3\\Lib\\subprocess.py:1026\u001b[0m, in \u001b[0;36mPopen.__init__\u001b[1;34m(self, args, bufsize, executable, stdin, stdout, stderr, preexec_fn, close_fds, shell, cwd, env, universal_newlines, startupinfo, creationflags, restore_signals, start_new_session, pass_fds, user, group, extra_groups, encoding, errors, text, umask, pipesize, process_group)\u001b[0m\n\u001b[0;32m   1023\u001b[0m             \u001b[38;5;28mself\u001b[39m\u001b[38;5;241m.\u001b[39mstderr \u001b[38;5;241m=\u001b[39m io\u001b[38;5;241m.\u001b[39mTextIOWrapper(\u001b[38;5;28mself\u001b[39m\u001b[38;5;241m.\u001b[39mstderr,\n\u001b[0;32m   1024\u001b[0m                     encoding\u001b[38;5;241m=\u001b[39mencoding, errors\u001b[38;5;241m=\u001b[39merrors)\n\u001b[1;32m-> 1026\u001b[0m     \u001b[38;5;28mself\u001b[39m\u001b[38;5;241m.\u001b[39m_execute_child(args, executable, preexec_fn, close_fds,\n\u001b[0;32m   1027\u001b[0m                         pass_fds, cwd, env,\n\u001b[0;32m   1028\u001b[0m                         startupinfo, creationflags, shell,\n\u001b[0;32m   1029\u001b[0m                         p2cread, p2cwrite,\n\u001b[0;32m   1030\u001b[0m                         c2pread, c2pwrite,\n\u001b[0;32m   1031\u001b[0m                         errread, errwrite,\n\u001b[0;32m   1032\u001b[0m                         restore_signals,\n\u001b[0;32m   1033\u001b[0m                         gid, gids, uid, umask,\n\u001b[0;32m   1034\u001b[0m                         start_new_session, process_group)\n\u001b[0;32m   1035\u001b[0m \u001b[38;5;28;01mexcept\u001b[39;00m:\n\u001b[0;32m   1036\u001b[0m     \u001b[38;5;66;03m# Cleanup if the child failed starting.\u001b[39;00m\n",
            "File \u001b[1;32mc:\\Users\\USER\\anaconda3\\Lib\\subprocess.py:1538\u001b[0m, in \u001b[0;36mPopen._execute_child\u001b[1;34m(self, args, executable, preexec_fn, close_fds, pass_fds, cwd, env, startupinfo, creationflags, shell, p2cread, p2cwrite, c2pread, c2pwrite, errread, errwrite, unused_restore_signals, unused_gid, unused_gids, unused_uid, unused_umask, unused_start_new_session, unused_process_group)\u001b[0m\n\u001b[0;32m   1537\u001b[0m \u001b[38;5;28;01mtry\u001b[39;00m:\n\u001b[1;32m-> 1538\u001b[0m     hp, ht, pid, tid \u001b[38;5;241m=\u001b[39m _winapi\u001b[38;5;241m.\u001b[39mCreateProcess(executable, args,\n\u001b[0;32m   1539\u001b[0m                              \u001b[38;5;66;03m# no special security\u001b[39;00m\n\u001b[0;32m   1540\u001b[0m                              \u001b[38;5;28;01mNone\u001b[39;00m, \u001b[38;5;28;01mNone\u001b[39;00m,\n\u001b[0;32m   1541\u001b[0m                              \u001b[38;5;28mint\u001b[39m(\u001b[38;5;129;01mnot\u001b[39;00m close_fds),\n\u001b[0;32m   1542\u001b[0m                              creationflags,\n\u001b[0;32m   1543\u001b[0m                              env,\n\u001b[0;32m   1544\u001b[0m                              cwd,\n\u001b[0;32m   1545\u001b[0m                              startupinfo)\n\u001b[0;32m   1546\u001b[0m \u001b[38;5;28;01mfinally\u001b[39;00m:\n\u001b[0;32m   1547\u001b[0m     \u001b[38;5;66;03m# Child is launched. Close the parent's copy of those pipe\u001b[39;00m\n\u001b[0;32m   1548\u001b[0m     \u001b[38;5;66;03m# handles that only the child should have open.  You need\u001b[39;00m\n\u001b[1;32m   (...)\u001b[0m\n\u001b[0;32m   1551\u001b[0m     \u001b[38;5;66;03m# pipe will not close when the child process exits and the\u001b[39;00m\n\u001b[0;32m   1552\u001b[0m     \u001b[38;5;66;03m# ReadFile will hang.\u001b[39;00m\n",
            "\u001b[1;31mFileNotFoundError\u001b[0m: [WinError 2] 系統找不到指定的檔案。",
            "\nDuring handling of the above exception, another exception occurred:\n",
            "\u001b[1;31mWebDriverException\u001b[0m                        Traceback (most recent call last)",
            "Cell \u001b[1;32mIn[44], line 4\u001b[0m\n\u001b[0;32m      1\u001b[0m \u001b[38;5;66;03m# Use Selenium to access the HTML AFTER simulating going to the webpage\u001b[39;00m\n\u001b[0;32m      3\u001b[0m URL \u001b[38;5;241m=\u001b[39m \u001b[38;5;124m\"\u001b[39m\u001b[38;5;124mhttp://quotes.toscrape.com/js\u001b[39m\u001b[38;5;124m\"\u001b[39m\n\u001b[1;32m----> 4\u001b[0m driver \u001b[38;5;241m=\u001b[39m webdriver\u001b[38;5;241m.\u001b[39mChrome()\n\u001b[0;32m      5\u001b[0m driver\u001b[38;5;241m.\u001b[39mget(URL)\n\u001b[0;32m      6\u001b[0m subhtml \u001b[38;5;241m=\u001b[39m driver\u001b[38;5;241m.\u001b[39mpage_source\n",
            "File \u001b[1;32mc:\\Users\\USER\\anaconda3\\Lib\\site-packages\\selenium\\webdriver\\chrome\\webdriver.py:73\u001b[0m, in \u001b[0;36mWebDriver.__init__\u001b[1;34m(self, executable_path, port, options, service_args, desired_capabilities, service_log_path, chrome_options, keep_alive)\u001b[0m\n\u001b[0;32m     66\u001b[0m         desired_capabilities\u001b[38;5;241m.\u001b[39mupdate(options\u001b[38;5;241m.\u001b[39mto_capabilities())\n\u001b[0;32m     68\u001b[0m \u001b[38;5;28mself\u001b[39m\u001b[38;5;241m.\u001b[39mservice \u001b[38;5;241m=\u001b[39m Service(\n\u001b[0;32m     69\u001b[0m     executable_path,\n\u001b[0;32m     70\u001b[0m     port\u001b[38;5;241m=\u001b[39mport,\n\u001b[0;32m     71\u001b[0m     service_args\u001b[38;5;241m=\u001b[39mservice_args,\n\u001b[0;32m     72\u001b[0m     log_path\u001b[38;5;241m=\u001b[39mservice_log_path)\n\u001b[1;32m---> 73\u001b[0m \u001b[38;5;28mself\u001b[39m\u001b[38;5;241m.\u001b[39mservice\u001b[38;5;241m.\u001b[39mstart()\n\u001b[0;32m     75\u001b[0m \u001b[38;5;28;01mtry\u001b[39;00m:\n\u001b[0;32m     76\u001b[0m     RemoteWebDriver\u001b[38;5;241m.\u001b[39m\u001b[38;5;21m__init__\u001b[39m(\n\u001b[0;32m     77\u001b[0m         \u001b[38;5;28mself\u001b[39m,\n\u001b[0;32m     78\u001b[0m         command_executor\u001b[38;5;241m=\u001b[39mChromeRemoteConnection(\n\u001b[0;32m     79\u001b[0m             remote_server_addr\u001b[38;5;241m=\u001b[39m\u001b[38;5;28mself\u001b[39m\u001b[38;5;241m.\u001b[39mservice\u001b[38;5;241m.\u001b[39mservice_url,\n\u001b[0;32m     80\u001b[0m             keep_alive\u001b[38;5;241m=\u001b[39mkeep_alive),\n\u001b[0;32m     81\u001b[0m         desired_capabilities\u001b[38;5;241m=\u001b[39mdesired_capabilities)\n",
            "File \u001b[1;32mc:\\Users\\USER\\anaconda3\\Lib\\site-packages\\selenium\\webdriver\\common\\service.py:81\u001b[0m, in \u001b[0;36mService.start\u001b[1;34m(self)\u001b[0m\n\u001b[0;32m     79\u001b[0m \u001b[38;5;28;01mexcept\u001b[39;00m \u001b[38;5;167;01mOSError\u001b[39;00m \u001b[38;5;28;01mas\u001b[39;00m err:\n\u001b[0;32m     80\u001b[0m     \u001b[38;5;28;01mif\u001b[39;00m err\u001b[38;5;241m.\u001b[39merrno \u001b[38;5;241m==\u001b[39m errno\u001b[38;5;241m.\u001b[39mENOENT:\n\u001b[1;32m---> 81\u001b[0m         \u001b[38;5;28;01mraise\u001b[39;00m WebDriverException(\n\u001b[0;32m     82\u001b[0m             \u001b[38;5;124m\"\u001b[39m\u001b[38;5;124m'\u001b[39m\u001b[38;5;132;01m%s\u001b[39;00m\u001b[38;5;124m'\u001b[39m\u001b[38;5;124m executable needs to be in PATH. \u001b[39m\u001b[38;5;132;01m%s\u001b[39;00m\u001b[38;5;124m\"\u001b[39m \u001b[38;5;241m%\u001b[39m (\n\u001b[0;32m     83\u001b[0m                 os\u001b[38;5;241m.\u001b[39mpath\u001b[38;5;241m.\u001b[39mbasename(\u001b[38;5;28mself\u001b[39m\u001b[38;5;241m.\u001b[39mpath), \u001b[38;5;28mself\u001b[39m\u001b[38;5;241m.\u001b[39mstart_error_message)\n\u001b[0;32m     84\u001b[0m         )\n\u001b[0;32m     85\u001b[0m     \u001b[38;5;28;01melif\u001b[39;00m err\u001b[38;5;241m.\u001b[39merrno \u001b[38;5;241m==\u001b[39m errno\u001b[38;5;241m.\u001b[39mEACCES:\n\u001b[0;32m     86\u001b[0m         \u001b[38;5;28;01mraise\u001b[39;00m WebDriverException(\n\u001b[0;32m     87\u001b[0m             \u001b[38;5;124m\"\u001b[39m\u001b[38;5;124m'\u001b[39m\u001b[38;5;132;01m%s\u001b[39;00m\u001b[38;5;124m'\u001b[39m\u001b[38;5;124m executable may have wrong permissions. \u001b[39m\u001b[38;5;132;01m%s\u001b[39;00m\u001b[38;5;124m\"\u001b[39m \u001b[38;5;241m%\u001b[39m (\n\u001b[0;32m     88\u001b[0m                 os\u001b[38;5;241m.\u001b[39mpath\u001b[38;5;241m.\u001b[39mbasename(\u001b[38;5;28mself\u001b[39m\u001b[38;5;241m.\u001b[39mpath), \u001b[38;5;28mself\u001b[39m\u001b[38;5;241m.\u001b[39mstart_error_message)\n\u001b[0;32m     89\u001b[0m         )\n",
            "\u001b[1;31mWebDriverException\u001b[0m: Message: 'chromedriver' executable needs to be in PATH. Please see https://sites.google.com/a/chromium.org/chromedriver/home\n"
          ]
        }
      ],
      "source": [
        "# Use Selenium to access the HTML AFTER simulating going to the webpage\n",
        "\n",
        "URL = \"http://quotes.toscrape.com/js\"\n",
        "driver = webdriver.Chrome()\n",
        "driver.get(URL)\n",
        "subhtml = driver.page_source\n",
        "soup = BeautifulSoup(subhtml, \"html.parser\")\n",
        "    \n",
        "while True:\n",
        "    # scrape each page\n",
        "    for i in soup.find_all(class_=\"quote\"):\n",
        "        print(i.find(class_='text').text)\n",
        "        print(i.find(class_='author').text)\n",
        "        print('------------------------------')\n",
        "        \n",
        "    # going to the next page to scrape\n",
        "    nextlink = soup.find(class_=\"next\")\n",
        "\n",
        "    if nextlink:\n",
        "        nextlink = URL[:-2] + nextlink.a['href']\n",
        "        driver.get(nextlink)\n",
        "        subhtml = driver.page_source\n",
        "        soup = BeautifulSoup(subhtml, \"html.parser\")\n",
        "    else:\n",
        "        break\n"
      ]
    },
    {
      "cell_type": "markdown",
      "metadata": {
        "id": "OHeN0f88xTy0"
      },
      "source": [
        "### References"
      ]
    },
    {
      "cell_type": "markdown",
      "metadata": {
        "id": "XIDMQby2xZ4x"
      },
      "source": [
        "Beautiful Soup Documentation - https://www.crummy.com/software/BeautifulSoup/bs4/doc/"
      ]
    },
    {
      "cell_type": "markdown",
      "metadata": {},
      "source": []
    }
  ],
  "metadata": {
    "colab": {
      "provenance": []
    },
    "kernelspec": {
      "display_name": "Python 3",
      "language": "python",
      "name": "python3"
    },
    "language_info": {
      "codemirror_mode": {
        "name": "ipython",
        "version": 3
      },
      "file_extension": ".py",
      "mimetype": "text/x-python",
      "name": "python",
      "nbconvert_exporter": "python",
      "pygments_lexer": "ipython3",
      "version": "3.11.5"
    }
  },
  "nbformat": 4,
  "nbformat_minor": 0
}
