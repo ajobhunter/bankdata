{
 "cells": [
  {
   "cell_type": "markdown",
   "metadata": {
    "colab_type": "text",
    "id": "bGiLquUkGR6I"
   },
   "source": [
    "# Loops, Conditionals and Algorithmic Thinking Exercise 4B"
   ]
  },
  {
   "cell_type": "markdown",
   "metadata": {
    "colab_type": "text",
    "id": "3wcd8RwEGR6K"
   },
   "source": [
    "1. Find the numbers which are divisible by 7 and multiple of 5, between 1200 and 3800 (both included)."
   ]
  },
  {
   "cell_type": "code",
   "execution_count": null,
   "metadata": {
    "colab": {},
    "colab_type": "code",
    "id": "4LYwpzDlGR6M",
    "outputId": "36d825d7-575b-4529-e9ce-22b61d8f2a39"
   },
   "outputs": [
    {
     "name": "stdout",
     "output_type": "stream",
     "text": [
      "1225,1260,1295,1330,1365,1400,1435,1470,1505,1540,1575,1610,1645,1680,1715,1750,1785,1820,1855,1890,1925,1960,1995,2030,2065,2100,2135,2170,2205,2240,2275,2310,2345,2380,2415,2450,2485,2520,2555,2590,2625,2660,2695,2730,2765,2800,2835,2870,2905,2940,2975,3010,3045,3080,3115,3150,3185,3220,3255,3290,3325,3360,3395,3430,3465,3500,3535,3570,3605,3640,3675,3710,3745,3780\n"
     ]
    }
   ],
   "source": [
    "nl=[]\n",
    "for x in range(1200, 3801): #range is exclusive. \n",
    "    #ending value of range() needs to be 3801 to include 3800. \n",
    "    if (x%7==0) and (x%5==0):\n",
    "        nl.append(str(x))\n",
    "print (','.join(nl))"
   ]
  },
  {
   "cell_type": "markdown",
   "metadata": {
    "colab_type": "text",
    "id": "W-FOROaqGR6T"
   },
   "source": [
    "2. Find numbers between 100 and 400 (both included) where each digit of a number is an even number. The numbers obtained should be printed in a comma-separated sequence."
   ]
  },
  {
   "cell_type": "code",
   "execution_count": 12,
   "metadata": {
    "colab": {},
    "colab_type": "code",
    "id": "MfSmM_1HGR6U",
    "outputId": "2eab1a12-e6e0-473b-f098-dc12ad2ba2b3"
   },
   "outputs": [
    {
     "name": "stdout",
     "output_type": "stream",
     "text": [
      "200,202,204,206,208,220,222,224,226,228,240,242,244,246,248,260,262,264,266,268,280,282,284,286,288,400\n"
     ]
    }
   ],
   "source": [
    "items = []\n",
    "for i in range(100, 401):\n",
    "    s = str(i)\n",
    "    if (int(s[0])%2==0) and (int(s[1])%2==0) and (int(s[2])%2==0):\n",
    "        items.append(s)\n",
    "print( \",\".join(items))"
   ]
  },
  {
   "cell_type": "markdown",
   "metadata": {
    "colab": {},
    "colab_type": "code",
    "id": "MfSmM_1HGR6U",
    "outputId": "2eab1a12-e6e0-473b-f098-dc12ad2ba2b3"
   },
   "source": [
    "3. Write a program to calculate a dog's age in dog's years.\n",
    "\n",
    "Note: For the first two years, a dog year is equal to 10.5 human years. After that, each dog year equals 4 human years."
   ]
  },
  {
   "cell_type": "code",
   "execution_count": 1,
   "metadata": {
    "colab": {},
    "colab_type": "code",
    "id": "uC0c3s4dGR6Y",
    "outputId": "5d8bb48f-6c0b-4936-befb-72b24517d0cc"
   },
   "outputs": [
    {
     "name": "stdin",
     "output_type": "stream",
     "text": [
      "Input a dog's age in human years:  9\n"
     ]
    },
    {
     "name": "stdout",
     "output_type": "stream",
     "text": [
      "The dog's age in dog's years is 49\n"
     ]
    }
   ],
   "source": [
    "h_age = int(input(\"Input a dog's age in human years: \"))\n",
    "\n",
    "if h_age < 0:\n",
    "    print(\"Age must be positive number.\")\n",
    "    exit()\n",
    "elif h_age <= 2:\n",
    "    d_age = h_age * 10.5\n",
    "else:\n",
    "    d_age = 21 + (h_age - 2)*4\n",
    "\n",
    "print(\"The dog's age in dog's years is\", d_age)"
   ]
  },
  {
   "cell_type": "markdown",
   "metadata": {
    "colab_type": "text",
    "id": "c0CK4k4GGR6b"
   },
   "source": [
    "4. Write a program that accepts a string and calculate the number of digits and letters."
   ]
  },
  {
   "cell_type": "code",
   "execution_count": 3,
   "metadata": {
    "colab": {},
    "colab_type": "code",
    "id": "JXOcUixBGR6b",
    "outputId": "1434826e-349e-4253-b75a-defbb89d4b18"
   },
   "outputs": [
    {
     "name": "stdin",
     "output_type": "stream",
     "text": [
      "Input a string  hi i am 460 years old my number is 87294745 ////// ----\n"
     ]
    },
    {
     "name": "stdout",
     "output_type": "stream",
     "text": [
      "Letters 23\n",
      "Digits 11\n"
     ]
    }
   ],
   "source": [
    "s = input(\"Input a string\")\n",
    "d=l=0\n",
    "for c in s:\n",
    "    if c.isdigit(): #check for numerical\n",
    "        d=d+1\n",
    "    elif c.isalpha(): #check for alphabet letters\n",
    "        l=l+1\n",
    "    else:\n",
    "        pass\n",
    "print(\"Letters\", l)\n",
    "print(\"Digits\", d)"
   ]
  },
  {
   "cell_type": "markdown",
   "metadata": {
    "colab_type": "text",
    "id": "WsDAnMfiGR6d"
   },
   "source": [
    "5. Write a program to convert month name to a number of days.\n",
    "\n",
    "Expected Output:\n",
    "\n",
    "Input the name of Month: February                                       \n",
    "No. of days: 28/29 days"
   ]
  },
  {
   "cell_type": "code",
   "execution_count": 6,
   "metadata": {
    "colab": {},
    "colab_type": "code",
    "id": "utx9IRF3GR6e",
    "outputId": "92d3c3c8-cbfe-4548-ed0f-d267883953f0"
   },
   "outputs": [
    {
     "name": "stdout",
     "output_type": "stream",
     "text": [
      "List of months: January, February, March, April, May, June, July, August, September, October, November, December\n"
     ]
    },
    {
     "name": "stdin",
     "output_type": "stream",
     "text": [
      "Input the name of Month:  June \n"
     ]
    },
    {
     "name": "stdout",
     "output_type": "stream",
     "text": [
      "Wrong month name\n"
     ]
    }
   ],
   "source": [
    "print(\"List of months: January, February, March, April, May, June, July, August, September, October, November, December\")\n",
    "month_name = input(\"Input the name of Month: \")\n",
    "\n",
    "if month_name == \"February\":\n",
    "    print(\"No. of days: 28/29 days\")\n",
    "elif month_name in (\"April\", \"June\", \"September\", \"November\"):\n",
    "    print(\"No. of days: 30 days\")\n",
    "elif month_name in (\"January\", \"March\", \"May\", \"July\", \"August\", \"October\", \"December\"):\n",
    "    print(\"No. of days: 31 day\")\n",
    "else:\n",
    "    print(\"Wrong month name\") "
   ]
  },
  {
   "cell_type": "markdown",
   "metadata": {
    "colab_type": "text",
    "id": "CtjekT1YGR6g"
   },
   "source": [
    "6. Write a program to check a triangle is equilateral, isosceles or scalene.\n",
    "\n",
    "Note :\n",
    "An equilateral triangle is a triangle in which all three sides are equal.\n",
    "A scalene triangle is a triangle that has three unequal sides.\n",
    "An isosceles triangle is a triangle with (at least) two equal sides."
   ]
  },
  {
   "cell_type": "code",
   "execution_count": 7,
   "metadata": {
    "colab": {},
    "colab_type": "code",
    "id": "lnDYVjgdGR6g",
    "outputId": "9e0accde-7923-44c2-a55f-a2e2b0394f66"
   },
   "outputs": [
    {
     "name": "stdout",
     "output_type": "stream",
     "text": [
      "Input lengths of the triangle sides: \n"
     ]
    },
    {
     "name": "stdin",
     "output_type": "stream",
     "text": [
      "x:  9\n",
      "y:  7\n",
      "z:  9\n"
     ]
    },
    {
     "name": "stdout",
     "output_type": "stream",
     "text": [
      "isosceles triangle\n"
     ]
    }
   ],
   "source": [
    "print(\"Input lengths of the triangle sides: \")\n",
    "x = int(input(\"x: \"))\n",
    "y = int(input(\"y: \"))\n",
    "z = int(input(\"z: \"))\n",
    "\n",
    "if x == y == z:\n",
    "    print(\"Equilateral triangle\")\n",
    "elif x==y or y==z or z==x:\n",
    "    print(\"isosceles triangle\")\n",
    "else:\n",
    "    print(\"Scalene triangle\")"
   ]
  },
  {
   "cell_type": "markdown",
   "metadata": {
    "colab_type": "text",
    "id": "16UESW0PGR6i"
   },
   "source": [
    "7. Write a program that reads two integers representing a month and day and prints the season for that month and day."
   ]
  },
  {
   "cell_type": "code",
   "execution_count": 5,
   "metadata": {
    "colab": {},
    "colab_type": "code",
    "id": "sUoO1KRtGR6j",
    "outputId": "c367b05b-b66e-4363-8acd-4cf80a2bce2c"
   },
   "outputs": [
    {
     "name": "stdin",
     "output_type": "stream",
     "text": [
      "Input the month (e.g. January, February etc.):  january\n",
      "Input the day:  9\n"
     ]
    },
    {
     "name": "stdout",
     "output_type": "stream",
     "text": [
      "Month not valid\n"
     ]
    }
   ],
   "source": [
    "month = input(\"Input the month (e.g. January, February etc.): \")\n",
    "day = int(input(\"Input the day: \"))\n",
    "valid_months = ['January', 'February', 'March', 'April', 'May', 'June', 'July', 'August', 'September', 'October', 'November', 'December']\n",
    "if month not in valid_months:\n",
    "    print('Month not valid')\n",
    "else:\n",
    "    season = ''\n",
    "\n",
    "    if month in ('January', 'February', 'March'):\n",
    "        season = 'winter'\n",
    "    elif month in ('April', 'May', 'June'):\n",
    "        season = 'spring'\n",
    "    elif month in ('July', 'August', 'September'):\n",
    "        season = 'summer'\n",
    "    else:\n",
    "        season = 'autumn'\n",
    "\n",
    "    if (month == 'March') and (day > 19):\n",
    "        season = 'spring'\n",
    "    elif (month == 'June') and (day > 20):\n",
    "        season = 'summer'\n",
    "    elif (month == 'September') and (day > 21):\n",
    "        season = 'autumn'\n",
    "    elif (month == 'December') and (day > 20):\n",
    "        season = 'winter'\n",
    "\n",
    "    print(\"Season is\", season)"
   ]
  },
  {
   "cell_type": "markdown",
   "metadata": {
    "colab_type": "text",
    "id": "WNzdG1JqGR6k"
   },
   "source": [
    "8. Write a program to display astrological sign for given date of birth."
   ]
  },
  {
   "cell_type": "code",
   "execution_count": 8,
   "metadata": {
    "colab": {},
    "colab_type": "code",
    "id": "uydL89tlGR6l",
    "outputId": "eb67479d-f18c-4ea2-b887-6686a99f65dd"
   },
   "outputs": [
    {
     "name": "stdin",
     "output_type": "stream",
     "text": [
      "Input birthday:  9 \n",
      "Input month of birth (e.g. march, july etc):  July\n"
     ]
    },
    {
     "name": "stdout",
     "output_type": "stream",
     "text": [
      "Your Astrological sign is : aries\n"
     ]
    }
   ],
   "source": [
    "day = int(input(\"Input birthday: \"))\n",
    "month = input(\"Input month of birth (e.g. march, july etc): \")\n",
    "if month == 'december':\n",
    "    astro_sign = 'Sagittarius' if (day < 22) else 'capricorn'\n",
    "elif month == 'january':\n",
    "    astro_sign = 'Capricorn' if (day < 20) else 'aquarius'\n",
    "elif month == 'february':\n",
    "    astro_sign = 'Aquarius' if (day < 19) else 'pisces'\n",
    "elif month == 'march':\n",
    "    astro_sign = 'Pisces' if (day < 21) else 'aries'\n",
    "elif month == 'april':\n",
    "    astro_sign = 'Aries' if (day < 20) else 'taurus'\n",
    "elif month == 'may':\n",
    "    astro_sign = 'Taurus' if (day < 21) else 'gemini'\n",
    "elif month == 'june':\n",
    "    astro_sign = 'Gemini' if (day < 21) else 'cancer'\n",
    "elif month == 'july':\n",
    "    astro_sign = 'Cancer' if (day < 23) else 'leo'\n",
    "elif month == 'august':\n",
    "    astro_sign = 'Leo' if (day < 23) else 'virgo'\n",
    "elif month == 'september':\n",
    "    astro_sign = 'Virgo' if (day < 23) else 'libra'\n",
    "elif month == 'october':\n",
    "    astro_sign = 'Libra' if (day < 23) else 'scorpio'\n",
    "elif month == 'november':\n",
    "    astro_sign = 'scorpio' if (day < 22) else 'sagittarius'\n",
    "print(\"Your Astrological sign is :\",astro_sign)"
   ]
  },
  {
   "cell_type": "code",
   "execution_count": 11,
   "metadata": {},
   "outputs": [
    {
     "name": "stdin",
     "output_type": "stream",
     "text": [
      "Enter the day of birth:  9\n",
      "Enter the month of birth:  april\n"
     ]
    },
    {
     "name": "stdout",
     "output_type": "stream",
     "text": [
      "Your astrological sign is: Invalid date of birth\n"
     ]
    }
   ],
   "source": [
    "day = int(input(\"Enter the day of birth: \"))\n",
    "month = input(\"Enter the month of birth: \")\n",
    "\n",
    "if (month == 'December' and day >= 22) or (month == 'January' and day <= 19):\n",
    "    sign = \"Capricorn\"\n",
    "elif (month == 'January' and day >= 20) or (month == 'February' and day <= 18):\n",
    "    sign = \"Aquarius\"\n",
    "elif (month == 'February' and day >= 19) or (month == 'March' and day <= 20):\n",
    "    sign = \"Pisces\"\n",
    "elif (month == 'March' and day >= 21) or (month == 'April' and day <= 19):\n",
    "    sign = \"Aries\"\n",
    "elif (month == 'April' and day >= 20) or (month == 'May' and day <= 20):\n",
    "    sign = \"Taurus\"\n",
    "elif (month == 'May' and day >= 21) or (month == 'June' and day <= 20):\n",
    "    sign = \"Gemini\"\n",
    "elif (month == 'June' and day >= 21) or (month == 'July' and day <= 22):\n",
    "    sign = \"Cancer\"\n",
    "elif (month == 'July' and day >= 23) or (month == 'August' and day <= 22):\n",
    "    sign = \"Leo\"\n",
    "elif (month == 'August' and day >= 23) or (month == 'September' and day <= 22):\n",
    "    sign = \"Virgo\"\n",
    "elif (month == 'September' and day >= 23) or (month == 'October' and day <= 22):\n",
    "    sign = \"Libra\"\n",
    "elif (month == 'October' and day >= 23) or (month == 'November' and day <= 21):\n",
    "    sign = \"Scorpio\"\n",
    "elif (month == 'November' and day >= 22) or (month == 'December' and day <= 21):\n",
    "    sign = \"Sagittarius\"\n",
    "else:\n",
    "    sign = \"Invalid date of birth\"\n",
    "\n",
    "print(\"Your astrological sign is:\", sign)"
   ]
  },
  {
   "cell_type": "markdown",
   "metadata": {
    "colab_type": "text",
    "id": "qMBnMgfqGR6m"
   },
   "source": [
    "9. Write a program to construct the following pattern, using a nested loop number.\n",
    "\n",
    "Expected Output:\n",
    "\n",
    "```\n",
    "1\n",
    "22\n",
    "333\n",
    "4444\n",
    "55555\n",
    "666666\n",
    "7777777\n",
    "88888888\n",
    "999999999\n",
    "```"
   ]
  },
  {
   "cell_type": "code",
   "execution_count": null,
   "metadata": {
    "colab": {},
    "colab_type": "code",
    "id": "BYwU3HV7GR6n",
    "outputId": "845f0987-294c-493d-ef3a-d030930f75a2"
   },
   "outputs": [
    {
     "name": "stdout",
     "output_type": "stream",
     "text": [
      "\n",
      "1\n",
      "22\n",
      "333\n",
      "4444\n",
      "55555\n",
      "666666\n",
      "7777777\n",
      "88888888\n",
      "999999999\n"
     ]
    }
   ],
   "source": [
    "for i in range(10):\n",
    "    print(str(i) * i)"
   ]
  },
  {
   "cell_type": "markdown",
   "metadata": {
    "colab_type": "text",
    "id": "uv0jpm0wGR6o"
   },
   "source": [
    "10. Write a program to find the median of three values."
   ]
  },
  {
   "cell_type": "code",
   "execution_count": 12,
   "metadata": {
    "colab": {},
    "colab_type": "code",
    "id": "HLcltBuOGR6p",
    "outputId": "8df5788f-fa85-439d-f4b9-9417238cd226"
   },
   "outputs": [
    {
     "name": "stdin",
     "output_type": "stream",
     "text": [
      "Input first number:  9\n",
      "Input second number:  10\n",
      "Input third number:  11\n"
     ]
    },
    {
     "name": "stdout",
     "output_type": "stream",
     "text": [
      "The median is 10.0\n"
     ]
    }
   ],
   "source": [
    "a = float(input(\"Input first number: \"))\n",
    "b = float(input(\"Input second number: \"))\n",
    "c = float(input(\"Input third number: \"))\n",
    "if a > b:\n",
    "    if a < c:\n",
    "        median = a\n",
    "    elif b > c:\n",
    "        median = b\n",
    "    else:\n",
    "        median = c\n",
    "else:\n",
    "    if a > c:\n",
    "        median = a\n",
    "    elif b < c:\n",
    "        median = b\n",
    "    else:\n",
    "        median = c\n",
    "\n",
    "print(\"The median is\", median)\n",
    "\n",
    "# Takes three numbers as input and returns the median value.\n",
    "# We consider two cases: when the first number (a) is greater than the second number (b), and when the second number is greater than or equal to the first number.\n",
    "# Within each case, we further compare the numbers to determine the median."
   ]
  },
  {
   "cell_type": "code",
   "execution_count": null,
   "metadata": {},
   "outputs": [],
   "source": []
  }
 ],
 "metadata": {
  "colab": {
   "name": "LoopsConditionalsAlgorithmicThinking-Exercise-4B-Solutions.ipynb",
   "provenance": []
  },
  "kernelspec": {
   "display_name": "Python 3 (ipykernel)",
   "language": "python",
   "name": "python3"
  },
  "language_info": {
   "codemirror_mode": {
    "name": "ipython",
    "version": 3
   },
   "file_extension": ".py",
   "mimetype": "text/x-python",
   "name": "python",
   "nbconvert_exporter": "python",
   "pygments_lexer": "ipython3",
   "version": "3.10.11"
  }
 },
 "nbformat": 4,
 "nbformat_minor": 4
}
