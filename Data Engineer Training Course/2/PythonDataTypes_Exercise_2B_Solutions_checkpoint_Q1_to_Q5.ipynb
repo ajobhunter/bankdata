{
  "cells": [
    {
      "cell_type": "markdown",
      "metadata": {
        "id": "P9aRb0p9_0RP"
      },
      "source": [
        "# Python Data Types & Containers Exercise 2B"
      ]
    },
    {
      "cell_type": "markdown",
      "metadata": {
        "id": "dPhgZHjB_0RR"
      },
      "source": [
        "1. Extend a list without append."
      ]
    },
    {
      "cell_type": "code",
      "execution_count": 2,
      "metadata": {
        "id": "TBXSYCcAURgw",
        "outputId": "8ec23be8-f673-401e-f93d-06050dc7c5d4"
      },
      "outputs": [
        {
          "name": "stdout",
          "output_type": "stream",
          "text": [
            "[40, 50, 60, 10, 20, 30]\n"
          ]
        }
      ],
      "source": [
        "x = [10, 20, 30]\n",
        "y = [40, 50, 60]\n",
        "x[:0] =y\n",
        "print(x)"
      ]
    },
    {
      "cell_type": "markdown",
      "metadata": {
        "id": "JBgxfDs2_0RV"
      },
      "source": [
        "2. Write a program to clone or copy a list."
      ]
    },
    {
      "cell_type": "code",
      "execution_count": 3,
      "metadata": {
        "id": "Yb6ZnJgUURg7",
        "outputId": "0253a4ac-ec82-49db-92d1-f6aff049c48d"
      },
      "outputs": [
        {
          "name": "stdout",
          "output_type": "stream",
          "text": [
            "[10, 22, 44, 23, 4]\n",
            "[10, 22, 44, 23, 4]\n"
          ]
        }
      ],
      "source": [
        "original_list = [10, 22, 44, 23, 4]\n",
        "new_list = list(original_list)\n",
        "print(original_list)\n",
        "print(new_list)"
      ]
    },
    {
      "cell_type": "markdown",
      "metadata": {
        "id": "Qiqv6oXn_0RY"
      },
      "source": [
        "3. Shuffle and print a specified list."
      ]
    },
    {
      "cell_type": "code",
      "execution_count": null,
      "metadata": {
        "id": "rW8QJ3TDURhB",
        "outputId": "86ffdbad-9686-4102-93a3-29686d99de41"
      },
      "outputs": [
        {
          "name": "stdout",
          "output_type": "stream",
          "text": [
            "['Yellow', 'White', 'Red', 'Black', 'Green', 'Pink']\n"
          ]
        }
      ],
      "source": [
        "from random import shuffle\n",
        "color = ['Red', 'Green', 'White', 'Black', 'Pink', 'Yellow']\n",
        "shuffle(color)\n",
        "print(color)"
      ]
    },
    {
      "cell_type": "markdown",
      "metadata": {
        "id": "ujc4S5jl_0Rb"
      },
      "source": [
        "4. Get the difference between the two lists.\n",
        "\n",
        "```\n",
        "eg.\n",
        "list1 = [1, 2, 3, 4]\n",
        "list2 = [1, 2]\n",
        "difference = [3, 4]\n",
        "```"
      ]
    },
    {
      "cell_type": "code",
      "execution_count": 5,
      "metadata": {
        "id": "eaIKglv1URhG",
        "outputId": "7629f406-186c-420b-8027-13805850b193"
      },
      "outputs": [
        {
          "name": "stdout",
          "output_type": "stream",
          "text": [
            "[3, 4]\n"
          ]
        }
      ],
      "source": [
        "list1 = [1, 2, 3, 4]\n",
        "list2 = [1, 2]\n",
        "print(list(set(list1) - set(list2)))"
      ]
    },
    {
      "cell_type": "markdown",
      "metadata": {
        "id": "RC9LkzNb_0Rf"
      },
      "source": [
        "5. Append a list to the second list."
      ]
    },
    {
      "cell_type": "code",
      "execution_count": 10,
      "metadata": {
        "id": "Y06gy7zfURhK",
        "outputId": "64227b89-ed65-4942-a902-47897950eeb4"
      },
      "outputs": [
        {
          "name": "stdout",
          "output_type": "stream",
          "text": [
            "[1, 2, 3, 0, 'Red', 'Green', 'Black']\n"
          ]
        }
      ],
      "source": [
        "list1 = [1, 2, 3, 0]\n",
        "list2 = ['Red', 'Green', 'Black']\n",
        "final_list = list1 + list2\n",
        "print(final_list)"
      ]
    },
    {
      "cell_type": "code",
      "execution_count": 11,
      "metadata": {},
      "outputs": [],
      "source": [
        "list1.append(list2)"
      ]
    },
    {
      "cell_type": "code",
      "execution_count": 12,
      "metadata": {},
      "outputs": [
        {
          "data": {
            "text/plain": [
              "[1, 2, 3, 0, ['Red', 'Green', 'Black']]"
            ]
          },
          "execution_count": 12,
          "metadata": {},
          "output_type": "execute_result"
        }
      ],
      "source": [
        "list1"
      ]
    }
  ],
  "metadata": {
    "colab": {
      "provenance": []
    },
    "kernelspec": {
      "display_name": "Python 3",
      "language": "python",
      "name": "python3"
    },
    "language_info": {
      "codemirror_mode": {
        "name": "ipython",
        "version": 3
      },
      "file_extension": ".py",
      "mimetype": "text/x-python",
      "name": "python",
      "nbconvert_exporter": "python",
      "pygments_lexer": "ipython3",
      "version": "3.9.13"
    }
  },
  "nbformat": 4,
  "nbformat_minor": 0
}
