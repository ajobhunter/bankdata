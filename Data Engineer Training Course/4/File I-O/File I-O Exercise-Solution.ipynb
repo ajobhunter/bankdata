{
 "cells": [
  {
   "cell_type": "code",
   "execution_count": null,
   "metadata": {},
   "outputs": [],
   "source": [
    "# Q1\n",
    "with open('../data/python-wiki.txt', encoding = 'latin_1', mode = 'r') as f:\n",
    "    words = f.read().split()\n",
    "#Testing methods to remove punctuation in text.\n",
    "#remove = regex.compile(ur\"[\\p{C}|\\p{M}|\\p{P}|\\p{S}|\\p{Z}]\", regex.UNICODE)\n",
    "#remove.sub(u\" \", words)\n",
    "#for c in words.punctuation():\n",
    "# words = words.replace(c,\"\")\n",
    "dict = {}\n",
    "for i in words:\n",
    "    if i in dict:\n",
    "        dict[i] += 1\n",
    "    else:\n",
    "        dict[i] = 1\n",
    "#print line by line\n",
    "for k, v in dict.items():\n",
    "    print(k, v)"
   ]
  },
  {
   "cell_type": "code",
   "execution_count": null,
   "metadata": {},
   "outputs": [],
   "source": [
    "# Q2\n",
    "# working answer\n",
    "y = int(input(\"How many lines do you want to read?\"))\n",
    "with open ('../data/zen-of-python.txt') as f:\n",
    "    lines = f.readlines()\n",
    "    print(lines[0:y])"
   ]
  },
  {
   "cell_type": "code",
   "execution_count": null,
   "metadata": {},
   "outputs": [],
   "source": [
    "# working answer that removes newline formatting\n",
    "y = int(input(\"How many lines do you want to read?\"))\n",
    "with open ('../data/zen-of-python.txt') as f:\n",
    "    lines = f.readlines()\n",
    "selected = (lines[0:y])\n",
    "for z in selected:\n",
    "    print(z)"
   ]
  },
  {
   "cell_type": "code",
   "execution_count": null,
   "metadata": {},
   "outputs": [],
   "source": [
    "# Q3\n",
    "with open('../data/zen-of-python.txt','r') as f:\n",
    "    lines = f.readlines()\n",
    "for line in lines:\n",
    "    print(line)"
   ]
  }
 ],
 "metadata": {
  "kernelspec": {
   "display_name": "pythonProject",
   "language": "python",
   "name": "python3"
  },
  "language_info": {
   "codemirror_mode": {
    "name": "ipython",
    "version": 3
   },
   "file_extension": ".py",
   "mimetype": "text/x-python",
   "name": "python",
   "nbconvert_exporter": "python",
   "pygments_lexer": "ipython3",
   "version": "3.9.13"
  }
 },
 "nbformat": 4,
 "nbformat_minor": 2
}
