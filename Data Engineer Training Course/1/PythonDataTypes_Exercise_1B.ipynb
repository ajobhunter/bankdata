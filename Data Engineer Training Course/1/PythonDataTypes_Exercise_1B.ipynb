{
  "cells": [
    {
      "cell_type": "markdown",
      "metadata": {
        "id": "hoSPPb3HMhW7"
      },
      "source": [
        "# Python Data Types & Containers Exercise 1B"
      ]
    },
    {
      "cell_type": "markdown",
      "metadata": {
        "id": "nbDZufp5MhW_"
      },
      "source": [
        "1. Write a program to test whether a number is within 1000 of 10000 or 30000\n",
        "\n",
        "```\n",
        "eg.\n",
        "9500 is within 1000 of 10000, as the difference of 9500 and 10000 is less than 1000\n",
        "likewise 30600 is within 1000 of 30000, as the difference of 30600 and 30000 is less than 1000\n",
        "```"
      ]
    },
    {
      "cell_type": "code",
      "execution_count": 1,
      "metadata": {
        "id": "SLoLYtejMhXB"
      },
      "outputs": [
        {
          "data": {
            "text/plain": [
              "False"
            ]
          },
          "execution_count": 1,
          "metadata": {},
          "output_type": "execute_result"
        }
      ],
      "source": [
        "n = 500\n",
        "((abs(10000 - n) <= 1000) or (abs(30000 - n) <= 1000))"
      ]
    },
    {
      "cell_type": "markdown",
      "metadata": {
        "id": "0YurI4oTMhXI"
      },
      "source": [
        "2. Get the the volume of a sphere with radius 6."
      ]
    },
    {
      "cell_type": "code",
      "execution_count": 2,
      "metadata": {
        "id": "7RHhukJUMhXJ"
      },
      "outputs": [
        {
          "data": {
            "text/plain": [
              "904.7786842338603"
            ]
          },
          "execution_count": 2,
          "metadata": {},
          "output_type": "execute_result"
        }
      ],
      "source": [
        "import math\n",
        "r= 6.0\n",
        "V= 4.0/3.0*math.pi* r**3\n",
        "V"
      ]
    },
    {
      "cell_type": "markdown",
      "metadata": {
        "id": "x_si_576MhXO"
      },
      "source": [
        "3. Test whether a number is divisible by 3."
      ]
    },
    {
      "cell_type": "code",
      "execution_count": 3,
      "metadata": {
        "id": "fXLEtaBCMhXQ"
      },
      "outputs": [
        {
          "data": {
            "text/plain": [
              "False"
            ]
          },
          "execution_count": 3,
          "metadata": {},
          "output_type": "execute_result"
        }
      ],
      "source": [
        "n = 301\n",
        "n%3 == 0"
      ]
    },
    {
      "cell_type": "markdown",
      "metadata": {
        "id": "SHx6EctfMhXT"
      },
      "source": [
        "4. Test whether an input letter is a vowel"
      ]
    },
    {
      "cell_type": "code",
      "execution_count": 4,
      "metadata": {
        "id": "Ei4bhZb7MhXU"
      },
      "outputs": [
        {
          "data": {
            "text/plain": [
              "True"
            ]
          },
          "execution_count": 4,
          "metadata": {},
          "output_type": "execute_result"
        }
      ],
      "source": [
        "char = input(\"Please enter a letter: \")\n",
        "all_vowels = 'aeiou'\n",
        "char in all_vowels"
      ]
    },
    {
      "cell_type": "markdown",
      "metadata": {
        "id": "ontioKdbMhXX"
      },
      "source": [
        "5. Write a program that accepts the base and height of a triangle and compute the area."
      ]
    },
    {
      "cell_type": "code",
      "execution_count": 5,
      "metadata": {
        "id": "fq6o_fAYMhXX"
      },
      "outputs": [
        {
          "data": {
            "text/plain": [
              "7.5"
            ]
          },
          "execution_count": 5,
          "metadata": {},
          "output_type": "execute_result"
        }
      ],
      "source": [
        "b = int(input(\"Input the base : \"))\n",
        "h = int(input(\"Input the height : \"))\n",
        "\n",
        "area = b*h/2\n",
        "area"
      ]
    },
    {
      "cell_type": "markdown",
      "metadata": {
        "id": "de-_MQ96MhXZ"
      },
      "source": [
        "6. Write a program to calculate the hypotenuse of a right angled triangle."
      ]
    },
    {
      "cell_type": "code",
      "execution_count": 7,
      "metadata": {
        "id": "4XA-baKJMhXa"
      },
      "outputs": [
        {
          "name": "stdout",
          "output_type": "stream",
          "text": [
            "Input lengths of shorter triangle sides:\n",
            "The length of the hypotenuse is 5.0\n"
          ]
        }
      ],
      "source": [
        "from math import sqrt\n",
        "print(\"Input lengths of shorter triangle sides:\")\n",
        "a = float(input(\"a: \"))\n",
        "b = float(input(\"b: \"))\n",
        "\n",
        "c = sqrt(a**2 + b**2)\n",
        "print(\"The length of the hypotenuse is\", c )"
      ]
    }
  ],
  "metadata": {
    "colab": {
      "provenance": []
    },
    "kernelspec": {
      "display_name": "Python 3",
      "language": "python",
      "name": "python3"
    },
    "language_info": {
      "codemirror_mode": {
        "name": "ipython",
        "version": 3
      },
      "file_extension": ".py",
      "mimetype": "text/x-python",
      "name": "python",
      "nbconvert_exporter": "python",
      "pygments_lexer": "ipython3",
      "version": "3.11.5"
    }
  },
  "nbformat": 4,
  "nbformat_minor": 0
}
