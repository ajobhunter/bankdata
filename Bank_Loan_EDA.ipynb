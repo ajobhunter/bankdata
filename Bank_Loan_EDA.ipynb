{
  "nbformat": 4,
  "nbformat_minor": 0,
  "metadata": {
    "colab": {
      "provenance": []
    },
    "kernelspec": {
      "name": "python3",
      "display_name": "Python 3"
    },
    "language_info": {
      "name": "python"
    }
  },
  "cells": [
    {
      "cell_type": "markdown",
      "source": [
        "Basic Exploratory Data Analysis (EDA) of Bank loan"
      ],
      "metadata": {
        "id": "LIqMpxoisI4E"
      }
    },
    {
      "cell_type": "code",
      "source": [
        "#Dataset:\n",
        "#https://www.kaggle.com/datasets/zaurbegiev/my-dataset\n",
        "\n",
        "#EDA\n",
        "#https://www.kaggle.com/code/abdallhwerby/eda-preprocessing-and-classification"
      ],
      "metadata": {
        "id": "Ixzl3h1ssMkU"
      },
      "execution_count": 247,
      "outputs": []
    },
    {
      "cell_type": "markdown",
      "source": [
        "import library"
      ],
      "metadata": {
        "id": "0XbmP8ceVHdI"
      }
    },
    {
      "cell_type": "code",
      "execution_count": 248,
      "metadata": {
        "id": "5JOsMAe0sBi9"
      },
      "outputs": [],
      "source": [
        "#import library\n",
        "import numpy as np\n",
        "import pandas as pd\n",
        "import seaborn as sns\n",
        "import matplotlib.pyplot as plt\n",
        "import warnings\n",
        "warnings.filterwarnings('ignore')"
      ]
    },
    {
      "cell_type": "markdown",
      "source": [
        "Load csv file data"
      ],
      "metadata": {
        "id": "WNK1qBDrVLMr"
      }
    },
    {
      "cell_type": "code",
      "source": [
        "data = pd.read_csv (r'bank_loan.csv')"
      ],
      "metadata": {
        "id": "89h1n-kHsf2_"
      },
      "execution_count": 249,
      "outputs": []
    },
    {
      "cell_type": "markdown",
      "source": [
        "View data"
      ],
      "metadata": {
        "id": "elYKP58KDGcm"
      }
    },
    {
      "cell_type": "code",
      "source": [
        "data.head()"
      ],
      "metadata": {
        "colab": {
          "base_uri": "https://localhost:8080/",
          "height": 539
        },
        "id": "WmFKhZe_tbPj",
        "outputId": "54995fc0-8520-49c3-b68a-3425400b2ea5"
      },
      "execution_count": 250,
      "outputs": [
        {
          "output_type": "execute_result",
          "data": {
            "text/plain": [
              "                                Loan ID                           Customer ID  \\\n",
              "0  14dd8831-6af5-400b-83ec-68e61888a048  981165ec-3274-42f5-a3b4-d104041a9ca9   \n",
              "1  4771cc26-131a-45db-b5aa-537ea4ba5342  2de017a3-2e01-49cb-a581-08169e83be29   \n",
              "2  4eed4e6a-aa2f-4c91-8651-ce984ee8fb26  5efb2b2b-bf11-4dfd-a572-3761a2694725   \n",
              "3  77598f7b-32e7-4e3b-a6e5-06ba0d98fe8a  e777faab-98ae-45af-9a86-7ce5b33b1011   \n",
              "4  d4062e70-befa-4995-8643-a0de73938182  81536ad9-5ccf-4eb8-befb-47a4d608658e   \n",
              "\n",
              "  Loan Status  Current Loan Amount        Term  Credit Score  Annual Income  \\\n",
              "0  Fully Paid             445412.0  Short Term         709.0      1167493.0   \n",
              "1  Fully Paid             262328.0  Short Term           NaN            NaN   \n",
              "2  Fully Paid           99999999.0  Short Term         741.0      2231892.0   \n",
              "3  Fully Paid             347666.0   Long Term         721.0       806949.0   \n",
              "4  Fully Paid             176220.0  Short Term           NaN            NaN   \n",
              "\n",
              "  Years in current job Home Ownership             Purpose  Monthly Debt  \\\n",
              "0              8 years  Home Mortgage   Home Improvements       5214.74   \n",
              "1            10+ years  Home Mortgage  Debt Consolidation      33295.98   \n",
              "2              8 years       Own Home  Debt Consolidation      29200.53   \n",
              "3              3 years       Own Home  Debt Consolidation       8741.90   \n",
              "4              5 years           Rent  Debt Consolidation      20639.70   \n",
              "\n",
              "   Years of Credit History  Months since last delinquent  \\\n",
              "0                     17.2                           NaN   \n",
              "1                     21.1                           8.0   \n",
              "2                     14.9                          29.0   \n",
              "3                     12.0                           NaN   \n",
              "4                      6.1                           NaN   \n",
              "\n",
              "   Number of Open Accounts  Number of Credit Problems  Current Credit Balance  \\\n",
              "0                      6.0                        1.0                228190.0   \n",
              "1                     35.0                        0.0                229976.0   \n",
              "2                     18.0                        1.0                297996.0   \n",
              "3                      9.0                        0.0                256329.0   \n",
              "4                     15.0                        0.0                253460.0   \n",
              "\n",
              "   Maximum Open Credit  Bankruptcies  Tax Liens  \n",
              "0             416746.0           1.0        0.0  \n",
              "1             850784.0           0.0        0.0  \n",
              "2             750090.0           0.0        0.0  \n",
              "3             386958.0           0.0        0.0  \n",
              "4             427174.0           0.0        0.0  "
            ],
            "text/html": [
              "\n",
              "  <div id=\"df-52006bc0-401e-4fbe-98b3-fc6290c932b1\" class=\"colab-df-container\">\n",
              "    <div>\n",
              "<style scoped>\n",
              "    .dataframe tbody tr th:only-of-type {\n",
              "        vertical-align: middle;\n",
              "    }\n",
              "\n",
              "    .dataframe tbody tr th {\n",
              "        vertical-align: top;\n",
              "    }\n",
              "\n",
              "    .dataframe thead th {\n",
              "        text-align: right;\n",
              "    }\n",
              "</style>\n",
              "<table border=\"1\" class=\"dataframe\">\n",
              "  <thead>\n",
              "    <tr style=\"text-align: right;\">\n",
              "      <th></th>\n",
              "      <th>Loan ID</th>\n",
              "      <th>Customer ID</th>\n",
              "      <th>Loan Status</th>\n",
              "      <th>Current Loan Amount</th>\n",
              "      <th>Term</th>\n",
              "      <th>Credit Score</th>\n",
              "      <th>Annual Income</th>\n",
              "      <th>Years in current job</th>\n",
              "      <th>Home Ownership</th>\n",
              "      <th>Purpose</th>\n",
              "      <th>Monthly Debt</th>\n",
              "      <th>Years of Credit History</th>\n",
              "      <th>Months since last delinquent</th>\n",
              "      <th>Number of Open Accounts</th>\n",
              "      <th>Number of Credit Problems</th>\n",
              "      <th>Current Credit Balance</th>\n",
              "      <th>Maximum Open Credit</th>\n",
              "      <th>Bankruptcies</th>\n",
              "      <th>Tax Liens</th>\n",
              "    </tr>\n",
              "  </thead>\n",
              "  <tbody>\n",
              "    <tr>\n",
              "      <th>0</th>\n",
              "      <td>14dd8831-6af5-400b-83ec-68e61888a048</td>\n",
              "      <td>981165ec-3274-42f5-a3b4-d104041a9ca9</td>\n",
              "      <td>Fully Paid</td>\n",
              "      <td>445412.0</td>\n",
              "      <td>Short Term</td>\n",
              "      <td>709.0</td>\n",
              "      <td>1167493.0</td>\n",
              "      <td>8 years</td>\n",
              "      <td>Home Mortgage</td>\n",
              "      <td>Home Improvements</td>\n",
              "      <td>5214.74</td>\n",
              "      <td>17.2</td>\n",
              "      <td>NaN</td>\n",
              "      <td>6.0</td>\n",
              "      <td>1.0</td>\n",
              "      <td>228190.0</td>\n",
              "      <td>416746.0</td>\n",
              "      <td>1.0</td>\n",
              "      <td>0.0</td>\n",
              "    </tr>\n",
              "    <tr>\n",
              "      <th>1</th>\n",
              "      <td>4771cc26-131a-45db-b5aa-537ea4ba5342</td>\n",
              "      <td>2de017a3-2e01-49cb-a581-08169e83be29</td>\n",
              "      <td>Fully Paid</td>\n",
              "      <td>262328.0</td>\n",
              "      <td>Short Term</td>\n",
              "      <td>NaN</td>\n",
              "      <td>NaN</td>\n",
              "      <td>10+ years</td>\n",
              "      <td>Home Mortgage</td>\n",
              "      <td>Debt Consolidation</td>\n",
              "      <td>33295.98</td>\n",
              "      <td>21.1</td>\n",
              "      <td>8.0</td>\n",
              "      <td>35.0</td>\n",
              "      <td>0.0</td>\n",
              "      <td>229976.0</td>\n",
              "      <td>850784.0</td>\n",
              "      <td>0.0</td>\n",
              "      <td>0.0</td>\n",
              "    </tr>\n",
              "    <tr>\n",
              "      <th>2</th>\n",
              "      <td>4eed4e6a-aa2f-4c91-8651-ce984ee8fb26</td>\n",
              "      <td>5efb2b2b-bf11-4dfd-a572-3761a2694725</td>\n",
              "      <td>Fully Paid</td>\n",
              "      <td>99999999.0</td>\n",
              "      <td>Short Term</td>\n",
              "      <td>741.0</td>\n",
              "      <td>2231892.0</td>\n",
              "      <td>8 years</td>\n",
              "      <td>Own Home</td>\n",
              "      <td>Debt Consolidation</td>\n",
              "      <td>29200.53</td>\n",
              "      <td>14.9</td>\n",
              "      <td>29.0</td>\n",
              "      <td>18.0</td>\n",
              "      <td>1.0</td>\n",
              "      <td>297996.0</td>\n",
              "      <td>750090.0</td>\n",
              "      <td>0.0</td>\n",
              "      <td>0.0</td>\n",
              "    </tr>\n",
              "    <tr>\n",
              "      <th>3</th>\n",
              "      <td>77598f7b-32e7-4e3b-a6e5-06ba0d98fe8a</td>\n",
              "      <td>e777faab-98ae-45af-9a86-7ce5b33b1011</td>\n",
              "      <td>Fully Paid</td>\n",
              "      <td>347666.0</td>\n",
              "      <td>Long Term</td>\n",
              "      <td>721.0</td>\n",
              "      <td>806949.0</td>\n",
              "      <td>3 years</td>\n",
              "      <td>Own Home</td>\n",
              "      <td>Debt Consolidation</td>\n",
              "      <td>8741.90</td>\n",
              "      <td>12.0</td>\n",
              "      <td>NaN</td>\n",
              "      <td>9.0</td>\n",
              "      <td>0.0</td>\n",
              "      <td>256329.0</td>\n",
              "      <td>386958.0</td>\n",
              "      <td>0.0</td>\n",
              "      <td>0.0</td>\n",
              "    </tr>\n",
              "    <tr>\n",
              "      <th>4</th>\n",
              "      <td>d4062e70-befa-4995-8643-a0de73938182</td>\n",
              "      <td>81536ad9-5ccf-4eb8-befb-47a4d608658e</td>\n",
              "      <td>Fully Paid</td>\n",
              "      <td>176220.0</td>\n",
              "      <td>Short Term</td>\n",
              "      <td>NaN</td>\n",
              "      <td>NaN</td>\n",
              "      <td>5 years</td>\n",
              "      <td>Rent</td>\n",
              "      <td>Debt Consolidation</td>\n",
              "      <td>20639.70</td>\n",
              "      <td>6.1</td>\n",
              "      <td>NaN</td>\n",
              "      <td>15.0</td>\n",
              "      <td>0.0</td>\n",
              "      <td>253460.0</td>\n",
              "      <td>427174.0</td>\n",
              "      <td>0.0</td>\n",
              "      <td>0.0</td>\n",
              "    </tr>\n",
              "  </tbody>\n",
              "</table>\n",
              "</div>\n",
              "    <div class=\"colab-df-buttons\">\n",
              "\n",
              "  <div class=\"colab-df-container\">\n",
              "    <button class=\"colab-df-convert\" onclick=\"convertToInteractive('df-52006bc0-401e-4fbe-98b3-fc6290c932b1')\"\n",
              "            title=\"Convert this dataframe to an interactive table.\"\n",
              "            style=\"display:none;\">\n",
              "\n",
              "  <svg xmlns=\"http://www.w3.org/2000/svg\" height=\"24px\" viewBox=\"0 -960 960 960\">\n",
              "    <path d=\"M120-120v-720h720v720H120Zm60-500h600v-160H180v160Zm220 220h160v-160H400v160Zm0 220h160v-160H400v160ZM180-400h160v-160H180v160Zm440 0h160v-160H620v160ZM180-180h160v-160H180v160Zm440 0h160v-160H620v160Z\"/>\n",
              "  </svg>\n",
              "    </button>\n",
              "\n",
              "  <style>\n",
              "    .colab-df-container {\n",
              "      display:flex;\n",
              "      gap: 12px;\n",
              "    }\n",
              "\n",
              "    .colab-df-convert {\n",
              "      background-color: #E8F0FE;\n",
              "      border: none;\n",
              "      border-radius: 50%;\n",
              "      cursor: pointer;\n",
              "      display: none;\n",
              "      fill: #1967D2;\n",
              "      height: 32px;\n",
              "      padding: 0 0 0 0;\n",
              "      width: 32px;\n",
              "    }\n",
              "\n",
              "    .colab-df-convert:hover {\n",
              "      background-color: #E2EBFA;\n",
              "      box-shadow: 0px 1px 2px rgba(60, 64, 67, 0.3), 0px 1px 3px 1px rgba(60, 64, 67, 0.15);\n",
              "      fill: #174EA6;\n",
              "    }\n",
              "\n",
              "    .colab-df-buttons div {\n",
              "      margin-bottom: 4px;\n",
              "    }\n",
              "\n",
              "    [theme=dark] .colab-df-convert {\n",
              "      background-color: #3B4455;\n",
              "      fill: #D2E3FC;\n",
              "    }\n",
              "\n",
              "    [theme=dark] .colab-df-convert:hover {\n",
              "      background-color: #434B5C;\n",
              "      box-shadow: 0px 1px 3px 1px rgba(0, 0, 0, 0.15);\n",
              "      filter: drop-shadow(0px 1px 2px rgba(0, 0, 0, 0.3));\n",
              "      fill: #FFFFFF;\n",
              "    }\n",
              "  </style>\n",
              "\n",
              "    <script>\n",
              "      const buttonEl =\n",
              "        document.querySelector('#df-52006bc0-401e-4fbe-98b3-fc6290c932b1 button.colab-df-convert');\n",
              "      buttonEl.style.display =\n",
              "        google.colab.kernel.accessAllowed ? 'block' : 'none';\n",
              "\n",
              "      async function convertToInteractive(key) {\n",
              "        const element = document.querySelector('#df-52006bc0-401e-4fbe-98b3-fc6290c932b1');\n",
              "        const dataTable =\n",
              "          await google.colab.kernel.invokeFunction('convertToInteractive',\n",
              "                                                    [key], {});\n",
              "        if (!dataTable) return;\n",
              "\n",
              "        const docLinkHtml = 'Like what you see? Visit the ' +\n",
              "          '<a target=\"_blank\" href=https://colab.research.google.com/notebooks/data_table.ipynb>data table notebook</a>'\n",
              "          + ' to learn more about interactive tables.';\n",
              "        element.innerHTML = '';\n",
              "        dataTable['output_type'] = 'display_data';\n",
              "        await google.colab.output.renderOutput(dataTable, element);\n",
              "        const docLink = document.createElement('div');\n",
              "        docLink.innerHTML = docLinkHtml;\n",
              "        element.appendChild(docLink);\n",
              "      }\n",
              "    </script>\n",
              "  </div>\n",
              "\n",
              "\n",
              "<div id=\"df-4ee4eaa7-df33-4c74-b296-95e2e883db0a\">\n",
              "  <button class=\"colab-df-quickchart\" onclick=\"quickchart('df-4ee4eaa7-df33-4c74-b296-95e2e883db0a')\"\n",
              "            title=\"Suggest charts\"\n",
              "            style=\"display:none;\">\n",
              "\n",
              "<svg xmlns=\"http://www.w3.org/2000/svg\" height=\"24px\"viewBox=\"0 0 24 24\"\n",
              "     width=\"24px\">\n",
              "    <g>\n",
              "        <path d=\"M19 3H5c-1.1 0-2 .9-2 2v14c0 1.1.9 2 2 2h14c1.1 0 2-.9 2-2V5c0-1.1-.9-2-2-2zM9 17H7v-7h2v7zm4 0h-2V7h2v10zm4 0h-2v-4h2v4z\"/>\n",
              "    </g>\n",
              "</svg>\n",
              "  </button>\n",
              "\n",
              "<style>\n",
              "  .colab-df-quickchart {\n",
              "      --bg-color: #E8F0FE;\n",
              "      --fill-color: #1967D2;\n",
              "      --hover-bg-color: #E2EBFA;\n",
              "      --hover-fill-color: #174EA6;\n",
              "      --disabled-fill-color: #AAA;\n",
              "      --disabled-bg-color: #DDD;\n",
              "  }\n",
              "\n",
              "  [theme=dark] .colab-df-quickchart {\n",
              "      --bg-color: #3B4455;\n",
              "      --fill-color: #D2E3FC;\n",
              "      --hover-bg-color: #434B5C;\n",
              "      --hover-fill-color: #FFFFFF;\n",
              "      --disabled-bg-color: #3B4455;\n",
              "      --disabled-fill-color: #666;\n",
              "  }\n",
              "\n",
              "  .colab-df-quickchart {\n",
              "    background-color: var(--bg-color);\n",
              "    border: none;\n",
              "    border-radius: 50%;\n",
              "    cursor: pointer;\n",
              "    display: none;\n",
              "    fill: var(--fill-color);\n",
              "    height: 32px;\n",
              "    padding: 0;\n",
              "    width: 32px;\n",
              "  }\n",
              "\n",
              "  .colab-df-quickchart:hover {\n",
              "    background-color: var(--hover-bg-color);\n",
              "    box-shadow: 0 1px 2px rgba(60, 64, 67, 0.3), 0 1px 3px 1px rgba(60, 64, 67, 0.15);\n",
              "    fill: var(--button-hover-fill-color);\n",
              "  }\n",
              "\n",
              "  .colab-df-quickchart-complete:disabled,\n",
              "  .colab-df-quickchart-complete:disabled:hover {\n",
              "    background-color: var(--disabled-bg-color);\n",
              "    fill: var(--disabled-fill-color);\n",
              "    box-shadow: none;\n",
              "  }\n",
              "\n",
              "  .colab-df-spinner {\n",
              "    border: 2px solid var(--fill-color);\n",
              "    border-color: transparent;\n",
              "    border-bottom-color: var(--fill-color);\n",
              "    animation:\n",
              "      spin 1s steps(1) infinite;\n",
              "  }\n",
              "\n",
              "  @keyframes spin {\n",
              "    0% {\n",
              "      border-color: transparent;\n",
              "      border-bottom-color: var(--fill-color);\n",
              "      border-left-color: var(--fill-color);\n",
              "    }\n",
              "    20% {\n",
              "      border-color: transparent;\n",
              "      border-left-color: var(--fill-color);\n",
              "      border-top-color: var(--fill-color);\n",
              "    }\n",
              "    30% {\n",
              "      border-color: transparent;\n",
              "      border-left-color: var(--fill-color);\n",
              "      border-top-color: var(--fill-color);\n",
              "      border-right-color: var(--fill-color);\n",
              "    }\n",
              "    40% {\n",
              "      border-color: transparent;\n",
              "      border-right-color: var(--fill-color);\n",
              "      border-top-color: var(--fill-color);\n",
              "    }\n",
              "    60% {\n",
              "      border-color: transparent;\n",
              "      border-right-color: var(--fill-color);\n",
              "    }\n",
              "    80% {\n",
              "      border-color: transparent;\n",
              "      border-right-color: var(--fill-color);\n",
              "      border-bottom-color: var(--fill-color);\n",
              "    }\n",
              "    90% {\n",
              "      border-color: transparent;\n",
              "      border-bottom-color: var(--fill-color);\n",
              "    }\n",
              "  }\n",
              "</style>\n",
              "\n",
              "  <script>\n",
              "    async function quickchart(key) {\n",
              "      const quickchartButtonEl =\n",
              "        document.querySelector('#' + key + ' button');\n",
              "      quickchartButtonEl.disabled = true;  // To prevent multiple clicks.\n",
              "      quickchartButtonEl.classList.add('colab-df-spinner');\n",
              "      try {\n",
              "        const charts = await google.colab.kernel.invokeFunction(\n",
              "            'suggestCharts', [key], {});\n",
              "      } catch (error) {\n",
              "        console.error('Error during call to suggestCharts:', error);\n",
              "      }\n",
              "      quickchartButtonEl.classList.remove('colab-df-spinner');\n",
              "      quickchartButtonEl.classList.add('colab-df-quickchart-complete');\n",
              "    }\n",
              "    (() => {\n",
              "      let quickchartButtonEl =\n",
              "        document.querySelector('#df-4ee4eaa7-df33-4c74-b296-95e2e883db0a button');\n",
              "      quickchartButtonEl.style.display =\n",
              "        google.colab.kernel.accessAllowed ? 'block' : 'none';\n",
              "    })();\n",
              "  </script>\n",
              "</div>\n",
              "    </div>\n",
              "  </div>\n"
            ],
            "application/vnd.google.colaboratory.intrinsic+json": {
              "type": "dataframe",
              "variable_name": "data"
            }
          },
          "metadata": {},
          "execution_count": 250
        }
      ]
    },
    {
      "cell_type": "code",
      "source": [
        "data.shape"
      ],
      "metadata": {
        "colab": {
          "base_uri": "https://localhost:8080/"
        },
        "id": "EMr_W_VztrJI",
        "outputId": "916a9d4a-af64-44f4-a058-86719f2acde4"
      },
      "execution_count": 251,
      "outputs": [
        {
          "output_type": "execute_result",
          "data": {
            "text/plain": [
              "(100514, 19)"
            ]
          },
          "metadata": {},
          "execution_count": 251
        }
      ]
    },
    {
      "cell_type": "code",
      "source": [
        "data.info()"
      ],
      "metadata": {
        "colab": {
          "base_uri": "https://localhost:8080/"
        },
        "id": "BnD3esqjtuS2",
        "outputId": "8d5a4e86-180d-4833-ef43-3c47cc737efe"
      },
      "execution_count": 252,
      "outputs": [
        {
          "output_type": "stream",
          "name": "stdout",
          "text": [
            "<class 'pandas.core.frame.DataFrame'>\n",
            "RangeIndex: 100514 entries, 0 to 100513\n",
            "Data columns (total 19 columns):\n",
            " #   Column                        Non-Null Count   Dtype  \n",
            "---  ------                        --------------   -----  \n",
            " 0   Loan ID                       100000 non-null  object \n",
            " 1   Customer ID                   100000 non-null  object \n",
            " 2   Loan Status                   100000 non-null  object \n",
            " 3   Current Loan Amount           100000 non-null  float64\n",
            " 4   Term                          100000 non-null  object \n",
            " 5   Credit Score                  80846 non-null   float64\n",
            " 6   Annual Income                 80846 non-null   float64\n",
            " 7   Years in current job          95778 non-null   object \n",
            " 8   Home Ownership                100000 non-null  object \n",
            " 9   Purpose                       100000 non-null  object \n",
            " 10  Monthly Debt                  100000 non-null  float64\n",
            " 11  Years of Credit History       100000 non-null  float64\n",
            " 12  Months since last delinquent  46859 non-null   float64\n",
            " 13  Number of Open Accounts       100000 non-null  float64\n",
            " 14  Number of Credit Problems     100000 non-null  float64\n",
            " 15  Current Credit Balance        100000 non-null  float64\n",
            " 16  Maximum Open Credit           99998 non-null   float64\n",
            " 17  Bankruptcies                  99796 non-null   float64\n",
            " 18  Tax Liens                     99990 non-null   float64\n",
            "dtypes: float64(12), object(7)\n",
            "memory usage: 14.6+ MB\n"
          ]
        }
      ]
    },
    {
      "cell_type": "code",
      "source": [
        "data.columns"
      ],
      "metadata": {
        "colab": {
          "base_uri": "https://localhost:8080/"
        },
        "id": "JRMLRymbtxcm",
        "outputId": "128c5f67-3bd6-47eb-ae3e-88795b0011cc"
      },
      "execution_count": 253,
      "outputs": [
        {
          "output_type": "execute_result",
          "data": {
            "text/plain": [
              "Index(['Loan ID', 'Customer ID', 'Loan Status', 'Current Loan Amount', 'Term',\n",
              "       'Credit Score', 'Annual Income', 'Years in current job',\n",
              "       'Home Ownership', 'Purpose', 'Monthly Debt', 'Years of Credit History',\n",
              "       'Months since last delinquent', 'Number of Open Accounts',\n",
              "       'Number of Credit Problems', 'Current Credit Balance',\n",
              "       'Maximum Open Credit', 'Bankruptcies', 'Tax Liens'],\n",
              "      dtype='object')"
            ]
          },
          "metadata": {},
          "execution_count": 253
        }
      ]
    },
    {
      "cell_type": "code",
      "source": [
        "data.describe()"
      ],
      "metadata": {
        "colab": {
          "base_uri": "https://localhost:8080/",
          "height": 335
        },
        "id": "PWMQ6y2Qt0T-",
        "outputId": "53aa693a-0d70-412e-9a4d-8f0a463a686a"
      },
      "execution_count": 254,
      "outputs": [
        {
          "output_type": "execute_result",
          "data": {
            "text/plain": [
              "       Current Loan Amount  Credit Score  Annual Income   Monthly Debt  \\\n",
              "count         1.000000e+05  80846.000000   8.084600e+04  100000.000000   \n",
              "mean          1.176045e+07   1076.456089   1.378277e+06   18472.412336   \n",
              "std           3.178394e+07   1475.403791   1.081360e+06   12174.992609   \n",
              "min           1.080200e+04    585.000000   7.662700e+04       0.000000   \n",
              "25%           1.796520e+05    705.000000   8.488440e+05   10214.162500   \n",
              "50%           3.122460e+05    724.000000   1.174162e+06   16220.300000   \n",
              "75%           5.249420e+05    741.000000   1.650663e+06   24012.057500   \n",
              "max           1.000000e+08   7510.000000   1.655574e+08  435843.280000   \n",
              "\n",
              "       Years of Credit History  Months since last delinquent  \\\n",
              "count            100000.000000                  46859.000000   \n",
              "mean                 18.199141                     34.901321   \n",
              "std                   7.015324                     21.997829   \n",
              "min                   3.600000                      0.000000   \n",
              "25%                  13.500000                     16.000000   \n",
              "50%                  16.900000                     32.000000   \n",
              "75%                  21.700000                     51.000000   \n",
              "max                  70.500000                    176.000000   \n",
              "\n",
              "       Number of Open Accounts  Number of Credit Problems  \\\n",
              "count             100000.00000              100000.000000   \n",
              "mean                  11.12853                   0.168310   \n",
              "std                    5.00987                   0.482705   \n",
              "min                    0.00000                   0.000000   \n",
              "25%                    8.00000                   0.000000   \n",
              "50%                   10.00000                   0.000000   \n",
              "75%                   14.00000                   0.000000   \n",
              "max                   76.00000                  15.000000   \n",
              "\n",
              "       Current Credit Balance  Maximum Open Credit  Bankruptcies     Tax Liens  \n",
              "count            1.000000e+05         9.999800e+04  99796.000000  99990.000000  \n",
              "mean             2.946374e+05         7.607984e+05      0.117740      0.029313  \n",
              "std              3.761709e+05         8.384503e+06      0.351424      0.258182  \n",
              "min              0.000000e+00         0.000000e+00      0.000000      0.000000  \n",
              "25%              1.126700e+05         2.734380e+05      0.000000      0.000000  \n",
              "50%              2.098170e+05         4.678740e+05      0.000000      0.000000  \n",
              "75%              3.679588e+05         7.829580e+05      0.000000      0.000000  \n",
              "max              3.287897e+07         1.539738e+09      7.000000     15.000000  "
            ],
            "text/html": [
              "\n",
              "  <div id=\"df-7999db43-ad46-4136-9d0a-2bbdb4adc74b\" class=\"colab-df-container\">\n",
              "    <div>\n",
              "<style scoped>\n",
              "    .dataframe tbody tr th:only-of-type {\n",
              "        vertical-align: middle;\n",
              "    }\n",
              "\n",
              "    .dataframe tbody tr th {\n",
              "        vertical-align: top;\n",
              "    }\n",
              "\n",
              "    .dataframe thead th {\n",
              "        text-align: right;\n",
              "    }\n",
              "</style>\n",
              "<table border=\"1\" class=\"dataframe\">\n",
              "  <thead>\n",
              "    <tr style=\"text-align: right;\">\n",
              "      <th></th>\n",
              "      <th>Current Loan Amount</th>\n",
              "      <th>Credit Score</th>\n",
              "      <th>Annual Income</th>\n",
              "      <th>Monthly Debt</th>\n",
              "      <th>Years of Credit History</th>\n",
              "      <th>Months since last delinquent</th>\n",
              "      <th>Number of Open Accounts</th>\n",
              "      <th>Number of Credit Problems</th>\n",
              "      <th>Current Credit Balance</th>\n",
              "      <th>Maximum Open Credit</th>\n",
              "      <th>Bankruptcies</th>\n",
              "      <th>Tax Liens</th>\n",
              "    </tr>\n",
              "  </thead>\n",
              "  <tbody>\n",
              "    <tr>\n",
              "      <th>count</th>\n",
              "      <td>1.000000e+05</td>\n",
              "      <td>80846.000000</td>\n",
              "      <td>8.084600e+04</td>\n",
              "      <td>100000.000000</td>\n",
              "      <td>100000.000000</td>\n",
              "      <td>46859.000000</td>\n",
              "      <td>100000.00000</td>\n",
              "      <td>100000.000000</td>\n",
              "      <td>1.000000e+05</td>\n",
              "      <td>9.999800e+04</td>\n",
              "      <td>99796.000000</td>\n",
              "      <td>99990.000000</td>\n",
              "    </tr>\n",
              "    <tr>\n",
              "      <th>mean</th>\n",
              "      <td>1.176045e+07</td>\n",
              "      <td>1076.456089</td>\n",
              "      <td>1.378277e+06</td>\n",
              "      <td>18472.412336</td>\n",
              "      <td>18.199141</td>\n",
              "      <td>34.901321</td>\n",
              "      <td>11.12853</td>\n",
              "      <td>0.168310</td>\n",
              "      <td>2.946374e+05</td>\n",
              "      <td>7.607984e+05</td>\n",
              "      <td>0.117740</td>\n",
              "      <td>0.029313</td>\n",
              "    </tr>\n",
              "    <tr>\n",
              "      <th>std</th>\n",
              "      <td>3.178394e+07</td>\n",
              "      <td>1475.403791</td>\n",
              "      <td>1.081360e+06</td>\n",
              "      <td>12174.992609</td>\n",
              "      <td>7.015324</td>\n",
              "      <td>21.997829</td>\n",
              "      <td>5.00987</td>\n",
              "      <td>0.482705</td>\n",
              "      <td>3.761709e+05</td>\n",
              "      <td>8.384503e+06</td>\n",
              "      <td>0.351424</td>\n",
              "      <td>0.258182</td>\n",
              "    </tr>\n",
              "    <tr>\n",
              "      <th>min</th>\n",
              "      <td>1.080200e+04</td>\n",
              "      <td>585.000000</td>\n",
              "      <td>7.662700e+04</td>\n",
              "      <td>0.000000</td>\n",
              "      <td>3.600000</td>\n",
              "      <td>0.000000</td>\n",
              "      <td>0.00000</td>\n",
              "      <td>0.000000</td>\n",
              "      <td>0.000000e+00</td>\n",
              "      <td>0.000000e+00</td>\n",
              "      <td>0.000000</td>\n",
              "      <td>0.000000</td>\n",
              "    </tr>\n",
              "    <tr>\n",
              "      <th>25%</th>\n",
              "      <td>1.796520e+05</td>\n",
              "      <td>705.000000</td>\n",
              "      <td>8.488440e+05</td>\n",
              "      <td>10214.162500</td>\n",
              "      <td>13.500000</td>\n",
              "      <td>16.000000</td>\n",
              "      <td>8.00000</td>\n",
              "      <td>0.000000</td>\n",
              "      <td>1.126700e+05</td>\n",
              "      <td>2.734380e+05</td>\n",
              "      <td>0.000000</td>\n",
              "      <td>0.000000</td>\n",
              "    </tr>\n",
              "    <tr>\n",
              "      <th>50%</th>\n",
              "      <td>3.122460e+05</td>\n",
              "      <td>724.000000</td>\n",
              "      <td>1.174162e+06</td>\n",
              "      <td>16220.300000</td>\n",
              "      <td>16.900000</td>\n",
              "      <td>32.000000</td>\n",
              "      <td>10.00000</td>\n",
              "      <td>0.000000</td>\n",
              "      <td>2.098170e+05</td>\n",
              "      <td>4.678740e+05</td>\n",
              "      <td>0.000000</td>\n",
              "      <td>0.000000</td>\n",
              "    </tr>\n",
              "    <tr>\n",
              "      <th>75%</th>\n",
              "      <td>5.249420e+05</td>\n",
              "      <td>741.000000</td>\n",
              "      <td>1.650663e+06</td>\n",
              "      <td>24012.057500</td>\n",
              "      <td>21.700000</td>\n",
              "      <td>51.000000</td>\n",
              "      <td>14.00000</td>\n",
              "      <td>0.000000</td>\n",
              "      <td>3.679588e+05</td>\n",
              "      <td>7.829580e+05</td>\n",
              "      <td>0.000000</td>\n",
              "      <td>0.000000</td>\n",
              "    </tr>\n",
              "    <tr>\n",
              "      <th>max</th>\n",
              "      <td>1.000000e+08</td>\n",
              "      <td>7510.000000</td>\n",
              "      <td>1.655574e+08</td>\n",
              "      <td>435843.280000</td>\n",
              "      <td>70.500000</td>\n",
              "      <td>176.000000</td>\n",
              "      <td>76.00000</td>\n",
              "      <td>15.000000</td>\n",
              "      <td>3.287897e+07</td>\n",
              "      <td>1.539738e+09</td>\n",
              "      <td>7.000000</td>\n",
              "      <td>15.000000</td>\n",
              "    </tr>\n",
              "  </tbody>\n",
              "</table>\n",
              "</div>\n",
              "    <div class=\"colab-df-buttons\">\n",
              "\n",
              "  <div class=\"colab-df-container\">\n",
              "    <button class=\"colab-df-convert\" onclick=\"convertToInteractive('df-7999db43-ad46-4136-9d0a-2bbdb4adc74b')\"\n",
              "            title=\"Convert this dataframe to an interactive table.\"\n",
              "            style=\"display:none;\">\n",
              "\n",
              "  <svg xmlns=\"http://www.w3.org/2000/svg\" height=\"24px\" viewBox=\"0 -960 960 960\">\n",
              "    <path d=\"M120-120v-720h720v720H120Zm60-500h600v-160H180v160Zm220 220h160v-160H400v160Zm0 220h160v-160H400v160ZM180-400h160v-160H180v160Zm440 0h160v-160H620v160ZM180-180h160v-160H180v160Zm440 0h160v-160H620v160Z\"/>\n",
              "  </svg>\n",
              "    </button>\n",
              "\n",
              "  <style>\n",
              "    .colab-df-container {\n",
              "      display:flex;\n",
              "      gap: 12px;\n",
              "    }\n",
              "\n",
              "    .colab-df-convert {\n",
              "      background-color: #E8F0FE;\n",
              "      border: none;\n",
              "      border-radius: 50%;\n",
              "      cursor: pointer;\n",
              "      display: none;\n",
              "      fill: #1967D2;\n",
              "      height: 32px;\n",
              "      padding: 0 0 0 0;\n",
              "      width: 32px;\n",
              "    }\n",
              "\n",
              "    .colab-df-convert:hover {\n",
              "      background-color: #E2EBFA;\n",
              "      box-shadow: 0px 1px 2px rgba(60, 64, 67, 0.3), 0px 1px 3px 1px rgba(60, 64, 67, 0.15);\n",
              "      fill: #174EA6;\n",
              "    }\n",
              "\n",
              "    .colab-df-buttons div {\n",
              "      margin-bottom: 4px;\n",
              "    }\n",
              "\n",
              "    [theme=dark] .colab-df-convert {\n",
              "      background-color: #3B4455;\n",
              "      fill: #D2E3FC;\n",
              "    }\n",
              "\n",
              "    [theme=dark] .colab-df-convert:hover {\n",
              "      background-color: #434B5C;\n",
              "      box-shadow: 0px 1px 3px 1px rgba(0, 0, 0, 0.15);\n",
              "      filter: drop-shadow(0px 1px 2px rgba(0, 0, 0, 0.3));\n",
              "      fill: #FFFFFF;\n",
              "    }\n",
              "  </style>\n",
              "\n",
              "    <script>\n",
              "      const buttonEl =\n",
              "        document.querySelector('#df-7999db43-ad46-4136-9d0a-2bbdb4adc74b button.colab-df-convert');\n",
              "      buttonEl.style.display =\n",
              "        google.colab.kernel.accessAllowed ? 'block' : 'none';\n",
              "\n",
              "      async function convertToInteractive(key) {\n",
              "        const element = document.querySelector('#df-7999db43-ad46-4136-9d0a-2bbdb4adc74b');\n",
              "        const dataTable =\n",
              "          await google.colab.kernel.invokeFunction('convertToInteractive',\n",
              "                                                    [key], {});\n",
              "        if (!dataTable) return;\n",
              "\n",
              "        const docLinkHtml = 'Like what you see? Visit the ' +\n",
              "          '<a target=\"_blank\" href=https://colab.research.google.com/notebooks/data_table.ipynb>data table notebook</a>'\n",
              "          + ' to learn more about interactive tables.';\n",
              "        element.innerHTML = '';\n",
              "        dataTable['output_type'] = 'display_data';\n",
              "        await google.colab.output.renderOutput(dataTable, element);\n",
              "        const docLink = document.createElement('div');\n",
              "        docLink.innerHTML = docLinkHtml;\n",
              "        element.appendChild(docLink);\n",
              "      }\n",
              "    </script>\n",
              "  </div>\n",
              "\n",
              "\n",
              "<div id=\"df-41e3456f-46c2-4240-b843-13f5e79a22b9\">\n",
              "  <button class=\"colab-df-quickchart\" onclick=\"quickchart('df-41e3456f-46c2-4240-b843-13f5e79a22b9')\"\n",
              "            title=\"Suggest charts\"\n",
              "            style=\"display:none;\">\n",
              "\n",
              "<svg xmlns=\"http://www.w3.org/2000/svg\" height=\"24px\"viewBox=\"0 0 24 24\"\n",
              "     width=\"24px\">\n",
              "    <g>\n",
              "        <path d=\"M19 3H5c-1.1 0-2 .9-2 2v14c0 1.1.9 2 2 2h14c1.1 0 2-.9 2-2V5c0-1.1-.9-2-2-2zM9 17H7v-7h2v7zm4 0h-2V7h2v10zm4 0h-2v-4h2v4z\"/>\n",
              "    </g>\n",
              "</svg>\n",
              "  </button>\n",
              "\n",
              "<style>\n",
              "  .colab-df-quickchart {\n",
              "      --bg-color: #E8F0FE;\n",
              "      --fill-color: #1967D2;\n",
              "      --hover-bg-color: #E2EBFA;\n",
              "      --hover-fill-color: #174EA6;\n",
              "      --disabled-fill-color: #AAA;\n",
              "      --disabled-bg-color: #DDD;\n",
              "  }\n",
              "\n",
              "  [theme=dark] .colab-df-quickchart {\n",
              "      --bg-color: #3B4455;\n",
              "      --fill-color: #D2E3FC;\n",
              "      --hover-bg-color: #434B5C;\n",
              "      --hover-fill-color: #FFFFFF;\n",
              "      --disabled-bg-color: #3B4455;\n",
              "      --disabled-fill-color: #666;\n",
              "  }\n",
              "\n",
              "  .colab-df-quickchart {\n",
              "    background-color: var(--bg-color);\n",
              "    border: none;\n",
              "    border-radius: 50%;\n",
              "    cursor: pointer;\n",
              "    display: none;\n",
              "    fill: var(--fill-color);\n",
              "    height: 32px;\n",
              "    padding: 0;\n",
              "    width: 32px;\n",
              "  }\n",
              "\n",
              "  .colab-df-quickchart:hover {\n",
              "    background-color: var(--hover-bg-color);\n",
              "    box-shadow: 0 1px 2px rgba(60, 64, 67, 0.3), 0 1px 3px 1px rgba(60, 64, 67, 0.15);\n",
              "    fill: var(--button-hover-fill-color);\n",
              "  }\n",
              "\n",
              "  .colab-df-quickchart-complete:disabled,\n",
              "  .colab-df-quickchart-complete:disabled:hover {\n",
              "    background-color: var(--disabled-bg-color);\n",
              "    fill: var(--disabled-fill-color);\n",
              "    box-shadow: none;\n",
              "  }\n",
              "\n",
              "  .colab-df-spinner {\n",
              "    border: 2px solid var(--fill-color);\n",
              "    border-color: transparent;\n",
              "    border-bottom-color: var(--fill-color);\n",
              "    animation:\n",
              "      spin 1s steps(1) infinite;\n",
              "  }\n",
              "\n",
              "  @keyframes spin {\n",
              "    0% {\n",
              "      border-color: transparent;\n",
              "      border-bottom-color: var(--fill-color);\n",
              "      border-left-color: var(--fill-color);\n",
              "    }\n",
              "    20% {\n",
              "      border-color: transparent;\n",
              "      border-left-color: var(--fill-color);\n",
              "      border-top-color: var(--fill-color);\n",
              "    }\n",
              "    30% {\n",
              "      border-color: transparent;\n",
              "      border-left-color: var(--fill-color);\n",
              "      border-top-color: var(--fill-color);\n",
              "      border-right-color: var(--fill-color);\n",
              "    }\n",
              "    40% {\n",
              "      border-color: transparent;\n",
              "      border-right-color: var(--fill-color);\n",
              "      border-top-color: var(--fill-color);\n",
              "    }\n",
              "    60% {\n",
              "      border-color: transparent;\n",
              "      border-right-color: var(--fill-color);\n",
              "    }\n",
              "    80% {\n",
              "      border-color: transparent;\n",
              "      border-right-color: var(--fill-color);\n",
              "      border-bottom-color: var(--fill-color);\n",
              "    }\n",
              "    90% {\n",
              "      border-color: transparent;\n",
              "      border-bottom-color: var(--fill-color);\n",
              "    }\n",
              "  }\n",
              "</style>\n",
              "\n",
              "  <script>\n",
              "    async function quickchart(key) {\n",
              "      const quickchartButtonEl =\n",
              "        document.querySelector('#' + key + ' button');\n",
              "      quickchartButtonEl.disabled = true;  // To prevent multiple clicks.\n",
              "      quickchartButtonEl.classList.add('colab-df-spinner');\n",
              "      try {\n",
              "        const charts = await google.colab.kernel.invokeFunction(\n",
              "            'suggestCharts', [key], {});\n",
              "      } catch (error) {\n",
              "        console.error('Error during call to suggestCharts:', error);\n",
              "      }\n",
              "      quickchartButtonEl.classList.remove('colab-df-spinner');\n",
              "      quickchartButtonEl.classList.add('colab-df-quickchart-complete');\n",
              "    }\n",
              "    (() => {\n",
              "      let quickchartButtonEl =\n",
              "        document.querySelector('#df-41e3456f-46c2-4240-b843-13f5e79a22b9 button');\n",
              "      quickchartButtonEl.style.display =\n",
              "        google.colab.kernel.accessAllowed ? 'block' : 'none';\n",
              "    })();\n",
              "  </script>\n",
              "</div>\n",
              "    </div>\n",
              "  </div>\n"
            ],
            "application/vnd.google.colaboratory.intrinsic+json": {
              "type": "dataframe",
              "summary": "{\n  \"name\": \"data\",\n  \"rows\": 8,\n  \"fields\": [\n    {\n      \"column\": \"Current Loan Amount\",\n      \"properties\": {\n        \"dtype\": \"number\",\n        \"std\": 34913552.04110389,\n        \"min\": 10802.0,\n        \"max\": 99999999.0,\n        \"num_unique_values\": 8,\n        \"samples\": [\n          11760447.38946,\n          312246.0,\n          100000.0\n        ],\n        \"semantic_type\": \"\",\n        \"description\": \"\"\n      }\n    },\n    {\n      \"column\": \"Credit Score\",\n      \"properties\": {\n        \"dtype\": \"number\",\n        \"std\": 28033.48121170142,\n        \"min\": 585.0,\n        \"max\": 80846.0,\n        \"num_unique_values\": 8,\n        \"samples\": [\n          1076.4560893550702,\n          724.0,\n          80846.0\n        ],\n        \"semantic_type\": \"\",\n        \"description\": \"\"\n      }\n    },\n    {\n      \"column\": \"Annual Income\",\n      \"properties\": {\n        \"dtype\": \"number\",\n        \"std\": 58218408.213985704,\n        \"min\": 76627.0,\n        \"max\": 165557393.0,\n        \"num_unique_values\": 8,\n        \"samples\": [\n          1378276.559842169,\n          1174162.0,\n          80846.0\n        ],\n        \"semantic_type\": \"\",\n        \"description\": \"\"\n      }\n    },\n    {\n      \"column\": \"Monthly Debt\",\n      \"properties\": {\n        \"dtype\": \"number\",\n        \"std\": 148235.52301323006,\n        \"min\": 0.0,\n        \"max\": 435843.28,\n        \"num_unique_values\": 8,\n        \"samples\": [\n          18472.412335800003,\n          16220.3,\n          100000.0\n        ],\n        \"semantic_type\": \"\",\n        \"description\": \"\"\n      }\n    },\n    {\n      \"column\": \"Years of Credit History\",\n      \"properties\": {\n        \"dtype\": \"number\",\n        \"std\": 35347.69759116415,\n        \"min\": 3.6,\n        \"max\": 100000.0,\n        \"num_unique_values\": 8,\n        \"samples\": [\n          18.199140999999997,\n          16.9,\n          100000.0\n        ],\n        \"semantic_type\": \"\",\n        \"description\": \"\"\n      }\n    },\n    {\n      \"column\": \"Months since last delinquent\",\n      \"properties\": {\n        \"dtype\": \"number\",\n        \"std\": 16550.484756328566,\n        \"min\": 0.0,\n        \"max\": 46859.0,\n        \"num_unique_values\": 8,\n        \"samples\": [\n          34.90132098422929,\n          32.0,\n          46859.0\n        ],\n        \"semantic_type\": \"\",\n        \"description\": \"\"\n      }\n    },\n    {\n      \"column\": \"Number of Open Accounts\",\n      \"properties\": {\n        \"dtype\": \"number\",\n        \"std\": 35349.07737458578,\n        \"min\": 0.0,\n        \"max\": 100000.0,\n        \"num_unique_values\": 8,\n        \"samples\": [\n          11.12853,\n          10.0,\n          100000.0\n        ],\n        \"semantic_type\": \"\",\n        \"description\": \"\"\n      }\n    },\n    {\n      \"column\": \"Number of Credit Problems\",\n      \"properties\": {\n        \"dtype\": \"number\",\n        \"std\": 35354.54894810601,\n        \"min\": 0.0,\n        \"max\": 100000.0,\n        \"num_unique_values\": 5,\n        \"samples\": [\n          0.16831,\n          15.0,\n          0.4827049553720569\n        ],\n        \"semantic_type\": \"\",\n        \"description\": \"\"\n      }\n    },\n    {\n      \"column\": \"Current Credit Balance\",\n      \"properties\": {\n        \"dtype\": \"number\",\n        \"std\": 11551441.514230298,\n        \"min\": 0.0,\n        \"max\": 32878968.0,\n        \"num_unique_values\": 8,\n        \"samples\": [\n          294637.38235,\n          209817.0,\n          100000.0\n        ],\n        \"semantic_type\": \"\",\n        \"description\": \"\"\n      }\n    },\n    {\n      \"column\": \"Maximum Open Credit\",\n      \"properties\": {\n        \"dtype\": \"number\",\n        \"std\": 543842860.4204853,\n        \"min\": 0.0,\n        \"max\": 1539737892.0,\n        \"num_unique_values\": 8,\n        \"samples\": [\n          760798.381747635,\n          467874.0,\n          99998.0\n        ],\n        \"semantic_type\": \"\",\n        \"description\": \"\"\n      }\n    },\n    {\n      \"column\": \"Bankruptcies\",\n      \"properties\": {\n        \"dtype\": \"number\",\n        \"std\": 35282.83700123691,\n        \"min\": 0.0,\n        \"max\": 99796.0,\n        \"num_unique_values\": 5,\n        \"samples\": [\n          0.11774018998757466,\n          7.0,\n          0.35142381821880475\n        ],\n        \"semantic_type\": \"\",\n        \"description\": \"\"\n      }\n    },\n    {\n      \"column\": \"Tax Liens\",\n      \"properties\": {\n        \"dtype\": \"number\",\n        \"std\": 35351.03177760491,\n        \"min\": 0.0,\n        \"max\": 99990.0,\n        \"num_unique_values\": 5,\n        \"samples\": [\n          0.029312931293129313,\n          15.0,\n          0.25818243623945536\n        ],\n        \"semantic_type\": \"\",\n        \"description\": \"\"\n      }\n    }\n  ]\n}"
            }
          },
          "metadata": {},
          "execution_count": 254
        }
      ]
    },
    {
      "cell_type": "code",
      "source": [
        "numeric_columns = data.select_dtypes(include=[float, int])\n",
        "\n",
        "plt.figure(figsize=(10, 5))\n",
        "sns.heatmap(numeric_columns.corr(), annot=True)\n",
        "plt.show()"
      ],
      "metadata": {
        "colab": {
          "base_uri": "https://localhost:8080/",
          "height": 636
        },
        "id": "ytEGIwHLGlUm",
        "outputId": "98c08f1d-8cae-477d-9e79-bb9f5e674f9e"
      },
      "execution_count": 255,
      "outputs": [
        {
          "output_type": "display_data",
          "data": {
            "text/plain": [
              "<Figure size 1000x500 with 2 Axes>"
            ],
            "image/png": "[encoded data removed]"
          },
          "metadata": {}
        }
      ]
    },
    {
      "cell_type": "markdown",
      "source": [
        "Check missing value"
      ],
      "metadata": {
        "id": "M__vFI-hV_39"
      }
    },
    {
      "cell_type": "code",
      "source": [
        "data.isnull().any()"
      ],
      "metadata": {
        "colab": {
          "base_uri": "https://localhost:8080/"
        },
        "id": "50FNkkgIVD3w",
        "outputId": "3ad0b623-93f6-4907-b66c-68083b4b3bee"
      },
      "execution_count": 256,
      "outputs": [
        {
          "output_type": "execute_result",
          "data": {
            "text/plain": [
              "Loan ID                         True\n",
              "Customer ID                     True\n",
              "Loan Status                     True\n",
              "Current Loan Amount             True\n",
              "Term                            True\n",
              "Credit Score                    True\n",
              "Annual Income                   True\n",
              "Years in current job            True\n",
              "Home Ownership                  True\n",
              "Purpose                         True\n",
              "Monthly Debt                    True\n",
              "Years of Credit History         True\n",
              "Months since last delinquent    True\n",
              "Number of Open Accounts         True\n",
              "Number of Credit Problems       True\n",
              "Current Credit Balance          True\n",
              "Maximum Open Credit             True\n",
              "Bankruptcies                    True\n",
              "Tax Liens                       True\n",
              "dtype: bool"
            ]
          },
          "metadata": {},
          "execution_count": 256
        }
      ]
    },
    {
      "cell_type": "code",
      "source": [
        "data.isnull().sum()"
      ],
      "metadata": {
        "colab": {
          "base_uri": "https://localhost:8080/"
        },
        "id": "-IEJBJzNUqAh",
        "outputId": "96573643-936f-41d1-cc39-c3e9009df7c8"
      },
      "execution_count": 257,
      "outputs": [
        {
          "output_type": "execute_result",
          "data": {
            "text/plain": [
              "Loan ID                           514\n",
              "Customer ID                       514\n",
              "Loan Status                       514\n",
              "Current Loan Amount               514\n",
              "Term                              514\n",
              "Credit Score                    19668\n",
              "Annual Income                   19668\n",
              "Years in current job             4736\n",
              "Home Ownership                    514\n",
              "Purpose                           514\n",
              "Monthly Debt                      514\n",
              "Years of Credit History           514\n",
              "Months since last delinquent    53655\n",
              "Number of Open Accounts           514\n",
              "Number of Credit Problems         514\n",
              "Current Credit Balance            514\n",
              "Maximum Open Credit               516\n",
              "Bankruptcies                      718\n",
              "Tax Liens                         524\n",
              "dtype: int64"
            ]
          },
          "metadata": {},
          "execution_count": 257
        }
      ]
    },
    {
      "cell_type": "code",
      "source": [
        "# Check the percentage of Nan in dataset\n",
        "total = data.isnull().sum().sort_values(ascending=False)\n",
        "percent = (data.isnull().sum()/data['Loan Status'].count()).sort_values(ascending=False)\n",
        "missing_data = pd.concat([total, percent], axis=1, keys=['Total', 'Percent'])\n",
        "missing_data.head(20)"
      ],
      "metadata": {
        "colab": {
          "base_uri": "https://localhost:8080/",
          "height": 645
        },
        "id": "xZcE0NBPVpSB",
        "outputId": "45f249ba-4543-472f-b807-89f887bc3937"
      },
      "execution_count": 258,
      "outputs": [
        {
          "output_type": "execute_result",
          "data": {
            "text/plain": [
              "                              Total  Percent\n",
              "Months since last delinquent  53655  0.53655\n",
              "Credit Score                  19668  0.19668\n",
              "Annual Income                 19668  0.19668\n",
              "Years in current job           4736  0.04736\n",
              "Bankruptcies                    718  0.00718\n",
              "Tax Liens                       524  0.00524\n",
              "Maximum Open Credit             516  0.00516\n",
              "Years of Credit History         514  0.00514\n",
              "Current Credit Balance          514  0.00514\n",
              "Number of Credit Problems       514  0.00514\n",
              "Number of Open Accounts         514  0.00514\n",
              "Loan ID                         514  0.00514\n",
              "Monthly Debt                    514  0.00514\n",
              "Customer ID                     514  0.00514\n",
              "Home Ownership                  514  0.00514\n",
              "Term                            514  0.00514\n",
              "Current Loan Amount             514  0.00514\n",
              "Loan Status                     514  0.00514\n",
              "Purpose                         514  0.00514"
            ],
            "text/html": [
              "\n",
              "  <div id=\"df-4f7c6abf-9263-4261-b6ad-10923ea1a767\" class=\"colab-df-container\">\n",
              "    <div>\n",
              "<style scoped>\n",
              "    .dataframe tbody tr th:only-of-type {\n",
              "        vertical-align: middle;\n",
              "    }\n",
              "\n",
              "    .dataframe tbody tr th {\n",
              "        vertical-align: top;\n",
              "    }\n",
              "\n",
              "    .dataframe thead th {\n",
              "        text-align: right;\n",
              "    }\n",
              "</style>\n",
              "<table border=\"1\" class=\"dataframe\">\n",
              "  <thead>\n",
              "    <tr style=\"text-align: right;\">\n",
              "      <th></th>\n",
              "      <th>Total</th>\n",
              "      <th>Percent</th>\n",
              "    </tr>\n",
              "  </thead>\n",
              "  <tbody>\n",
              "    <tr>\n",
              "      <th>Months since last delinquent</th>\n",
              "      <td>53655</td>\n",
              "      <td>0.53655</td>\n",
              "    </tr>\n",
              "    <tr>\n",
              "      <th>Credit Score</th>\n",
              "      <td>19668</td>\n",
              "      <td>0.19668</td>\n",
              "    </tr>\n",
              "    <tr>\n",
              "      <th>Annual Income</th>\n",
              "      <td>19668</td>\n",
              "      <td>0.19668</td>\n",
              "    </tr>\n",
              "    <tr>\n",
              "      <th>Years in current job</th>\n",
              "      <td>4736</td>\n",
              "      <td>0.04736</td>\n",
              "    </tr>\n",
              "    <tr>\n",
              "      <th>Bankruptcies</th>\n",
              "      <td>718</td>\n",
              "      <td>0.00718</td>\n",
              "    </tr>\n",
              "    <tr>\n",
              "      <th>Tax Liens</th>\n",
              "      <td>524</td>\n",
              "      <td>0.00524</td>\n",
              "    </tr>\n",
              "    <tr>\n",
              "      <th>Maximum Open Credit</th>\n",
              "      <td>516</td>\n",
              "      <td>0.00516</td>\n",
              "    </tr>\n",
              "    <tr>\n",
              "      <th>Years of Credit History</th>\n",
              "      <td>514</td>\n",
              "      <td>0.00514</td>\n",
              "    </tr>\n",
              "    <tr>\n",
              "      <th>Current Credit Balance</th>\n",
              "      <td>514</td>\n",
              "      <td>0.00514</td>\n",
              "    </tr>\n",
              "    <tr>\n",
              "      <th>Number of Credit Problems</th>\n",
              "      <td>514</td>\n",
              "      <td>0.00514</td>\n",
              "    </tr>\n",
              "    <tr>\n",
              "      <th>Number of Open Accounts</th>\n",
              "      <td>514</td>\n",
              "      <td>0.00514</td>\n",
              "    </tr>\n",
              "    <tr>\n",
              "      <th>Loan ID</th>\n",
              "      <td>514</td>\n",
              "      <td>0.00514</td>\n",
              "    </tr>\n",
              "    <tr>\n",
              "      <th>Monthly Debt</th>\n",
              "      <td>514</td>\n",
              "      <td>0.00514</td>\n",
              "    </tr>\n",
              "    <tr>\n",
              "      <th>Customer ID</th>\n",
              "      <td>514</td>\n",
              "      <td>0.00514</td>\n",
              "    </tr>\n",
              "    <tr>\n",
              "      <th>Home Ownership</th>\n",
              "      <td>514</td>\n",
              "      <td>0.00514</td>\n",
              "    </tr>\n",
              "    <tr>\n",
              "      <th>Term</th>\n",
              "      <td>514</td>\n",
              "      <td>0.00514</td>\n",
              "    </tr>\n",
              "    <tr>\n",
              "      <th>Current Loan Amount</th>\n",
              "      <td>514</td>\n",
              "      <td>0.00514</td>\n",
              "    </tr>\n",
              "    <tr>\n",
              "      <th>Loan Status</th>\n",
              "      <td>514</td>\n",
              "      <td>0.00514</td>\n",
              "    </tr>\n",
              "    <tr>\n",
              "      <th>Purpose</th>\n",
              "      <td>514</td>\n",
              "      <td>0.00514</td>\n",
              "    </tr>\n",
              "  </tbody>\n",
              "</table>\n",
              "</div>\n",
              "    <div class=\"colab-df-buttons\">\n",
              "\n",
              "  <div class=\"colab-df-container\">\n",
              "    <button class=\"colab-df-convert\" onclick=\"convertToInteractive('df-4f7c6abf-9263-4261-b6ad-10923ea1a767')\"\n",
              "            title=\"Convert this dataframe to an interactive table.\"\n",
              "            style=\"display:none;\">\n",
              "\n",
              "  <svg xmlns=\"http://www.w3.org/2000/svg\" height=\"24px\" viewBox=\"0 -960 960 960\">\n",
              "    <path d=\"M120-120v-720h720v720H120Zm60-500h600v-160H180v160Zm220 220h160v-160H400v160Zm0 220h160v-160H400v160ZM180-400h160v-160H180v160Zm440 0h160v-160H620v160ZM180-180h160v-160H180v160Zm440 0h160v-160H620v160Z\"/>\n",
              "  </svg>\n",
              "    </button>\n",
              "\n",
              "  <style>\n",
              "    .colab-df-container {\n",
              "      display:flex;\n",
              "      gap: 12px;\n",
              "    }\n",
              "\n",
              "    .colab-df-convert {\n",
              "      background-color: #E8F0FE;\n",
              "      border: none;\n",
              "      border-radius: 50%;\n",
              "      cursor: pointer;\n",
              "      display: none;\n",
              "      fill: #1967D2;\n",
              "      height: 32px;\n",
              "      padding: 0 0 0 0;\n",
              "      width: 32px;\n",
              "    }\n",
              "\n",
              "    .colab-df-convert:hover {\n",
              "      background-color: #E2EBFA;\n",
              "      box-shadow: 0px 1px 2px rgba(60, 64, 67, 0.3), 0px 1px 3px 1px rgba(60, 64, 67, 0.15);\n",
              "      fill: #174EA6;\n",
              "    }\n",
              "\n",
              "    .colab-df-buttons div {\n",
              "      margin-bottom: 4px;\n",
              "    }\n",
              "\n",
              "    [theme=dark] .colab-df-convert {\n",
              "      background-color: #3B4455;\n",
              "      fill: #D2E3FC;\n",
              "    }\n",
              "\n",
              "    [theme=dark] .colab-df-convert:hover {\n",
              "      background-color: #434B5C;\n",
              "      box-shadow: 0px 1px 3px 1px rgba(0, 0, 0, 0.15);\n",
              "      filter: drop-shadow(0px 1px 2px rgba(0, 0, 0, 0.3));\n",
              "      fill: #FFFFFF;\n",
              "    }\n",
              "  </style>\n",
              "\n",
              "    <script>\n",
              "      const buttonEl =\n",
              "        document.querySelector('#df-4f7c6abf-9263-4261-b6ad-10923ea1a767 button.colab-df-convert');\n",
              "      buttonEl.style.display =\n",
              "        google.colab.kernel.accessAllowed ? 'block' : 'none';\n",
              "\n",
              "      async function convertToInteractive(key) {\n",
              "        const element = document.querySelector('#df-4f7c6abf-9263-4261-b6ad-10923ea1a767');\n",
              "        const dataTable =\n",
              "          await google.colab.kernel.invokeFunction('convertToInteractive',\n",
              "                                                    [key], {});\n",
              "        if (!dataTable) return;\n",
              "\n",
              "        const docLinkHtml = 'Like what you see? Visit the ' +\n",
              "          '<a target=\"_blank\" href=https://colab.research.google.com/notebooks/data_table.ipynb>data table notebook</a>'\n",
              "          + ' to learn more about interactive tables.';\n",
              "        element.innerHTML = '';\n",
              "        dataTable['output_type'] = 'display_data';\n",
              "        await google.colab.output.renderOutput(dataTable, element);\n",
              "        const docLink = document.createElement('div');\n",
              "        docLink.innerHTML = docLinkHtml;\n",
              "        element.appendChild(docLink);\n",
              "      }\n",
              "    </script>\n",
              "  </div>\n",
              "\n",
              "\n",
              "<div id=\"df-c77b7143-9713-4d39-8b8c-3a98a6147da0\">\n",
              "  <button class=\"colab-df-quickchart\" onclick=\"quickchart('df-c77b7143-9713-4d39-8b8c-3a98a6147da0')\"\n",
              "            title=\"Suggest charts\"\n",
              "            style=\"display:none;\">\n",
              "\n",
              "<svg xmlns=\"http://www.w3.org/2000/svg\" height=\"24px\"viewBox=\"0 0 24 24\"\n",
              "     width=\"24px\">\n",
              "    <g>\n",
              "        <path d=\"M19 3H5c-1.1 0-2 .9-2 2v14c0 1.1.9 2 2 2h14c1.1 0 2-.9 2-2V5c0-1.1-.9-2-2-2zM9 17H7v-7h2v7zm4 0h-2V7h2v10zm4 0h-2v-4h2v4z\"/>\n",
              "    </g>\n",
              "</svg>\n",
              "  </button>\n",
              "\n",
              "<style>\n",
              "  .colab-df-quickchart {\n",
              "      --bg-color: #E8F0FE;\n",
              "      --fill-color: #1967D2;\n",
              "      --hover-bg-color: #E2EBFA;\n",
              "      --hover-fill-color: #174EA6;\n",
              "      --disabled-fill-color: #AAA;\n",
              "      --disabled-bg-color: #DDD;\n",
              "  }\n",
              "\n",
              "  [theme=dark] .colab-df-quickchart {\n",
              "      --bg-color: #3B4455;\n",
              "      --fill-color: #D2E3FC;\n",
              "      --hover-bg-color: #434B5C;\n",
              "      --hover-fill-color: #FFFFFF;\n",
              "      --disabled-bg-color: #3B4455;\n",
              "      --disabled-fill-color: #666;\n",
              "  }\n",
              "\n",
              "  .colab-df-quickchart {\n",
              "    background-color: var(--bg-color);\n",
              "    border: none;\n",
              "    border-radius: 50%;\n",
              "    cursor: pointer;\n",
              "    display: none;\n",
              "    fill: var(--fill-color);\n",
              "    height: 32px;\n",
              "    padding: 0;\n",
              "    width: 32px;\n",
              "  }\n",
              "\n",
              "  .colab-df-quickchart:hover {\n",
              "    background-color: var(--hover-bg-color);\n",
              "    box-shadow: 0 1px 2px rgba(60, 64, 67, 0.3), 0 1px 3px 1px rgba(60, 64, 67, 0.15);\n",
              "    fill: var(--button-hover-fill-color);\n",
              "  }\n",
              "\n",
              "  .colab-df-quickchart-complete:disabled,\n",
              "  .colab-df-quickchart-complete:disabled:hover {\n",
              "    background-color: var(--disabled-bg-color);\n",
              "    fill: var(--disabled-fill-color);\n",
              "    box-shadow: none;\n",
              "  }\n",
              "\n",
              "  .colab-df-spinner {\n",
              "    border: 2px solid var(--fill-color);\n",
              "    border-color: transparent;\n",
              "    border-bottom-color: var(--fill-color);\n",
              "    animation:\n",
              "      spin 1s steps(1) infinite;\n",
              "  }\n",
              "\n",
              "  @keyframes spin {\n",
              "    0% {\n",
              "      border-color: transparent;\n",
              "      border-bottom-color: var(--fill-color);\n",
              "      border-left-color: var(--fill-color);\n",
              "    }\n",
              "    20% {\n",
              "      border-color: transparent;\n",
              "      border-left-color: var(--fill-color);\n",
              "      border-top-color: var(--fill-color);\n",
              "    }\n",
              "    30% {\n",
              "      border-color: transparent;\n",
              "      border-left-color: var(--fill-color);\n",
              "      border-top-color: var(--fill-color);\n",
              "      border-right-color: var(--fill-color);\n",
              "    }\n",
              "    40% {\n",
              "      border-color: transparent;\n",
              "      border-right-color: var(--fill-color);\n",
              "      border-top-color: var(--fill-color);\n",
              "    }\n",
              "    60% {\n",
              "      border-color: transparent;\n",
              "      border-right-color: var(--fill-color);\n",
              "    }\n",
              "    80% {\n",
              "      border-color: transparent;\n",
              "      border-right-color: var(--fill-color);\n",
              "      border-bottom-color: var(--fill-color);\n",
              "    }\n",
              "    90% {\n",
              "      border-color: transparent;\n",
              "      border-bottom-color: var(--fill-color);\n",
              "    }\n",
              "  }\n",
              "</style>\n",
              "\n",
              "  <script>\n",
              "    async function quickchart(key) {\n",
              "      const quickchartButtonEl =\n",
              "        document.querySelector('#' + key + ' button');\n",
              "      quickchartButtonEl.disabled = true;  // To prevent multiple clicks.\n",
              "      quickchartButtonEl.classList.add('colab-df-spinner');\n",
              "      try {\n",
              "        const charts = await google.colab.kernel.invokeFunction(\n",
              "            'suggestCharts', [key], {});\n",
              "      } catch (error) {\n",
              "        console.error('Error during call to suggestCharts:', error);\n",
              "      }\n",
              "      quickchartButtonEl.classList.remove('colab-df-spinner');\n",
              "      quickchartButtonEl.classList.add('colab-df-quickchart-complete');\n",
              "    }\n",
              "    (() => {\n",
              "      let quickchartButtonEl =\n",
              "        document.querySelector('#df-c77b7143-9713-4d39-8b8c-3a98a6147da0 button');\n",
              "      quickchartButtonEl.style.display =\n",
              "        google.colab.kernel.accessAllowed ? 'block' : 'none';\n",
              "    })();\n",
              "  </script>\n",
              "</div>\n",
              "    </div>\n",
              "  </div>\n"
            ],
            "application/vnd.google.colaboratory.intrinsic+json": {
              "type": "dataframe",
              "variable_name": "missing_data",
              "summary": "{\n  \"name\": \"missing_data\",\n  \"rows\": 19,\n  \"fields\": [\n    {\n      \"column\": \"Total\",\n      \"properties\": {\n        \"dtype\": \"number\",\n        \"std\": 13105,\n        \"min\": 514,\n        \"max\": 53655,\n        \"num_unique_values\": 7,\n        \"samples\": [\n          53655,\n          19668,\n          516\n        ],\n        \"semantic_type\": \"\",\n        \"description\": \"\"\n      }\n    },\n    {\n      \"column\": \"Percent\",\n      \"properties\": {\n        \"dtype\": \"number\",\n        \"std\": 0.13105708908939184,\n        \"min\": 0.00514,\n        \"max\": 0.53655,\n        \"num_unique_values\": 7,\n        \"samples\": [\n          0.53655,\n          0.19668,\n          0.00516\n        ],\n        \"semantic_type\": \"\",\n        \"description\": \"\"\n      }\n    }\n  ]\n}"
            }
          },
          "metadata": {},
          "execution_count": 258
        }
      ]
    },
    {
      "cell_type": "markdown",
      "source": [
        "51% missing data in total Months since last deliquent.\n",
        "19% in both credit score and annual income."
      ],
      "metadata": {
        "id": "dLmyCUk1r7uU"
      }
    },
    {
      "cell_type": "code",
      "source": [
        "#Drop the columns with > 50% missing\n",
        "data.drop(columns = 'Months since last delinquent', axis=1, inplace=True)"
      ],
      "metadata": {
        "id": "vrMIMuHOr-nI"
      },
      "execution_count": 259,
      "outputs": []
    },
    {
      "cell_type": "markdown",
      "source": [
        "Drop last 514 rows as they are all NaN"
      ],
      "metadata": {
        "id": "hwrbR5I0s3kJ"
      }
    },
    {
      "cell_type": "code",
      "source": [
        "data.drop(data.tail(514).index, inplace=True)"
      ],
      "metadata": {
        "id": "ymIeA7qjsd6N"
      },
      "execution_count": 260,
      "outputs": []
    },
    {
      "cell_type": "code",
      "source": [
        "data.isnull().sum()"
      ],
      "metadata": {
        "colab": {
          "base_uri": "https://localhost:8080/"
        },
        "id": "XdzqEqQ9sj3c",
        "outputId": "8536ef38-5f08-486b-a97e-e42ad0c86ddc"
      },
      "execution_count": 261,
      "outputs": [
        {
          "output_type": "execute_result",
          "data": {
            "text/plain": [
              "Loan ID                          0\n",
              "Customer ID                      0\n",
              "Loan Status                      0\n",
              "Current Loan Amount              0\n",
              "Term                             0\n",
              "Credit Score                 19154\n",
              "Annual Income                19154\n",
              "Years in current job          4222\n",
              "Home Ownership                   0\n",
              "Purpose                          0\n",
              "Monthly Debt                     0\n",
              "Years of Credit History          0\n",
              "Number of Open Accounts          0\n",
              "Number of Credit Problems        0\n",
              "Current Credit Balance           0\n",
              "Maximum Open Credit              2\n",
              "Bankruptcies                   204\n",
              "Tax Liens                       10\n",
              "dtype: int64"
            ]
          },
          "metadata": {},
          "execution_count": 261
        }
      ]
    },
    {
      "cell_type": "markdown",
      "source": [
        "filling missing data:"
      ],
      "metadata": {
        "id": "B03J8PO_s9Xg"
      }
    },
    {
      "cell_type": "markdown",
      "source": [
        "Before completing the missing values, we check the distribution to decide the better representation of central tendency:"
      ],
      "metadata": {
        "id": "L2gIG6FNtikb"
      }
    },
    {
      "cell_type": "markdown",
      "source": [
        "Credit Score"
      ],
      "metadata": {
        "id": "-3gfWeikGKyU"
      }
    },
    {
      "cell_type": "code",
      "source": [
        "sns.histplot(x= 'Credit Score',data =data)"
      ],
      "metadata": {
        "colab": {
          "base_uri": "https://localhost:8080/",
          "height": 466
        },
        "id": "gxQgScZNtiXb",
        "outputId": "04eddf7b-76f9-42d6-f15d-b0e76aad8536"
      },
      "execution_count": 262,
      "outputs": [
        {
          "output_type": "execute_result",
          "data": {
            "text/plain": [
              "<Axes: xlabel='Credit Score', ylabel='Count'>"
            ]
          },
          "metadata": {},
          "execution_count": 262
        },
        {
          "output_type": "display_data",
          "data": {
            "text/plain": [
              "<Figure size 640x480 with 1 Axes>"
            ],
            "image/png": "[encoded data removed]"
          },
          "metadata": {}
        }
      ]
    },
    {
      "cell_type": "markdown",
      "source": [
        "use median: for imputation in the case of outliers."
      ],
      "metadata": {
        "id": "h8n-AvMatq0w"
      }
    },
    {
      "cell_type": "code",
      "source": [
        "median= data['Credit Score'].median()\n",
        "data['Credit Score'].fillna(median, inplace=True)"
      ],
      "metadata": {
        "id": "wsQv7LGwBCR5"
      },
      "execution_count": 263,
      "outputs": []
    },
    {
      "cell_type": "markdown",
      "source": [
        "Annual Income"
      ],
      "metadata": {
        "id": "T5Ea4reEFt8U"
      }
    },
    {
      "cell_type": "code",
      "source": [
        "value_counts = data['Annual Income'].value_counts()\n",
        "print(value_counts)\n",
        "data['Annual Income'].head()"
      ],
      "metadata": {
        "colab": {
          "base_uri": "https://localhost:8080/"
        },
        "id": "LcGjsl9Hdx6M",
        "outputId": "484ad8f5-5e5e-4564-885c-2ce8669d9486"
      },
      "execution_count": 264,
      "outputs": [
        {
          "output_type": "stream",
          "name": "stdout",
          "text": [
            "Annual Income\n",
            "1162572.0    22\n",
            "973370.0     19\n",
            "969475.0     18\n",
            "1140000.0    18\n",
            "949905.0     17\n",
            "             ..\n",
            "552558.0      1\n",
            "610033.0      1\n",
            "775010.0      1\n",
            "992997.0      1\n",
            "1289416.0     1\n",
            "Name: count, Length: 36174, dtype: int64\n"
          ]
        },
        {
          "output_type": "execute_result",
          "data": {
            "text/plain": [
              "0    1167493.0\n",
              "1          NaN\n",
              "2    2231892.0\n",
              "3     806949.0\n",
              "4          NaN\n",
              "Name: Annual Income, dtype: float64"
            ]
          },
          "metadata": {},
          "execution_count": 264
        }
      ]
    },
    {
      "cell_type": "code",
      "source": [
        "sns.histplot(x= 'Annual Income',data =data)"
      ],
      "metadata": {
        "id": "5rBh-R7Tts8E"
      },
      "execution_count": null,
      "outputs": []
    },
    {
      "cell_type": "markdown",
      "source": [
        "It's better to use median."
      ],
      "metadata": {
        "id": "xUX1lx6JtxDa"
      }
    },
    {
      "cell_type": "code",
      "source": [
        "median= data['Annual Income'].median()\n",
        "data['Annual Income'].fillna(median, inplace=True)"
      ],
      "metadata": {
        "id": "uxlcVub8FyCq"
      },
      "execution_count": null,
      "outputs": []
    },
    {
      "cell_type": "markdown",
      "source": [
        "Years in current job"
      ],
      "metadata": {
        "id": "aKdUMp5kF7-9"
      }
    },
    {
      "cell_type": "code",
      "source": [
        "plt.figure(figsize=(10, 10))\n",
        "sns.histplot(x= 'Years in current job',data =data)\n",
        "plt.show()"
      ],
      "metadata": {
        "id": "RscVwNzmtyr7"
      },
      "execution_count": null,
      "outputs": []
    },
    {
      "cell_type": "markdown",
      "source": [
        "It's better to use mean."
      ],
      "metadata": {
        "id": "4sZzSTsIt4Uu"
      }
    },
    {
      "cell_type": "code",
      "source": [
        "le = LabelEncoder()\n",
        "data['Years in current job']=le.fit_transform(data['Years in current job'])"
      ],
      "metadata": {
        "id": "YOrxrQBmS1qU"
      },
      "execution_count": null,
      "outputs": []
    },
    {
      "cell_type": "code",
      "source": [
        "imputer = SimpleImputer(strategy='mean', missing_values=np.nan)\n",
        "imputer = imputer.fit(data[['Years in current job']])\n",
        "data['Years in current job'] = imputer.transform(data[['Years in current job']])"
      ],
      "metadata": {
        "id": "l1A7XFd-Srt4"
      },
      "execution_count": null,
      "outputs": []
    },
    {
      "cell_type": "code",
      "source": [
        "mean= data['Years in current job'].mean()\n",
        "data['Years in current job'].fillna(mean, inplace=True)"
      ],
      "metadata": {
        "id": "OfvFppHzGH-j"
      },
      "execution_count": null,
      "outputs": []
    },
    {
      "cell_type": "markdown",
      "source": [
        "Maximum Open Credit"
      ],
      "metadata": {
        "id": "N3eqToYOVxHt"
      }
    },
    {
      "cell_type": "code",
      "source": [
        "sns.histplot(x= 'Maximum Open Credit',data =data)"
      ],
      "metadata": {
        "id": "WQpD-kskVWWC"
      },
      "execution_count": null,
      "outputs": []
    },
    {
      "cell_type": "markdown",
      "source": [
        "Use Median"
      ],
      "metadata": {
        "id": "ttdYrRpQVlT0"
      }
    },
    {
      "cell_type": "code",
      "source": [
        "median= data['Maximum Open Credit'].median()\n",
        "data['Maximum Open Credit'].fillna(median, inplace=True)"
      ],
      "metadata": {
        "id": "UirHH1gbViS5"
      },
      "execution_count": null,
      "outputs": []
    },
    {
      "cell_type": "code",
      "source": [
        "mean= data['Bankruptcies'].mean()\n",
        "data['Bankruptcies'].fillna(mean, inplace=True)"
      ],
      "metadata": {
        "id": "LL7ROK_8FF54"
      },
      "execution_count": null,
      "outputs": []
    },
    {
      "cell_type": "code",
      "source": [
        "sns.histplot(x= 'Bankruptcies',data =data)"
      ],
      "metadata": {
        "id": "l-23Ei9Ft7Qy"
      },
      "execution_count": null,
      "outputs": []
    },
    {
      "cell_type": "markdown",
      "source": [
        "It's better to use median."
      ],
      "metadata": {
        "id": "z0DH5d3et-Hg"
      }
    },
    {
      "cell_type": "code",
      "source": [
        "median=data['Bankruptcies'].median()\n",
        "data['Bankruptcies'].fillna(mean, inplace=True)"
      ],
      "metadata": {
        "id": "q-Fhmoi0JisM"
      },
      "execution_count": null,
      "outputs": []
    },
    {
      "cell_type": "markdown",
      "source": [
        "Tax Liens"
      ],
      "metadata": {
        "id": "kme6EP4ZFmGz"
      }
    },
    {
      "cell_type": "code",
      "source": [
        "sns.histplot(x= 'Tax Liens',data =data)"
      ],
      "metadata": {
        "id": "oSXb2IMiuAHM"
      },
      "execution_count": null,
      "outputs": []
    },
    {
      "cell_type": "markdown",
      "source": [
        "It's better to use mode."
      ],
      "metadata": {
        "id": "GUdZNCdLuEHJ"
      }
    },
    {
      "cell_type": "code",
      "source": [
        "mean=data['Tax Liens'].mean()\n",
        "data['Tax Liens'].fillna(mean, inplace=True)"
      ],
      "metadata": {
        "id": "3K7gz0KBFfkj"
      },
      "execution_count": null,
      "outputs": []
    },
    {
      "cell_type": "code",
      "source": [
        "data.isnull().sum()"
      ],
      "metadata": {
        "id": "S9Lywns8v7kk"
      },
      "execution_count": null,
      "outputs": []
    },
    {
      "cell_type": "markdown",
      "source": [
        "Data Visualization"
      ],
      "metadata": {
        "id": "-vkKy3CePPee"
      }
    },
    {
      "cell_type": "code",
      "source": [
        "plt.figure(figsize=(6,6))\n",
        "plt.pie(x=data['Term'].value_counts(),labels=['short term','long term'])\n",
        "plt.title('Time Period of Taking Loan')\n",
        "plt.show()"
      ],
      "metadata": {
        "id": "wcyK54F5x2mV"
      },
      "execution_count": null,
      "outputs": []
    },
    {
      "cell_type": "code",
      "source": [
        "plt.figure(figsize=(12,5))\n",
        "sns.countplot(x='Home Ownership',data=data,hue='Loan Status')\n",
        "plt.title('Own Property vs Loan Status',fontdict={'fontsize':20})\n",
        "plt.show()"
      ],
      "metadata": {
        "id": "zviwLYUfyGPz"
      },
      "execution_count": null,
      "outputs": []
    },
    {
      "cell_type": "code",
      "source": [
        "plt.figure(figsize=(12,4))\n",
        "sns.countplot(x='Purpose',data=data,hue='Loan Status')\n",
        "plt.xticks(rotation=90)\n",
        "plt.title('Purpose of taking Loan',fontdict={'fontsize':20})\n",
        "plt.show()"
      ],
      "metadata": {
        "id": "x6a9Dz0iuV7V"
      },
      "execution_count": null,
      "outputs": []
    },
    {
      "cell_type": "markdown",
      "source": [
        "Most loan borrowers take loan because of debt consolidation"
      ],
      "metadata": {
        "id": "cvNPZlmdZXI8"
      }
    }
  ]
}