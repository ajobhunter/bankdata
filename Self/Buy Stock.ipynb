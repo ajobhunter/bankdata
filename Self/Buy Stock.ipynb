{
  "nbformat": 4,
  "nbformat_minor": 0,
  "metadata": {
    "colab": {
      "provenance": [],
      "authorship_tag": "ABX9TyO8UfpcidbowQhfxJwYcFbX",
      "include_colab_link": true
    },
    "kernelspec": {
      "name": "python3",
      "display_name": "Python 3"
    },
    "language_info": {
      "name": "python"
    }
  },
  "cells": [
    {
      "cell_type": "markdown",
      "metadata": {
        "id": "view-in-github",
        "colab_type": "text"
      },
      "source": [
        "<a href=\"https://colab.research.google.com/github/freetocode/tingting/blob/master/Self/Buy%20Stock.ipynb\" target=\"_parent\"><img src=\"https://colab.research.google.com/assets/colab-badge.svg\" alt=\"Open In Colab\"/></a>"
      ]
    },
    {
      "cell_type": "code",
      "source": [
        "import yfinance as yf\n",
        "\n",
        "def calculate_rsi(data, window=14):\n",
        "    delta = data['Close'].diff()\n",
        "    gain = delta.mask(delta < 0, 0)\n",
        "    loss = -delta.mask(delta > 0, 0)\n",
        "    avg_gain = gain.rolling(window).mean()\n",
        "    avg_loss = loss.rolling(window).mean()\n",
        "    relative_strength = avg_gain / avg_loss\n",
        "    rsi = 100 - (100 / (1 + relative_strength))\n",
        "    return rsi\n",
        "\n",
        "# Fetch historical price data for HSBC stock from Yahoo Finance\n",
        "hsbc = yf.Ticker(\"HSBC\")\n",
        "data = hsbc.history(period=\"1y\")\n",
        "\n",
        "# Print the stock data\n",
        "print(\"HSBC Stock Data:\")\n",
        "print(data)\n",
        "\n",
        "# Calculate the RSI\n",
        "data['RSI'] = calculate_rsi(data)\n",
        "\n",
        "# Check the most recent RSI value\n",
        "latest_rsi = data['RSI'].iloc[-1]\n",
        "\n",
        "# Define the RSI thresholds for buying and selling\n",
        "rsi_buy_threshold = 30\n",
        "rsi_sell_threshold = 70\n",
        "\n",
        "# Perform the buy/sell decision based on the RSI\n",
        "if latest_rsi < rsi_buy_threshold:\n",
        "    print(\"\\nBuy HSBC stock\")\n",
        "elif latest_rsi > rsi_sell_threshold:\n",
        "    print(\"\\nSell HSBC stock\")\n",
        "else:\n",
        "    print(\"\\nDo not take any action\")\n",
        "\n",
        "# Get the latest stock information\n",
        "latest_info = hsbc.info\n",
        "print(\"\\nLatest HSBC Stock Information:\")\n",
        "print(\"------------------------------\")\n",
        "print(\"Symbol:\", latest_info['symbol'])\n",
        "print(\"Current Price:\", latest_info['currentPrice'])\n",
        "print(\"Previous Close:\", latest_info['regularMarketPreviousClose'])\n",
        "print(\"Volume:\", latest_info['regularMarketVolume'])"
      ],
      "metadata": {
        "colab": {
          "base_uri": "https://localhost:8080/"
        },
        "id": "BXPmr2etm5KV",
        "outputId": "235378a8-2579-4e55-be39-aaa3a108fb38"
      },
      "execution_count": null,
      "outputs": [
        {
          "output_type": "stream",
          "name": "stdout",
          "text": [
            "HSBC Stock Data:\n",
            "                                Open       High        Low      Close  \\\n",
            "Date                                                                    \n",
            "2023-02-24 00:00:00-05:00  35.313099  35.537014  35.294442  35.471706   \n",
            "2023-02-27 00:00:00-05:00  35.518355  35.639643  35.397067  35.434387   \n",
            "2023-02-28 00:00:00-05:00  35.994179  36.003507  35.723615  35.742275   \n",
            "2023-03-01 00:00:00-05:00  35.807578  35.947523  35.676963  35.779587   \n",
            "2023-03-02 00:00:00-05:00  35.481429  35.616083  35.221738  35.558376   \n",
            "...                              ...        ...        ...        ...   \n",
            "2024-02-16 00:00:00-05:00  40.240002  40.459999  40.099998  40.320000   \n",
            "2024-02-20 00:00:00-05:00  40.730000  40.930000  40.709999  40.849998   \n",
            "2024-02-21 00:00:00-05:00  37.490002  37.639999  37.110001  37.220001   \n",
            "2024-02-22 00:00:00-05:00  37.410000  37.770000  37.340000  37.709999   \n",
            "2024-02-23 00:00:00-05:00  38.169998  38.310001  38.049999  38.200001   \n",
            "\n",
            "                            Volume  Dividends  Stock Splits  \n",
            "Date                                                         \n",
            "2023-02-24 00:00:00-05:00  1695600       0.00           0.0  \n",
            "2023-02-27 00:00:00-05:00  2037100       0.00           0.0  \n",
            "2023-02-28 00:00:00-05:00  2455800       0.00           0.0  \n",
            "2023-03-01 00:00:00-05:00  3010800       0.00           0.0  \n",
            "2023-03-02 00:00:00-05:00  2147900       1.15           0.0  \n",
            "...                            ...        ...           ...  \n",
            "2024-02-16 00:00:00-05:00  1823900       0.00           0.0  \n",
            "2024-02-20 00:00:00-05:00  1727400       0.00           0.0  \n",
            "2024-02-21 00:00:00-05:00  8243300       0.00           0.0  \n",
            "2024-02-22 00:00:00-05:00  4341500       0.00           0.0  \n",
            "2024-02-23 00:00:00-05:00  2315500       0.00           0.0  \n",
            "\n",
            "[251 rows x 7 columns]\n",
            "\n",
            "Do not take any action\n",
            "\n",
            "Latest HSBC Stock Information:\n",
            "------------------------------\n",
            "Symbol: HSBC\n",
            "Current Price: 38.2\n",
            "Previous Close: 37.71\n",
            "Volume: 2315603\n"
          ]
        }
      ]
    },
    {
      "cell_type": "code",
      "source": [
        "print(\"Test\")"
      ],
      "metadata": {
        "colab": {
          "base_uri": "https://localhost:8080/"
        },
        "id": "KGR5rPCqxNA6",
        "outputId": "8b7b2c89-e6f0-4916-d05a-e133487786e1"
      },
      "execution_count": 2,
      "outputs": [
        {
          "output_type": "stream",
          "name": "stdout",
          "text": [
            "Test\n"
          ]
        }
      ]
    }
  ]
}